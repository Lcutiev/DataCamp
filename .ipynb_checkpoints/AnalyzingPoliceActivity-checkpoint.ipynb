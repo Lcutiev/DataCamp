{
 "cells": [
  {
   "cell_type": "markdown",
   "id": "6cd0c39b-49ac-4a9c-a19a-e1047a9652c6",
   "metadata": {},
   "source": [
    "# 1. Preparing the data for analysis"
   ]
  },
  {
   "cell_type": "markdown",
   "id": "928d1010-e203-4bd1-bc86-d42cc4cd4808",
   "metadata": {},
   "source": [
    "## Examining the dataset"
   ]
  },
  {
   "cell_type": "code",
   "execution_count": 1,
   "id": "eb30961e-14d2-4903-a80f-e388f60ec225",
   "metadata": {},
   "outputs": [
    {
     "name": "stdout",
     "output_type": "stream",
     "text": [
      "<class 'pandas.core.frame.DataFrame'>\n",
      "RangeIndex: 91741 entries, 0 to 91740\n",
      "Data columns (total 15 columns):\n",
      " #   Column              Non-Null Count  Dtype  \n",
      "---  ------              --------------  -----  \n",
      " 0   state               91741 non-null  object \n",
      " 1   stop_date           91741 non-null  object \n",
      " 2   stop_time           91741 non-null  object \n",
      " 3   county_name         0 non-null      float64\n",
      " 4   driver_gender       86536 non-null  object \n",
      " 5   driver_race         86539 non-null  object \n",
      " 6   violation_raw       86539 non-null  object \n",
      " 7   violation           86539 non-null  object \n",
      " 8   search_conducted    91741 non-null  bool   \n",
      " 9   search_type         3307 non-null   object \n",
      " 10  stop_outcome        86539 non-null  object \n",
      " 11  is_arrested         86539 non-null  object \n",
      " 12  stop_duration       86539 non-null  object \n",
      " 13  drugs_related_stop  91741 non-null  bool   \n",
      " 14  district            91741 non-null  object \n",
      "dtypes: bool(2), float64(1), object(12)\n",
      "memory usage: 9.3+ MB\n"
     ]
    },
    {
     "data": {
      "text/plain": [
       "(91741, 15)"
      ]
     },
     "execution_count": 1,
     "metadata": {},
     "output_type": "execute_result"
    }
   ],
   "source": [
    "# import the pandas library as pd\n",
    "import pandas as pd\n",
    "\n",
    "# read 'police.csv' into a DataFrame named pl\n",
    "pl = pd.read_csv('police.csv')\n",
    "\n",
    "# examine the head of the DataFrame\n",
    "pl.head()\n",
    "\n",
    "# examine the basic info of the DataFrame\n",
    "pl.info()\n",
    "\n",
    "# examine the shape of the DataFrame\n",
    "pl.shape"
   ]
  },
  {
   "cell_type": "code",
   "execution_count": 2,
   "id": "5078d40c-8110-4755-92e8-c93bd40775c5",
   "metadata": {},
   "outputs": [
    {
     "data": {
      "text/plain": [
       "state                     0\n",
       "stop_date                 0\n",
       "stop_time                 0\n",
       "county_name           91741\n",
       "driver_gender          5205\n",
       "driver_race            5202\n",
       "violation_raw          5202\n",
       "violation              5202\n",
       "search_conducted          0\n",
       "search_type           88434\n",
       "stop_outcome           5202\n",
       "is_arrested            5202\n",
       "stop_duration          5202\n",
       "drugs_related_stop        0\n",
       "district                  0\n",
       "dtype: int64"
      ]
     },
     "execution_count": 2,
     "metadata": {},
     "output_type": "execute_result"
    }
   ],
   "source": [
    "# count the number of missing values in each column\n",
    "pl.isnull().sum()"
   ]
  },
  {
   "cell_type": "markdown",
   "id": "97ed1701-dd08-4cee-9411-6c8a9420aa46",
   "metadata": {},
   "source": [
    "## Dropping columns"
   ]
  },
  {
   "cell_type": "code",
   "execution_count": 3,
   "id": "94077355-475b-4be0-83ef-1ca119b90b7f",
   "metadata": {},
   "outputs": [
    {
     "data": {
      "text/plain": [
       "(91741, 15)"
      ]
     },
     "execution_count": 3,
     "metadata": {},
     "output_type": "execute_result"
    }
   ],
   "source": [
    "pl.shape"
   ]
  },
  {
   "cell_type": "markdown",
   "id": "d17e3e60-12fe-4459-8be7-d1ee17be35e8",
   "metadata": {},
   "source": [
    ">\n",
    "- drop columns that are not useful, contain no useful information, missing values\n",
    "- drop the state column because all of the traffic stops took place in one state\n",
    "- make it easier to focus on the remaining columns\n"
   ]
  },
  {
   "cell_type": "code",
   "execution_count": 4,
   "id": "42ca5efb-44c8-4184-ab5b-f7f7ccc61ec8",
   "metadata": {},
   "outputs": [
    {
     "data": {
      "text/plain": [
       "(91741, 13)"
      ]
     },
     "execution_count": 4,
     "metadata": {},
     "output_type": "execute_result"
    }
   ],
   "source": [
    "# Drop the 'county_name' and 'state' columns\n",
    "# axis = 1 or axis ='olumns'\n",
    "pl.drop(['state', 'county_name'], axis=1, inplace=True)\n",
    "# Examine the shape of the DataFrame (again)\n",
    "pl.shape"
   ]
  },
  {
   "cell_type": "code",
   "execution_count": null,
   "id": "f761661a-28ed-486a-88ee-167f747152bd",
   "metadata": {},
   "outputs": [],
   "source": []
  }
 ],
 "metadata": {
  "kernelspec": {
   "display_name": "Python 3 (ipykernel)",
   "language": "python",
   "name": "python3"
  },
  "language_info": {
   "codemirror_mode": {
    "name": "ipython",
    "version": 3
   },
   "file_extension": ".py",
   "mimetype": "text/x-python",
   "name": "python",
   "nbconvert_exporter": "python",
   "pygments_lexer": "ipython3",
   "version": "3.9.7"
  }
 },
 "nbformat": 4,
 "nbformat_minor": 5
}
