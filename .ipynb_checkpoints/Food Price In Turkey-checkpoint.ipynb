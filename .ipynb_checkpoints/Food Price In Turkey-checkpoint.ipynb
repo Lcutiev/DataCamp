{
 "cells": [
  {
   "cell_type": "markdown",
   "id": "b77f0677-16e4-40ba-ab1f-2c61cc4a8243",
   "metadata": {},
   "source": [
    "## **Mô tả**\n",
    "Bộ dữ liệu FoodPrice_in_Turkey chứa dữ liệu chứa dữ liệu về giá cả các mặt hàng thực phẩm tại Turkey, các thông tin được thống kê bao gồm:\n",
    "\n",
    "Place\tProductId\tProductName\tUmId\tUmName\tMonth\tYear\tPrice\n",
    "+ Place: Nơi bán\n",
    "+ ProductID: Mã sản phẩm\n",
    "+ ProductName: Tên sản phẩm\n",
    "+ UmId: Mã đơn vị đo lường\n",
    "+ UmName: Tên đơn vị đo lường\n",
    "+ Month: Tháng\n",
    "+ Year: Năm\n",
    "+ Price: Giá\n",
    "\n",
    "Hãy đưa bộ dữ liệu vào phân tích và giải đáp các thắc mắc sau:\n",
    "\n",
    "+ Bộ dữ liệu chứa bao nhiêu dòng, bao nhiêu cột\n",
    "+ Thang đo tương ứng của các thuộc tính được lưu trữ\n",
    "+ Giá trung bình của từng loại thực phẩm là bao nhiêu\n",
    "+ Đề xuất những loại phân tích mà bạn muốn biết mà bộ dữ liệu này có thể cung cấp"
   ]
  },
  {
   "cell_type": "code",
   "execution_count": 1,
   "id": "2208423f-aafa-4b11-91ba-d2e1415598e2",
   "metadata": {},
   "outputs": [],
   "source": [
    "import pandas as pd\n",
    "import numpy as np\n",
    "import matplotlib.pyplot as plt\n",
    "import seaborn as sns"
   ]
  },
  {
   "cell_type": "code",
   "execution_count": 2,
   "id": "642dfb31-a236-4104-87a3-cb4e52f758a9",
   "metadata": {},
   "outputs": [],
   "source": [
    "fp = pd.read_csv('FoodPrice_in_Turkey.csv')"
   ]
  },
  {
   "cell_type": "code",
   "execution_count": 3,
   "id": "613f89c9-3932-4166-9021-b2f37020ce8f",
   "metadata": {},
   "outputs": [
    {
     "data": {
      "text/html": [
       "<div>\n",
       "<style scoped>\n",
       "    .dataframe tbody tr th:only-of-type {\n",
       "        vertical-align: middle;\n",
       "    }\n",
       "\n",
       "    .dataframe tbody tr th {\n",
       "        vertical-align: top;\n",
       "    }\n",
       "\n",
       "    .dataframe thead th {\n",
       "        text-align: right;\n",
       "    }\n",
       "</style>\n",
       "<table border=\"1\" class=\"dataframe\">\n",
       "  <thead>\n",
       "    <tr style=\"text-align: right;\">\n",
       "      <th></th>\n",
       "      <th>Place</th>\n",
       "      <th>ProductId</th>\n",
       "      <th>ProductName</th>\n",
       "      <th>UmId</th>\n",
       "      <th>UmName</th>\n",
       "      <th>Month</th>\n",
       "      <th>Year</th>\n",
       "      <th>Price</th>\n",
       "    </tr>\n",
       "  </thead>\n",
       "  <tbody>\n",
       "    <tr>\n",
       "      <th>0</th>\n",
       "      <td>National Average</td>\n",
       "      <td>52</td>\n",
       "      <td>Rice - Retail</td>\n",
       "      <td>5</td>\n",
       "      <td>KG</td>\n",
       "      <td>5</td>\n",
       "      <td>2013</td>\n",
       "      <td>4.4920</td>\n",
       "    </tr>\n",
       "    <tr>\n",
       "      <th>1</th>\n",
       "      <td>National Average</td>\n",
       "      <td>52</td>\n",
       "      <td>Rice - Retail</td>\n",
       "      <td>5</td>\n",
       "      <td>KG</td>\n",
       "      <td>6</td>\n",
       "      <td>2013</td>\n",
       "      <td>4.5786</td>\n",
       "    </tr>\n",
       "    <tr>\n",
       "      <th>2</th>\n",
       "      <td>National Average</td>\n",
       "      <td>52</td>\n",
       "      <td>Rice - Retail</td>\n",
       "      <td>5</td>\n",
       "      <td>KG</td>\n",
       "      <td>11</td>\n",
       "      <td>2013</td>\n",
       "      <td>4.7865</td>\n",
       "    </tr>\n",
       "    <tr>\n",
       "      <th>3</th>\n",
       "      <td>National Average</td>\n",
       "      <td>52</td>\n",
       "      <td>Rice - Retail</td>\n",
       "      <td>5</td>\n",
       "      <td>KG</td>\n",
       "      <td>12</td>\n",
       "      <td>2013</td>\n",
       "      <td>5.1337</td>\n",
       "    </tr>\n",
       "    <tr>\n",
       "      <th>4</th>\n",
       "      <td>National Average</td>\n",
       "      <td>52</td>\n",
       "      <td>Rice - Retail</td>\n",
       "      <td>5</td>\n",
       "      <td>KG</td>\n",
       "      <td>1</td>\n",
       "      <td>2014</td>\n",
       "      <td>5.5099</td>\n",
       "    </tr>\n",
       "  </tbody>\n",
       "</table>\n",
       "</div>"
      ],
      "text/plain": [
       "              Place  ProductId    ProductName  UmId UmName  Month  Year  \\\n",
       "0  National Average         52  Rice - Retail     5     KG      5  2013   \n",
       "1  National Average         52  Rice - Retail     5     KG      6  2013   \n",
       "2  National Average         52  Rice - Retail     5     KG     11  2013   \n",
       "3  National Average         52  Rice - Retail     5     KG     12  2013   \n",
       "4  National Average         52  Rice - Retail     5     KG      1  2014   \n",
       "\n",
       "    Price  \n",
       "0  4.4920  \n",
       "1  4.5786  \n",
       "2  4.7865  \n",
       "3  5.1337  \n",
       "4  5.5099  "
      ]
     },
     "execution_count": 3,
     "metadata": {},
     "output_type": "execute_result"
    }
   ],
   "source": [
    "fp.head()"
   ]
  },
  {
   "cell_type": "code",
   "execution_count": 4,
   "id": "a533825e-01d7-4816-8e56-4814c94eac83",
   "metadata": {},
   "outputs": [
    {
     "name": "stdout",
     "output_type": "stream",
     "text": [
      "<class 'pandas.core.frame.DataFrame'>\n",
      "RangeIndex: 7381 entries, 0 to 7380\n",
      "Data columns (total 8 columns):\n",
      " #   Column       Non-Null Count  Dtype  \n",
      "---  ------       --------------  -----  \n",
      " 0   Place        7381 non-null   object \n",
      " 1   ProductId    7381 non-null   int64  \n",
      " 2   ProductName  7381 non-null   object \n",
      " 3   UmId         7381 non-null   int64  \n",
      " 4   UmName       7381 non-null   object \n",
      " 5   Month        7381 non-null   int64  \n",
      " 6   Year         7381 non-null   int64  \n",
      " 7   Price        7381 non-null   float64\n",
      "dtypes: float64(1), int64(4), object(3)\n",
      "memory usage: 461.4+ KB\n"
     ]
    }
   ],
   "source": [
    "fp.info()"
   ]
  },
  {
   "cell_type": "markdown",
   "id": "854ca66d-6a4c-411f-a8c5-bcb03e90d87f",
   "metadata": {},
   "source": [
    "- Bộ dữ liệu chứa 7381 dòng, 8 cột\n",
    "\n",
    "Nhận diện thang đo cho từng biến quan sát\n",
    "\n",
    "- Place, ProductName, UmName: có kiểu object –> norminal attribute\n",
    "- Month, Year: là dữ liệu dạng số nguyên (int64) mô tả tháng, năm. Quan sát, những thuộc tính này chỉ dùng để định danh, phân biệt giữa tháng, năm khác nhau –> norminal attribute\n",
    "- ProductId, UmId mặc dù có kiểu số (int64), nhưng các con số này chỉ có ý nghĩa phân biệt khách hàng này với khách hàng khác –> thuộc tính định danh\n",
    "- Price: thuộc tính định lượng, thang đo ratio"
   ]
  },
  {
   "cell_type": "markdown",
   "id": "58c1657e-6899-4294-a95a-7533aaab2560",
   "metadata": {},
   "source": [
    "### **Chỉnh sửa cấu trúc bộ dữ liệu**"
   ]
  },
  {
   "cell_type": "code",
   "execution_count": 8,
   "id": "7a484e74-e762-4a8f-a278-78247e83d7fd",
   "metadata": {},
   "outputs": [
    {
     "data": {
      "text/html": [
       "<div>\n",
       "<style scoped>\n",
       "    .dataframe tbody tr th:only-of-type {\n",
       "        vertical-align: middle;\n",
       "    }\n",
       "\n",
       "    .dataframe tbody tr th {\n",
       "        vertical-align: top;\n",
       "    }\n",
       "\n",
       "    .dataframe thead th {\n",
       "        text-align: right;\n",
       "    }\n",
       "</style>\n",
       "<table border=\"1\" class=\"dataframe\">\n",
       "  <thead>\n",
       "    <tr style=\"text-align: right;\">\n",
       "      <th></th>\n",
       "      <th>Địa điểm</th>\n",
       "      <th>ProductId</th>\n",
       "      <th>Tên SP</th>\n",
       "      <th>UmId</th>\n",
       "      <th>UmName</th>\n",
       "      <th>Month</th>\n",
       "      <th>Year</th>\n",
       "      <th>Price</th>\n",
       "      <th>Giảm giá</th>\n",
       "    </tr>\n",
       "  </thead>\n",
       "  <tbody>\n",
       "    <tr>\n",
       "      <th>0</th>\n",
       "      <td>National Average</td>\n",
       "      <td>52</td>\n",
       "      <td>Rice - Retail</td>\n",
       "      <td>5</td>\n",
       "      <td>KG</td>\n",
       "      <td>5</td>\n",
       "      <td>2013</td>\n",
       "      <td>4.4920</td>\n",
       "      <td>10%</td>\n",
       "    </tr>\n",
       "    <tr>\n",
       "      <th>1</th>\n",
       "      <td>National Average</td>\n",
       "      <td>52</td>\n",
       "      <td>Rice - Retail</td>\n",
       "      <td>5</td>\n",
       "      <td>KG</td>\n",
       "      <td>6</td>\n",
       "      <td>2013</td>\n",
       "      <td>4.5786</td>\n",
       "      <td>10%</td>\n",
       "    </tr>\n",
       "    <tr>\n",
       "      <th>2</th>\n",
       "      <td>National Average</td>\n",
       "      <td>52</td>\n",
       "      <td>Rice - Retail</td>\n",
       "      <td>5</td>\n",
       "      <td>KG</td>\n",
       "      <td>11</td>\n",
       "      <td>2013</td>\n",
       "      <td>4.7865</td>\n",
       "      <td>10%</td>\n",
       "    </tr>\n",
       "    <tr>\n",
       "      <th>3</th>\n",
       "      <td>National Average</td>\n",
       "      <td>52</td>\n",
       "      <td>Rice - Retail</td>\n",
       "      <td>5</td>\n",
       "      <td>KG</td>\n",
       "      <td>12</td>\n",
       "      <td>2013</td>\n",
       "      <td>5.1337</td>\n",
       "      <td>10%</td>\n",
       "    </tr>\n",
       "    <tr>\n",
       "      <th>4</th>\n",
       "      <td>National Average</td>\n",
       "      <td>52</td>\n",
       "      <td>Rice - Retail</td>\n",
       "      <td>5</td>\n",
       "      <td>KG</td>\n",
       "      <td>1</td>\n",
       "      <td>2014</td>\n",
       "      <td>5.5099</td>\n",
       "      <td>10%</td>\n",
       "    </tr>\n",
       "  </tbody>\n",
       "</table>\n",
       "</div>"
      ],
      "text/plain": [
       "           Địa điểm  ProductId         Tên SP  UmId UmName  Month  Year  \\\n",
       "0  National Average         52  Rice - Retail     5     KG      5  2013   \n",
       "1  National Average         52  Rice - Retail     5     KG      6  2013   \n",
       "2  National Average         52  Rice - Retail     5     KG     11  2013   \n",
       "3  National Average         52  Rice - Retail     5     KG     12  2013   \n",
       "4  National Average         52  Rice - Retail     5     KG      1  2014   \n",
       "\n",
       "    Price Giảm giá  \n",
       "0  4.4920      10%  \n",
       "1  4.5786      10%  \n",
       "2  4.7865      10%  \n",
       "3  5.1337      10%  \n",
       "4  5.5099      10%  "
      ]
     },
     "execution_count": 8,
     "metadata": {},
     "output_type": "execute_result"
    }
   ],
   "source": [
    "# Đổi tên cột thuộc tính, inplace = True đổi tiếp trên dữ liệu gốc mà không phải tạo bản sao\n",
    "fp.rename(columns={\"Place\": \"Địa điểm\", \"ProductName\": \"Tên SP\"},inplace=True)\n",
    "fp.head()"
   ]
  },
  {
   "cell_type": "code",
   "execution_count": 9,
   "id": "0985bba8-2b3d-496e-b3b8-f852b0e0d23f",
   "metadata": {},
   "outputs": [
    {
     "data": {
      "text/html": [
       "<div>\n",
       "<style scoped>\n",
       "    .dataframe tbody tr th:only-of-type {\n",
       "        vertical-align: middle;\n",
       "    }\n",
       "\n",
       "    .dataframe tbody tr th {\n",
       "        vertical-align: top;\n",
       "    }\n",
       "\n",
       "    .dataframe thead th {\n",
       "        text-align: right;\n",
       "    }\n",
       "</style>\n",
       "<table border=\"1\" class=\"dataframe\">\n",
       "  <thead>\n",
       "    <tr style=\"text-align: right;\">\n",
       "      <th></th>\n",
       "      <th>Địa điểm</th>\n",
       "      <th>ProductId</th>\n",
       "      <th>Tên SP</th>\n",
       "      <th>UmId</th>\n",
       "      <th>UmName</th>\n",
       "      <th>Month</th>\n",
       "      <th>Year</th>\n",
       "      <th>Price</th>\n",
       "      <th>Giảm giá</th>\n",
       "    </tr>\n",
       "  </thead>\n",
       "  <tbody>\n",
       "    <tr>\n",
       "      <th>0</th>\n",
       "      <td>National Average</td>\n",
       "      <td>52</td>\n",
       "      <td>Rice - Retail</td>\n",
       "      <td>5</td>\n",
       "      <td>KG</td>\n",
       "      <td>5</td>\n",
       "      <td>2013</td>\n",
       "      <td>4.4920</td>\n",
       "      <td>10%</td>\n",
       "    </tr>\n",
       "    <tr>\n",
       "      <th>1</th>\n",
       "      <td>National Average</td>\n",
       "      <td>52</td>\n",
       "      <td>Rice - Retail</td>\n",
       "      <td>5</td>\n",
       "      <td>KG</td>\n",
       "      <td>6</td>\n",
       "      <td>2013</td>\n",
       "      <td>4.5786</td>\n",
       "      <td>10%</td>\n",
       "    </tr>\n",
       "    <tr>\n",
       "      <th>2</th>\n",
       "      <td>National Average</td>\n",
       "      <td>52</td>\n",
       "      <td>Rice - Retail</td>\n",
       "      <td>5</td>\n",
       "      <td>KG</td>\n",
       "      <td>11</td>\n",
       "      <td>2013</td>\n",
       "      <td>4.7865</td>\n",
       "      <td>10%</td>\n",
       "    </tr>\n",
       "    <tr>\n",
       "      <th>3</th>\n",
       "      <td>National Average</td>\n",
       "      <td>52</td>\n",
       "      <td>Rice - Retail</td>\n",
       "      <td>5</td>\n",
       "      <td>KG</td>\n",
       "      <td>12</td>\n",
       "      <td>2013</td>\n",
       "      <td>5.1337</td>\n",
       "      <td>10%</td>\n",
       "    </tr>\n",
       "    <tr>\n",
       "      <th>4</th>\n",
       "      <td>National Average</td>\n",
       "      <td>52</td>\n",
       "      <td>Rice - Retail</td>\n",
       "      <td>5</td>\n",
       "      <td>KG</td>\n",
       "      <td>1</td>\n",
       "      <td>2014</td>\n",
       "      <td>5.5099</td>\n",
       "      <td>10%</td>\n",
       "    </tr>\n",
       "  </tbody>\n",
       "</table>\n",
       "</div>"
      ],
      "text/plain": [
       "           Địa điểm  ProductId         Tên SP  UmId UmName  Month  Year  \\\n",
       "0  National Average         52  Rice - Retail     5     KG      5  2013   \n",
       "1  National Average         52  Rice - Retail     5     KG      6  2013   \n",
       "2  National Average         52  Rice - Retail     5     KG     11  2013   \n",
       "3  National Average         52  Rice - Retail     5     KG     12  2013   \n",
       "4  National Average         52  Rice - Retail     5     KG      1  2014   \n",
       "\n",
       "    Price Giảm giá  \n",
       "0  4.4920      10%  \n",
       "1  4.5786      10%  \n",
       "2  4.7865      10%  \n",
       "3  5.1337      10%  \n",
       "4  5.5099      10%  "
      ]
     },
     "execution_count": 9,
     "metadata": {},
     "output_type": "execute_result"
    }
   ],
   "source": [
    "# Thêm cột giảm giá 10% cho tất cả các bản ghi\n",
    "fp['Giảm giá'] = '10%'\n",
    "fp.head()"
   ]
  },
  {
   "cell_type": "code",
   "execution_count": 10,
   "id": "530f4132-2218-40b6-a73a-ffa1dd48ccf4",
   "metadata": {},
   "outputs": [
    {
     "data": {
      "text/plain": [
       "dtype('O')"
      ]
     },
     "execution_count": 10,
     "metadata": {},
     "output_type": "execute_result"
    }
   ],
   "source": [
    "fp['Giảm giá'].dtypes"
   ]
  },
  {
   "cell_type": "code",
   "execution_count": null,
   "id": "224d0289-5c02-4f92-a979-ce04c0b571cf",
   "metadata": {},
   "outputs": [],
   "source": [
    "pd.DataFrame"
   ]
  },
  {
   "cell_type": "markdown",
   "id": "6e405a46-4c53-47d0-aab9-b9d03da54079",
   "metadata": {},
   "source": [
    "### **Giá trung bình của từng loại thực phẩm là bao nhiêu**"
   ]
  },
  {
   "cell_type": "code",
   "execution_count": null,
   "id": "70b9cc78-1856-436c-bc63-4f318a94a10e",
   "metadata": {},
   "outputs": [],
   "source": [
    "# Hint: sử dụng groupby và mean để tính giá trung bình của từng loại thực phẩm\n",
    "mean_productname = fp.groupby('ProductName').mean().sort_values(['Price', 'UmId'], ascending = False)\n",
    "mean_productname[['Price', 'UmId']].head(10)"
   ]
  },
  {
   "cell_type": "markdown",
   "id": "6b16b264-06ec-49f7-bcbc-69b201d17117",
   "metadata": {},
   "source": [
    "## **Sử dụng thư viện Seaborn để vẽ một số biểu đồ**"
   ]
  },
  {
   "cell_type": "code",
   "execution_count": 2,
   "id": "d33eb8cd-9fb9-44c6-9fd8-9e9ab2ceb9ef",
   "metadata": {},
   "outputs": [],
   "source": [
    "import pandas as pd\n",
    "import seaborn as sns"
   ]
  },
  {
   "cell_type": "code",
   "execution_count": 3,
   "id": "2b4b9f3e",
   "metadata": {},
   "outputs": [],
   "source": [
    "fp = pd.read_csv('FoodPrice_in_Turkey.csv')"
   ]
  },
  {
   "cell_type": "code",
   "execution_count": 4,
   "id": "7127b13f",
   "metadata": {
    "scrolled": true
   },
   "outputs": [
    {
     "data": {
      "text/html": [
       "<div>\n",
       "<style scoped>\n",
       "    .dataframe tbody tr th:only-of-type {\n",
       "        vertical-align: middle;\n",
       "    }\n",
       "\n",
       "    .dataframe tbody tr th {\n",
       "        vertical-align: top;\n",
       "    }\n",
       "\n",
       "    .dataframe thead th {\n",
       "        text-align: right;\n",
       "    }\n",
       "</style>\n",
       "<table border=\"1\" class=\"dataframe\">\n",
       "  <thead>\n",
       "    <tr style=\"text-align: right;\">\n",
       "      <th></th>\n",
       "      <th>Place</th>\n",
       "      <th>ProductId</th>\n",
       "      <th>ProductName</th>\n",
       "      <th>UmId</th>\n",
       "      <th>UmName</th>\n",
       "      <th>Month</th>\n",
       "      <th>Year</th>\n",
       "      <th>Price</th>\n",
       "    </tr>\n",
       "  </thead>\n",
       "  <tbody>\n",
       "    <tr>\n",
       "      <th>0</th>\n",
       "      <td>National Average</td>\n",
       "      <td>52</td>\n",
       "      <td>Rice - Retail</td>\n",
       "      <td>5</td>\n",
       "      <td>KG</td>\n",
       "      <td>5</td>\n",
       "      <td>2013</td>\n",
       "      <td>4.4920</td>\n",
       "    </tr>\n",
       "    <tr>\n",
       "      <th>1</th>\n",
       "      <td>National Average</td>\n",
       "      <td>52</td>\n",
       "      <td>Rice - Retail</td>\n",
       "      <td>5</td>\n",
       "      <td>KG</td>\n",
       "      <td>6</td>\n",
       "      <td>2013</td>\n",
       "      <td>4.5786</td>\n",
       "    </tr>\n",
       "    <tr>\n",
       "      <th>2</th>\n",
       "      <td>National Average</td>\n",
       "      <td>52</td>\n",
       "      <td>Rice - Retail</td>\n",
       "      <td>5</td>\n",
       "      <td>KG</td>\n",
       "      <td>11</td>\n",
       "      <td>2013</td>\n",
       "      <td>4.7865</td>\n",
       "    </tr>\n",
       "    <tr>\n",
       "      <th>3</th>\n",
       "      <td>National Average</td>\n",
       "      <td>52</td>\n",
       "      <td>Rice - Retail</td>\n",
       "      <td>5</td>\n",
       "      <td>KG</td>\n",
       "      <td>12</td>\n",
       "      <td>2013</td>\n",
       "      <td>5.1337</td>\n",
       "    </tr>\n",
       "    <tr>\n",
       "      <th>4</th>\n",
       "      <td>National Average</td>\n",
       "      <td>52</td>\n",
       "      <td>Rice - Retail</td>\n",
       "      <td>5</td>\n",
       "      <td>KG</td>\n",
       "      <td>1</td>\n",
       "      <td>2014</td>\n",
       "      <td>5.5099</td>\n",
       "    </tr>\n",
       "  </tbody>\n",
       "</table>\n",
       "</div>"
      ],
      "text/plain": [
       "              Place  ProductId    ProductName  UmId UmName  Month  Year  \\\n",
       "0  National Average         52  Rice - Retail     5     KG      5  2013   \n",
       "1  National Average         52  Rice - Retail     5     KG      6  2013   \n",
       "2  National Average         52  Rice - Retail     5     KG     11  2013   \n",
       "3  National Average         52  Rice - Retail     5     KG     12  2013   \n",
       "4  National Average         52  Rice - Retail     5     KG      1  2014   \n",
       "\n",
       "    Price  \n",
       "0  4.4920  \n",
       "1  4.5786  \n",
       "2  4.7865  \n",
       "3  5.1337  \n",
       "4  5.5099  "
      ]
     },
     "execution_count": 4,
     "metadata": {},
     "output_type": "execute_result"
    }
   ],
   "source": [
    "fp.head()"
   ]
  },
  {
   "cell_type": "code",
   "execution_count": 7,
   "id": "02906f1b",
   "metadata": {},
   "outputs": [
    {
     "data": {
      "text/plain": [
       "Place          0\n",
       "ProductId      0\n",
       "ProductName    0\n",
       "UmId           0\n",
       "UmName         0\n",
       "Month          0\n",
       "Year           0\n",
       "Price          0\n",
       "dtype: int64"
      ]
     },
     "execution_count": 7,
     "metadata": {},
     "output_type": "execute_result"
    }
   ],
   "source": [
    "fp.isna().sum()"
   ]
  },
  {
   "cell_type": "markdown",
   "id": "95835493",
   "metadata": {},
   "source": []
  },
  {
   "cell_type": "markdown",
   "id": "12d69055",
   "metadata": {},
   "source": [
    "### **Vẽ biểu đồ xu hướng**"
   ]
  },
  {
   "cell_type": "code",
   "execution_count": 9,
   "id": "89a08ea1",
   "metadata": {},
   "outputs": [
    {
     "data": {
      "text/plain": [
       "Rice - Retail                  174\n",
       "Onions - Retail                174\n",
       "Milk (pasteurized) - Retail    174\n",
       "Meat (veal) - Retail           174\n",
       "Fish (fresh) - Retail          174\n",
       "Name: ProductName, dtype: int64"
      ]
     },
     "execution_count": 9,
     "metadata": {},
     "output_type": "execute_result"
    }
   ],
   "source": [
    "fp.ProductName.value_counts().head()"
   ]
  },
  {
   "cell_type": "code",
   "execution_count": null,
   "id": "b33d3d65",
   "metadata": {},
   "outputs": [],
   "source": [
    "# Vẽ biểu đồ xu hướng giá gạo qua các năm"
   ]
  },
  {
   "cell_type": "code",
   "execution_count": 10,
   "id": "28ea3410",
   "metadata": {},
   "outputs": [
    {
     "data": {
      "text/html": [
       "<div>\n",
       "<style scoped>\n",
       "    .dataframe tbody tr th:only-of-type {\n",
       "        vertical-align: middle;\n",
       "    }\n",
       "\n",
       "    .dataframe tbody tr th {\n",
       "        vertical-align: top;\n",
       "    }\n",
       "\n",
       "    .dataframe thead th {\n",
       "        text-align: right;\n",
       "    }\n",
       "</style>\n",
       "<table border=\"1\" class=\"dataframe\">\n",
       "  <thead>\n",
       "    <tr style=\"text-align: right;\">\n",
       "      <th></th>\n",
       "      <th>Place</th>\n",
       "      <th>ProductId</th>\n",
       "      <th>ProductName</th>\n",
       "      <th>UmId</th>\n",
       "      <th>UmName</th>\n",
       "      <th>Month</th>\n",
       "      <th>Year</th>\n",
       "      <th>Price</th>\n",
       "    </tr>\n",
       "  </thead>\n",
       "  <tbody>\n",
       "    <tr>\n",
       "      <th>0</th>\n",
       "      <td>National Average</td>\n",
       "      <td>52</td>\n",
       "      <td>Rice - Retail</td>\n",
       "      <td>5</td>\n",
       "      <td>KG</td>\n",
       "      <td>5</td>\n",
       "      <td>2013</td>\n",
       "      <td>4.4920</td>\n",
       "    </tr>\n",
       "    <tr>\n",
       "      <th>1</th>\n",
       "      <td>National Average</td>\n",
       "      <td>52</td>\n",
       "      <td>Rice - Retail</td>\n",
       "      <td>5</td>\n",
       "      <td>KG</td>\n",
       "      <td>6</td>\n",
       "      <td>2013</td>\n",
       "      <td>4.5786</td>\n",
       "    </tr>\n",
       "    <tr>\n",
       "      <th>2</th>\n",
       "      <td>National Average</td>\n",
       "      <td>52</td>\n",
       "      <td>Rice - Retail</td>\n",
       "      <td>5</td>\n",
       "      <td>KG</td>\n",
       "      <td>11</td>\n",
       "      <td>2013</td>\n",
       "      <td>4.7865</td>\n",
       "    </tr>\n",
       "    <tr>\n",
       "      <th>3</th>\n",
       "      <td>National Average</td>\n",
       "      <td>52</td>\n",
       "      <td>Rice - Retail</td>\n",
       "      <td>5</td>\n",
       "      <td>KG</td>\n",
       "      <td>12</td>\n",
       "      <td>2013</td>\n",
       "      <td>5.1337</td>\n",
       "    </tr>\n",
       "    <tr>\n",
       "      <th>4</th>\n",
       "      <td>National Average</td>\n",
       "      <td>52</td>\n",
       "      <td>Rice - Retail</td>\n",
       "      <td>5</td>\n",
       "      <td>KG</td>\n",
       "      <td>1</td>\n",
       "      <td>2014</td>\n",
       "      <td>5.5099</td>\n",
       "    </tr>\n",
       "    <tr>\n",
       "      <th>...</th>\n",
       "      <td>...</td>\n",
       "      <td>...</td>\n",
       "      <td>...</td>\n",
       "      <td>...</td>\n",
       "      <td>...</td>\n",
       "      <td>...</td>\n",
       "      <td>...</td>\n",
       "      <td>...</td>\n",
       "    </tr>\n",
       "    <tr>\n",
       "      <th>5829</th>\n",
       "      <td>Izmir</td>\n",
       "      <td>52</td>\n",
       "      <td>Rice - Retail</td>\n",
       "      <td>5</td>\n",
       "      <td>KG</td>\n",
       "      <td>8</td>\n",
       "      <td>2019</td>\n",
       "      <td>10.3386</td>\n",
       "    </tr>\n",
       "    <tr>\n",
       "      <th>5830</th>\n",
       "      <td>Izmir</td>\n",
       "      <td>52</td>\n",
       "      <td>Rice - Retail</td>\n",
       "      <td>5</td>\n",
       "      <td>KG</td>\n",
       "      <td>9</td>\n",
       "      <td>2019</td>\n",
       "      <td>10.4043</td>\n",
       "    </tr>\n",
       "    <tr>\n",
       "      <th>5831</th>\n",
       "      <td>Izmir</td>\n",
       "      <td>52</td>\n",
       "      <td>Rice - Retail</td>\n",
       "      <td>5</td>\n",
       "      <td>KG</td>\n",
       "      <td>10</td>\n",
       "      <td>2019</td>\n",
       "      <td>10.1955</td>\n",
       "    </tr>\n",
       "    <tr>\n",
       "      <th>5832</th>\n",
       "      <td>Izmir</td>\n",
       "      <td>52</td>\n",
       "      <td>Rice - Retail</td>\n",
       "      <td>5</td>\n",
       "      <td>KG</td>\n",
       "      <td>11</td>\n",
       "      <td>2019</td>\n",
       "      <td>10.2719</td>\n",
       "    </tr>\n",
       "    <tr>\n",
       "      <th>5833</th>\n",
       "      <td>Izmir</td>\n",
       "      <td>52</td>\n",
       "      <td>Rice - Retail</td>\n",
       "      <td>5</td>\n",
       "      <td>KG</td>\n",
       "      <td>12</td>\n",
       "      <td>2019</td>\n",
       "      <td>10.2803</td>\n",
       "    </tr>\n",
       "  </tbody>\n",
       "</table>\n",
       "<p>174 rows × 8 columns</p>\n",
       "</div>"
      ],
      "text/plain": [
       "                 Place  ProductId    ProductName  UmId UmName  Month  Year  \\\n",
       "0     National Average         52  Rice - Retail     5     KG      5  2013   \n",
       "1     National Average         52  Rice - Retail     5     KG      6  2013   \n",
       "2     National Average         52  Rice - Retail     5     KG     11  2013   \n",
       "3     National Average         52  Rice - Retail     5     KG     12  2013   \n",
       "4     National Average         52  Rice - Retail     5     KG      1  2014   \n",
       "...                ...        ...            ...   ...    ...    ...   ...   \n",
       "5829             Izmir         52  Rice - Retail     5     KG      8  2019   \n",
       "5830             Izmir         52  Rice - Retail     5     KG      9  2019   \n",
       "5831             Izmir         52  Rice - Retail     5     KG     10  2019   \n",
       "5832             Izmir         52  Rice - Retail     5     KG     11  2019   \n",
       "5833             Izmir         52  Rice - Retail     5     KG     12  2019   \n",
       "\n",
       "        Price  \n",
       "0      4.4920  \n",
       "1      4.5786  \n",
       "2      4.7865  \n",
       "3      5.1337  \n",
       "4      5.5099  \n",
       "...       ...  \n",
       "5829  10.3386  \n",
       "5830  10.4043  \n",
       "5831  10.1955  \n",
       "5832  10.2719  \n",
       "5833  10.2803  \n",
       "\n",
       "[174 rows x 8 columns]"
      ]
     },
     "execution_count": 10,
     "metadata": {},
     "output_type": "execute_result"
    }
   ],
   "source": [
    "rice_fp = fp[fp.ProductName == 'Rice - Retail']\n",
    "rice_fp"
   ]
  },
  {
   "cell_type": "code",
   "execution_count": 11,
   "id": "9fa9ed06",
   "metadata": {},
   "outputs": [
    {
     "data": {
      "text/plain": [
       "<seaborn.axisgrid.FacetGrid at 0x1ffc100cac0>"
      ]
     },
     "execution_count": 11,
     "metadata": {},
     "output_type": "execute_result"
    },
    {
     "data": {
      "image/png": "[encoded data removed]",
      "text/plain": [
       "<Figure size 360x360 with 1 Axes>"
      ]
     },
     "metadata": {
      "needs_background": "light"
     },
     "output_type": "display_data"
    }
   ],
   "source": [
    "sns.lmplot(x='Year', y='Price', data=rice_fp)"
   ]
  },
  {
   "cell_type": "markdown",
   "id": "d4d3e233",
   "metadata": {},
   "source": [
    "**Nhận xét:**\n",
    "+ Có thể thấy rằng giá gạo tăng dần qua các năm"
   ]
  },
  {
   "cell_type": "code",
   "execution_count": 12,
   "id": "34d70bdc",
   "metadata": {},
   "outputs": [
    {
     "data": {
      "text/html": [
       "<div>\n",
       "<style scoped>\n",
       "    .dataframe tbody tr th:only-of-type {\n",
       "        vertical-align: middle;\n",
       "    }\n",
       "\n",
       "    .dataframe tbody tr th {\n",
       "        vertical-align: top;\n",
       "    }\n",
       "\n",
       "    .dataframe thead th {\n",
       "        text-align: right;\n",
       "    }\n",
       "</style>\n",
       "<table border=\"1\" class=\"dataframe\">\n",
       "  <thead>\n",
       "    <tr style=\"text-align: right;\">\n",
       "      <th></th>\n",
       "      <th>Place</th>\n",
       "      <th>ProductId</th>\n",
       "      <th>ProductName</th>\n",
       "      <th>UmId</th>\n",
       "      <th>UmName</th>\n",
       "      <th>Month</th>\n",
       "      <th>Year</th>\n",
       "      <th>Price</th>\n",
       "    </tr>\n",
       "  </thead>\n",
       "  <tbody>\n",
       "    <tr>\n",
       "      <th>0</th>\n",
       "      <td>National Average</td>\n",
       "      <td>52</td>\n",
       "      <td>Rice - Retail</td>\n",
       "      <td>5</td>\n",
       "      <td>KG</td>\n",
       "      <td>5</td>\n",
       "      <td>2013</td>\n",
       "      <td>4.4920</td>\n",
       "    </tr>\n",
       "    <tr>\n",
       "      <th>1</th>\n",
       "      <td>National Average</td>\n",
       "      <td>52</td>\n",
       "      <td>Rice - Retail</td>\n",
       "      <td>5</td>\n",
       "      <td>KG</td>\n",
       "      <td>6</td>\n",
       "      <td>2013</td>\n",
       "      <td>4.5786</td>\n",
       "    </tr>\n",
       "    <tr>\n",
       "      <th>2</th>\n",
       "      <td>National Average</td>\n",
       "      <td>52</td>\n",
       "      <td>Rice - Retail</td>\n",
       "      <td>5</td>\n",
       "      <td>KG</td>\n",
       "      <td>11</td>\n",
       "      <td>2013</td>\n",
       "      <td>4.7865</td>\n",
       "    </tr>\n",
       "    <tr>\n",
       "      <th>3</th>\n",
       "      <td>National Average</td>\n",
       "      <td>52</td>\n",
       "      <td>Rice - Retail</td>\n",
       "      <td>5</td>\n",
       "      <td>KG</td>\n",
       "      <td>12</td>\n",
       "      <td>2013</td>\n",
       "      <td>5.1337</td>\n",
       "    </tr>\n",
       "    <tr>\n",
       "      <th>4</th>\n",
       "      <td>National Average</td>\n",
       "      <td>52</td>\n",
       "      <td>Rice - Retail</td>\n",
       "      <td>5</td>\n",
       "      <td>KG</td>\n",
       "      <td>1</td>\n",
       "      <td>2014</td>\n",
       "      <td>5.5099</td>\n",
       "    </tr>\n",
       "    <tr>\n",
       "      <th>...</th>\n",
       "      <td>...</td>\n",
       "      <td>...</td>\n",
       "      <td>...</td>\n",
       "      <td>...</td>\n",
       "      <td>...</td>\n",
       "      <td>...</td>\n",
       "      <td>...</td>\n",
       "      <td>...</td>\n",
       "    </tr>\n",
       "    <tr>\n",
       "      <th>6757</th>\n",
       "      <td>Izmir</td>\n",
       "      <td>304</td>\n",
       "      <td>Transport (public) - Retail</td>\n",
       "      <td>55</td>\n",
       "      <td>Course</td>\n",
       "      <td>8</td>\n",
       "      <td>2019</td>\n",
       "      <td>3.1637</td>\n",
       "    </tr>\n",
       "    <tr>\n",
       "      <th>6758</th>\n",
       "      <td>Izmir</td>\n",
       "      <td>304</td>\n",
       "      <td>Transport (public) - Retail</td>\n",
       "      <td>55</td>\n",
       "      <td>Course</td>\n",
       "      <td>9</td>\n",
       "      <td>2019</td>\n",
       "      <td>3.1637</td>\n",
       "    </tr>\n",
       "    <tr>\n",
       "      <th>6759</th>\n",
       "      <td>Izmir</td>\n",
       "      <td>304</td>\n",
       "      <td>Transport (public) - Retail</td>\n",
       "      <td>55</td>\n",
       "      <td>Course</td>\n",
       "      <td>10</td>\n",
       "      <td>2019</td>\n",
       "      <td>3.1637</td>\n",
       "    </tr>\n",
       "    <tr>\n",
       "      <th>6760</th>\n",
       "      <td>Izmir</td>\n",
       "      <td>304</td>\n",
       "      <td>Transport (public) - Retail</td>\n",
       "      <td>55</td>\n",
       "      <td>Course</td>\n",
       "      <td>11</td>\n",
       "      <td>2019</td>\n",
       "      <td>3.6964</td>\n",
       "    </tr>\n",
       "    <tr>\n",
       "      <th>6761</th>\n",
       "      <td>Izmir</td>\n",
       "      <td>304</td>\n",
       "      <td>Transport (public) - Retail</td>\n",
       "      <td>55</td>\n",
       "      <td>Course</td>\n",
       "      <td>12</td>\n",
       "      <td>2019</td>\n",
       "      <td>3.6964</td>\n",
       "    </tr>\n",
       "  </tbody>\n",
       "</table>\n",
       "<p>305 rows × 8 columns</p>\n",
       "</div>"
      ],
      "text/plain": [
       "                 Place  ProductId                  ProductName  UmId  UmName  \\\n",
       "0     National Average         52                Rice - Retail     5      KG   \n",
       "1     National Average         52                Rice - Retail     5      KG   \n",
       "2     National Average         52                Rice - Retail     5      KG   \n",
       "3     National Average         52                Rice - Retail     5      KG   \n",
       "4     National Average         52                Rice - Retail     5      KG   \n",
       "...                ...        ...                          ...   ...     ...   \n",
       "6757             Izmir        304  Transport (public) - Retail    55  Course   \n",
       "6758             Izmir        304  Transport (public) - Retail    55  Course   \n",
       "6759             Izmir        304  Transport (public) - Retail    55  Course   \n",
       "6760             Izmir        304  Transport (public) - Retail    55  Course   \n",
       "6761             Izmir        304  Transport (public) - Retail    55  Course   \n",
       "\n",
       "      Month  Year   Price  \n",
       "0         5  2013  4.4920  \n",
       "1         6  2013  4.5786  \n",
       "2        11  2013  4.7865  \n",
       "3        12  2013  5.1337  \n",
       "4         1  2014  5.5099  \n",
       "...     ...   ...     ...  \n",
       "6757      8  2019  3.1637  \n",
       "6758      9  2019  3.1637  \n",
       "6759     10  2019  3.1637  \n",
       "6760     11  2019  3.6964  \n",
       "6761     12  2019  3.6964  \n",
       "\n",
       "[305 rows x 8 columns]"
      ]
     },
     "execution_count": 12,
     "metadata": {},
     "output_type": "execute_result"
    }
   ],
   "source": [
    "trans_fp = fp[(fp.ProductName == 'Transport (public) - Retail') | (fp.ProductName == 'Rice - Retail')]\n",
    "trans_fp"
   ]
  },
  {
   "cell_type": "code",
   "execution_count": 13,
   "id": "dd79b779",
   "metadata": {},
   "outputs": [
    {
     "data": {
      "text/plain": [
       "<seaborn.axisgrid.FacetGrid at 0x1ffc1d4d970>"
      ]
     },
     "execution_count": 13,
     "metadata": {},
     "output_type": "execute_result"
    },
    {
     "data": {
      "image/png": "[encoded data removed]",
      "text/plain": [
       "<Figure size 521.75x360 with 1 Axes>"
      ]
     },
     "metadata": {
      "needs_background": "light"
     },
     "output_type": "display_data"
    }
   ],
   "source": [
    "sns.lmplot(x='Year', y='Price', hue='ProductName', data=trans_fp)"
   ]
  },
  {
   "cell_type": "markdown",
   "id": "3d5fa1b0",
   "metadata": {},
   "source": [
    "**Nhận xét:**\n",
    "- Có thể thấy rằng dù chi phí vận chuyển có xu hướng giảm, tuy nhiên giá gạo vẫn tăng khá mạnh, chứng tỏ không có sự liên quan giữa 2 thuộc tính này"
   ]
  },
  {
   "cell_type": "markdown",
   "id": "6ca727d4",
   "metadata": {},
   "source": [
    "### **Vẽ biểu đồ phân bố**"
   ]
  },
  {
   "cell_type": "code",
   "execution_count": 14,
   "id": "bb2c8bbf",
   "metadata": {},
   "outputs": [],
   "source": [
    "# Biểu đồ phân bố cho giá sản phẩm"
   ]
  },
  {
   "cell_type": "code",
   "execution_count": 15,
   "id": "23e0b412",
   "metadata": {},
   "outputs": [
    {
     "data": {
      "text/plain": [
       "<AxesSubplot:ylabel='Price'>"
      ]
     },
     "execution_count": 15,
     "metadata": {},
     "output_type": "execute_result"
    },
    {
     "data": {
      "image/png": "[encoded data removed]",
      "text/plain": [
       "<Figure size 432x288 with 1 Axes>"
      ]
     },
     "metadata": {
      "needs_background": "light"
     },
     "output_type": "display_data"
    }
   ],
   "source": [
    "sns.violinplot(y='Price', data=fp)"
   ]
  },
  {
   "cell_type": "markdown",
   "id": "2abc5a81",
   "metadata": {},
   "source": [
    "**Nhận xét:**\n",
    "- Có thể nhận thấy dữ liệu phân bố không được đều; \n",
    "- Nhiều sản phẩm giá thấp và ít sản phẩm giá cao.    "
   ]
  },
  {
   "cell_type": "code",
   "execution_count": null,
   "id": "b65ed791",
   "metadata": {},
   "outputs": [],
   "source": [
    "# Biểu đồ phân bố cho năm của sản phẩm"
   ]
  },
  {
   "cell_type": "code",
   "execution_count": 17,
   "id": "1e850967",
   "metadata": {},
   "outputs": [
    {
     "data": {
      "text/plain": [
       "<AxesSubplot:ylabel='Year'>"
      ]
     },
     "execution_count": 17,
     "metadata": {},
     "output_type": "execute_result"
    },
    {
     "data": {
      "image/png": "[encoded data removed]",
      "text/plain": [
       "<Figure size 432x288 with 1 Axes>"
      ]
     },
     "metadata": {
      "needs_background": "light"
     },
     "output_type": "display_data"
    }
   ],
   "source": [
    "sns.violinplot(y='Year',data=fp)"
   ]
  },
  {
   "cell_type": "markdown",
   "id": "e60f2130",
   "metadata": {},
   "source": [
    "**Nhận xét:**\n",
    "+ Có thể thấy rằng sản phẩm chủ yếu thuộc những năm gần đây, những năm càng xa thì số lượng càng ít"
   ]
  },
  {
   "cell_type": "markdown",
   "id": "1bc3d2c6",
   "metadata": {},
   "source": [
    "### **Vẽ biểu đồ tần số**"
   ]
  },
  {
   "cell_type": "code",
   "execution_count": null,
   "id": "2af94885",
   "metadata": {},
   "outputs": [],
   "source": [
    "# Vẽ biểu đồ tần số cho các sản phẩm theo năm"
   ]
  },
  {
   "cell_type": "code",
   "execution_count": 18,
   "id": "367580ba",
   "metadata": {},
   "outputs": [
    {
     "data": {
      "text/plain": [
       "<AxesSubplot:xlabel='Year', ylabel='count'>"
      ]
     },
     "execution_count": 18,
     "metadata": {},
     "output_type": "execute_result"
    },
    {
     "data": {
      "image/png": "[encoded data removed]",
      "text/plain": [
       "<Figure size 432x288 with 1 Axes>"
      ]
     },
     "metadata": {
      "needs_background": "light"
     },
     "output_type": "display_data"
    }
   ],
   "source": [
    "sns.countplot(x='Year', data=fp)"
   ]
  },
  {
   "cell_type": "markdown",
   "id": "ff6841d7",
   "metadata": {},
   "source": [
    "**Nhận xét:**\n",
    "+ Những năm càng xa thì càng ít sản phẩm"
   ]
  },
  {
   "cell_type": "code",
   "execution_count": null,
   "id": "253a8ae6",
   "metadata": {},
   "outputs": [],
   "source": [
    "# Vẽ biểu đồ thống kê sản phẩm theo địa điểm"
   ]
  },
  {
   "cell_type": "code",
   "execution_count": 19,
   "id": "ee187068",
   "metadata": {},
   "outputs": [
    {
     "data": {
      "text/plain": [
       "<AxesSubplot:xlabel='Place', ylabel='count'>"
      ]
     },
     "execution_count": 19,
     "metadata": {},
     "output_type": "execute_result"
    },
    {
     "data": {
      "image/png": "[encoded data removed]",
      "text/plain": [
       "<Figure size 432x288 with 1 Axes>"
      ]
     },
     "metadata": {
      "needs_background": "light"
     },
     "output_type": "display_data"
    }
   ],
   "source": [
    "sns.countplot(x='Place', data=fp)"
   ]
  },
  {
   "cell_type": "code",
   "execution_count": null,
   "id": "9d40e988",
   "metadata": {},
   "outputs": [],
   "source": [
    "# Hiển thị số lượng sản phẩm theo năm được nhóm theo địa điểm"
   ]
  },
  {
   "cell_type": "code",
   "execution_count": 20,
   "id": "e1b4c616",
   "metadata": {},
   "outputs": [
    {
     "data": {
      "text/plain": [
       "<AxesSubplot:xlabel='Year', ylabel='count'>"
      ]
     },
     "execution_count": 20,
     "metadata": {},
     "output_type": "execute_result"
    },
    {
     "data": {
      "image/png": "[encoded data removed]",
      "text/plain": [
       "<Figure size 432x288 with 1 Axes>"
      ]
     },
     "metadata": {
      "needs_background": "light"
     },
     "output_type": "display_data"
    }
   ],
   "source": [
    "sns.countplot(x='Year', hue='Place',data=fp)"
   ]
  },
  {
   "cell_type": "markdown",
   "id": "dde3e27f",
   "metadata": {},
   "source": [
    "**Nhận xét:**\n",
    "+ Có thể thấy rằng các năm 2013-2016 chỉ có dữ liệu cho sản phẩm ở National Avarage"
   ]
  },
  {
   "cell_type": "markdown",
   "id": "9679fb7a",
   "metadata": {},
   "source": [
    "### **Vẽ biểu đồ box plot**"
   ]
  },
  {
   "cell_type": "code",
   "execution_count": null,
   "id": "34d30ebb",
   "metadata": {},
   "outputs": [],
   "source": [
    "# Vẽ biểu đồ box plot cho thuộc tính giá sản phẩm"
   ]
  },
  {
   "cell_type": "code",
   "execution_count": 21,
   "id": "7ce7bade",
   "metadata": {},
   "outputs": [
    {
     "data": {
      "text/plain": [
       "<AxesSubplot:xlabel='Price'>"
      ]
     },
     "execution_count": 21,
     "metadata": {},
     "output_type": "execute_result"
    },
    {
     "data": {
      "image/png": "[encoded data removed]",
      "text/plain": [
       "<Figure size 432x288 with 1 Axes>"
      ]
     },
     "metadata": {
      "needs_background": "light"
     },
     "output_type": "display_data"
    }
   ],
   "source": [
    "sns.boxplot(x=fp.Price)"
   ]
  },
  {
   "cell_type": "markdown",
   "id": "4dba29f8",
   "metadata": {},
   "source": [
    "**Nhận xét:**\n",
    "+ Giá sản phẩm phân bố rất không đồng đều, tập trung ở giá thấp"
   ]
  },
  {
   "cell_type": "code",
   "execution_count": null,
   "id": "558df469",
   "metadata": {},
   "outputs": [],
   "source": [
    "# Vẽ biểu đồ box plot giá sản phẩm phân bố theo năm"
   ]
  },
  {
   "cell_type": "code",
   "execution_count": 22,
   "id": "d2de20c8",
   "metadata": {},
   "outputs": [
    {
     "data": {
      "text/plain": [
       "<AxesSubplot:xlabel='Year', ylabel='Price'>"
      ]
     },
     "execution_count": 22,
     "metadata": {},
     "output_type": "execute_result"
    },
    {
     "data": {
      "image/png": "[encoded data removed]",
      "text/plain": [
       "<Figure size 432x288 with 1 Axes>"
      ]
     },
     "metadata": {
      "needs_background": "light"
     },
     "output_type": "display_data"
    }
   ],
   "source": [
    "sns.boxplot(x='Year', y='Price', data=fp)"
   ]
  },
  {
   "cell_type": "markdown",
   "id": "20f2df67",
   "metadata": {},
   "source": [
    "**Nhận xét:**\n",
    "+ Giá sản phẩm phân bố rất không đồng đều, có tăng qua từng năm nhưng vẫn tập trung ở giá thấp"
   ]
  },
  {
   "cell_type": "code",
   "execution_count": null,
   "id": "c1396d1f",
   "metadata": {},
   "outputs": [],
   "source": []
  },
  {
   "cell_type": "code",
   "execution_count": null,
   "id": "192678bb",
   "metadata": {},
   "outputs": [],
   "source": []
  },
  {
   "cell_type": "code",
   "execution_count": null,
   "id": "c90cc47c",
   "metadata": {},
   "outputs": [],
   "source": []
  },
  {
   "cell_type": "code",
   "execution_count": null,
   "id": "c8e1a879",
   "metadata": {},
   "outputs": [],
   "source": []
  },
  {
   "cell_type": "code",
   "execution_count": null,
   "id": "ef543638",
   "metadata": {},
   "outputs": [],
   "source": []
  },
  {
   "cell_type": "code",
   "execution_count": null,
   "id": "f511d6ff",
   "metadata": {},
   "outputs": [],
   "source": []
  },
  {
   "cell_type": "code",
   "execution_count": null,
   "id": "8db1a4f4",
   "metadata": {},
   "outputs": [],
   "source": []
  },
  {
   "cell_type": "code",
   "execution_count": null,
   "id": "2ef2b209",
   "metadata": {},
   "outputs": [],
   "source": []
  },
  {
   "cell_type": "code",
   "execution_count": null,
   "id": "9fbdd0ab",
   "metadata": {},
   "outputs": [],
   "source": []
  },
  {
   "cell_type": "code",
   "execution_count": null,
   "id": "192723e5",
   "metadata": {},
   "outputs": [],
   "source": []
  },
  {
   "cell_type": "code",
   "execution_count": null,
   "id": "9f519015",
   "metadata": {},
   "outputs": [],
   "source": []
  },
  {
   "cell_type": "code",
   "execution_count": null,
   "id": "47a89dca",
   "metadata": {},
   "outputs": [],
   "source": []
  },
  {
   "cell_type": "code",
   "execution_count": null,
   "id": "9e54664f",
   "metadata": {},
   "outputs": [],
   "source": []
  },
  {
   "cell_type": "code",
   "execution_count": null,
   "id": "a3a45a87",
   "metadata": {},
   "outputs": [],
   "source": []
  },
  {
   "cell_type": "code",
   "execution_count": null,
   "id": "68b72c73",
   "metadata": {},
   "outputs": [],
   "source": []
  },
  {
   "cell_type": "code",
   "execution_count": null,
   "id": "bfd3379c",
   "metadata": {},
   "outputs": [],
   "source": []
  },
  {
   "cell_type": "code",
   "execution_count": null,
   "id": "a2ecc893",
   "metadata": {},
   "outputs": [],
   "source": []
  },
  {
   "cell_type": "code",
   "execution_count": null,
   "id": "bcfbe894",
   "metadata": {},
   "outputs": [],
   "source": []
  },
  {
   "cell_type": "code",
   "execution_count": null,
   "id": "05a42da7",
   "metadata": {},
   "outputs": [],
   "source": []
  },
  {
   "cell_type": "code",
   "execution_count": null,
   "id": "581658ae",
   "metadata": {},
   "outputs": [],
   "source": []
  },
  {
   "cell_type": "code",
   "execution_count": null,
   "id": "f56890c9",
   "metadata": {},
   "outputs": [],
   "source": []
  },
  {
   "cell_type": "code",
   "execution_count": null,
   "id": "67be549a",
   "metadata": {},
   "outputs": [],
   "source": []
  },
  {
   "cell_type": "code",
   "execution_count": null,
   "id": "28ffb34d",
   "metadata": {},
   "outputs": [],
   "source": []
  },
  {
   "cell_type": "code",
   "execution_count": null,
   "id": "15978d45",
   "metadata": {},
   "outputs": [],
   "source": []
  },
  {
   "cell_type": "code",
   "execution_count": null,
   "id": "282925f0",
   "metadata": {},
   "outputs": [],
   "source": []
  },
  {
   "cell_type": "code",
   "execution_count": null,
   "id": "b7fd3b04",
   "metadata": {},
   "outputs": [],
   "source": []
  }
 ],
 "metadata": {
  "kernelspec": {
   "display_name": "Python 3 (ipykernel)",
   "language": "python",
   "name": "python3"
  },
  "language_info": {
   "codemirror_mode": {
    "name": "ipython",
    "version": 3
   },
   "file_extension": ".py",
   "mimetype": "text/x-python",
   "name": "python",
   "nbconvert_exporter": "python",
   "pygments_lexer": "ipython3",
   "version": "3.9.7"
  }
 },
 "nbformat": 4,
 "nbformat_minor": 5
}
