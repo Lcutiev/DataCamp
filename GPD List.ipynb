{
 "cells": [
  {
   "cell_type": "markdown",
   "id": "27bb8883",
   "metadata": {},
   "source": [
    "## **Mô tả**\n",
    "Bộ dữ liệu GDP list chứa dữ liệu dự báo về GDP của một số quốc gia, các thông tin được thống kê bao gồm:\n",
    "\n",
    "- Country: Tên quốc gia\n",
    "- Continent: Tên châu lục\n",
    "- GDP (millions of US$): GDP tính theo đơn vị triệu USD\n",
    "\n",
    "Hãy đưa bộ dữ liệu vào phân tích và giải đáp các thắc mắc sau:\n",
    "- Bộ dữ liệu chứa bao nhiêu dòng, bao nhiêu cột\n",
    "- Thang đo tương ứng của các thuộc tính được lưu trữ\n",
    "- GDP của các quốc gia có đồng đều không\n",
    "- Mỗi châu lục có bao nhiêu quốc gia nằm trong bảng dữ liệu\n",
    "- Tổng GPD của các châu lục\n",
    "-Top 10 quốc gia có GDP cao nhất"
   ]
  },
  {
   "cell_type": "code",
   "execution_count": 1,
   "id": "b00b7d90",
   "metadata": {},
   "outputs": [],
   "source": [
    "import numpy as np\n",
    "import pandas as pd\n",
    "import matplotlib.pyplot as plt\n",
    "import seaborn as sns"
   ]
  },
  {
   "cell_type": "code",
   "execution_count": 2,
   "id": "cecbf753",
   "metadata": {},
   "outputs": [],
   "source": [
    "# Reading the CSV file\n",
    "gdp = pd.read_csv('GDPlist.csv', encoding='ISO-8859-1')"
   ]
  },
  {
   "cell_type": "code",
   "execution_count": 3,
   "id": "8d70f559",
   "metadata": {},
   "outputs": [
    {
     "data": {
      "text/html": [
       "<div>\n",
       "<style scoped>\n",
       "    .dataframe tbody tr th:only-of-type {\n",
       "        vertical-align: middle;\n",
       "    }\n",
       "\n",
       "    .dataframe tbody tr th {\n",
       "        vertical-align: top;\n",
       "    }\n",
       "\n",
       "    .dataframe thead th {\n",
       "        text-align: right;\n",
       "    }\n",
       "</style>\n",
       "<table border=\"1\" class=\"dataframe\">\n",
       "  <thead>\n",
       "    <tr style=\"text-align: right;\">\n",
       "      <th></th>\n",
       "      <th>Country</th>\n",
       "      <th>Continent</th>\n",
       "      <th>GDP (millions of US$)</th>\n",
       "    </tr>\n",
       "  </thead>\n",
       "  <tbody>\n",
       "    <tr>\n",
       "      <th>0</th>\n",
       "      <td>Afghanistan</td>\n",
       "      <td>Asia</td>\n",
       "      <td>18181</td>\n",
       "    </tr>\n",
       "    <tr>\n",
       "      <th>1</th>\n",
       "      <td>Albania</td>\n",
       "      <td>Europe</td>\n",
       "      <td>12847</td>\n",
       "    </tr>\n",
       "    <tr>\n",
       "      <th>2</th>\n",
       "      <td>Algeria</td>\n",
       "      <td>Africa</td>\n",
       "      <td>190709</td>\n",
       "    </tr>\n",
       "    <tr>\n",
       "      <th>3</th>\n",
       "      <td>Angola</td>\n",
       "      <td>Africa</td>\n",
       "      <td>100948</td>\n",
       "    </tr>\n",
       "    <tr>\n",
       "      <th>4</th>\n",
       "      <td>Argentina</td>\n",
       "      <td>South America</td>\n",
       "      <td>447644</td>\n",
       "    </tr>\n",
       "  </tbody>\n",
       "</table>\n",
       "</div>"
      ],
      "text/plain": [
       "        Country      Continent  GDP (millions of US$)\n",
       "0   Afghanistan           Asia                  18181\n",
       "1       Albania         Europe                  12847\n",
       "2       Algeria         Africa                 190709\n",
       "3        Angola         Africa                 100948\n",
       "4     Argentina  South America                 447644"
      ]
     },
     "execution_count": 3,
     "metadata": {},
     "output_type": "execute_result"
    }
   ],
   "source": [
    "# Displaying the DataFrame\n",
    "gdp.head()"
   ]
  },
  {
   "cell_type": "code",
   "execution_count": 4,
   "id": "6d1574ea",
   "metadata": {},
   "outputs": [
    {
     "data": {
      "text/html": [
       "<div>\n",
       "<style scoped>\n",
       "    .dataframe tbody tr th:only-of-type {\n",
       "        vertical-align: middle;\n",
       "    }\n",
       "\n",
       "    .dataframe tbody tr th {\n",
       "        vertical-align: top;\n",
       "    }\n",
       "\n",
       "    .dataframe thead th {\n",
       "        text-align: right;\n",
       "    }\n",
       "</style>\n",
       "<table border=\"1\" class=\"dataframe\">\n",
       "  <thead>\n",
       "    <tr style=\"text-align: right;\">\n",
       "      <th></th>\n",
       "      <th>Country</th>\n",
       "      <th>Continent</th>\n",
       "      <th>GDP (millions of US$)</th>\n",
       "    </tr>\n",
       "  </thead>\n",
       "  <tbody>\n",
       "    <tr>\n",
       "      <th>120</th>\n",
       "      <td>Uzbekistan</td>\n",
       "      <td>Asia</td>\n",
       "      <td>45353</td>\n",
       "    </tr>\n",
       "    <tr>\n",
       "      <th>121</th>\n",
       "      <td>Venezuela</td>\n",
       "      <td>South America</td>\n",
       "      <td>315841</td>\n",
       "    </tr>\n",
       "    <tr>\n",
       "      <th>122</th>\n",
       "      <td>Vietnam</td>\n",
       "      <td>Asia</td>\n",
       "      <td>122722</td>\n",
       "    </tr>\n",
       "    <tr>\n",
       "      <th>123</th>\n",
       "      <td>Yemen</td>\n",
       "      <td>Africa</td>\n",
       "      <td>33675</td>\n",
       "    </tr>\n",
       "    <tr>\n",
       "      <th>124</th>\n",
       "      <td>Zambia</td>\n",
       "      <td>Africa</td>\n",
       "      <td>19206</td>\n",
       "    </tr>\n",
       "  </tbody>\n",
       "</table>\n",
       "</div>"
      ],
      "text/plain": [
       "         Country      Continent  GDP (millions of US$)\n",
       "120   Uzbekistan           Asia                  45353\n",
       "121    Venezuela  South America                 315841\n",
       "122      Vietnam           Asia                 122722\n",
       "123        Yemen         Africa                  33675\n",
       "124       Zambia         Africa                  19206"
      ]
     },
     "execution_count": 4,
     "metadata": {},
     "output_type": "execute_result"
    }
   ],
   "source": [
    "gdp.tail()"
   ]
  },
  {
   "cell_type": "code",
   "execution_count": 5,
   "id": "15870915",
   "metadata": {},
   "outputs": [
    {
     "name": "stdout",
     "output_type": "stream",
     "text": [
      "<class 'pandas.core.frame.DataFrame'>\n",
      "RangeIndex: 125 entries, 0 to 124\n",
      "Data columns (total 3 columns):\n",
      " #   Column                 Non-Null Count  Dtype \n",
      "---  ------                 --------------  ----- \n",
      " 0   Country                125 non-null    object\n",
      " 1   Continent              125 non-null    object\n",
      " 2   GDP (millions of US$)  125 non-null    int64 \n",
      "dtypes: int64(1), object(2)\n",
      "memory usage: 3.1+ KB\n"
     ]
    }
   ],
   "source": [
    "gdp.info()"
   ]
  },
  {
   "cell_type": "markdown",
   "id": "be93877c",
   "metadata": {},
   "source": [
    "- Bộ dữ liệu chứa 125 dòng, 3 cột\n",
    "\n",
    "Nhận diện thang đo:\n",
    "\n",
    "- Country, Continent: có kiểu object –> norminal attribute\n",
    "- GDP (millions of US$): là dữ liệu dạng số nguyên (int64)\n"
   ]
  },
  {
   "cell_type": "code",
   "execution_count": 7,
   "id": "243db3fe",
   "metadata": {},
   "outputs": [
    {
     "data": {
      "text/plain": [
       "125"
      ]
     },
     "execution_count": 7,
     "metadata": {},
     "output_type": "execute_result"
    }
   ],
   "source": [
    "list_country = gdp.Country.unique()\n",
    "list_country.size"
   ]
  },
  {
   "cell_type": "markdown",
   "id": "d022768f",
   "metadata": {},
   "source": [
    "### **GDP của các quốc gia có đồng đều không?**"
   ]
  },
  {
   "cell_type": "code",
   "execution_count": 69,
   "id": "dbd77e4d",
   "metadata": {},
   "outputs": [
    {
     "data": {
      "image/png": "[encoded data removed]",
      "text/plain": [
       "<Figure size 432x288 with 1 Axes>"
      ]
     },
     "metadata": {
      "needs_background": "light"
     },
     "output_type": "display_data"
    }
   ],
   "source": [
    "# Hint: Sử dụng dụng biểu đồ histogram để phân tích sự đồng đều về GDP của các quốc gia\n",
    "gdp.hist()\n",
    "plt.show()"
   ]
  },
  {
   "cell_type": "code",
   "execution_count": 73,
   "id": "9e5652cf",
   "metadata": {},
   "outputs": [
    {
     "data": {
      "image/png": "[encoded data removed]",
      "text/plain": [
       "<Figure size 432x288 with 1 Axes>"
      ]
     },
     "metadata": {
      "needs_background": "light"
     },
     "output_type": "display_data"
    }
   ],
   "source": [
    "# Creating a basic histogram\n",
    "import matplotlib.pyplot as plt\n",
    "plt.hist(gdp['GDP (millions of US$)'], bins = 10)\n",
    "plt.title(\"GDP by Country\")\n",
    "plt.xlabel(\"GDP\")\n",
    "plt.ylabel(\"Country\")\n",
    "plt.show()"
   ]
  },
  {
   "cell_type": "code",
   "execution_count": 77,
   "id": "0d41a080",
   "metadata": {},
   "outputs": [
    {
     "data": {
      "text/plain": [
       "3000000.0"
      ]
     },
     "execution_count": 77,
     "metadata": {},
     "output_type": "execute_result"
    }
   ],
   "source": [
    "1.4* 10**7"
   ]
  },
  {
   "cell_type": "markdown",
   "id": "b67c007a",
   "metadata": {},
   "source": [
    "**Nhận xét:**\n",
    "\n",
    "+ GDP (millions of US$) giữa các quốc gia không đồng đều\n",
    "\n",
    "+ Các nước có GDP/người cao chiếm rất ít\n",
    "+ Phần lớn các quốc gia (hơn 100 nước) có GDP khoảng 1tr đô\n",
    "+ Chỉ có số ít quốc gia có GDP xấp xỉ hơn 14tr đô"
   ]
  },
  {
   "cell_type": "markdown",
   "id": "8a0c7b57",
   "metadata": {},
   "source": [
    "### **Mỗi châu lục có bao nhiêu quốc gia nằm trong bảng dữ liệu**"
   ]
  },
  {
   "cell_type": "code",
   "execution_count": 8,
   "id": "82a7421f",
   "metadata": {},
   "outputs": [
    {
     "name": "stdout",
     "output_type": "stream",
     "text": [
      "Số quốc gia ở các châu lục\n"
     ]
    },
    {
     "data": {
      "text/plain": [
       "Europe           37\n",
       "Asia             36\n",
       "Africa           29\n",
       "North America    11\n",
       "South America     9\n",
       "Oceania           3\n",
       "Name: Continent, dtype: int64"
      ]
     },
     "execution_count": 8,
     "metadata": {},
     "output_type": "execute_result"
    }
   ],
   "source": [
    "print(\"Số quốc gia ở các châu lục\")\n",
    "gdp.Continent.value_counts()"
   ]
  },
  {
   "cell_type": "markdown",
   "id": "b7bdf32d",
   "metadata": {},
   "source": [
    "**Nhận xét:**\n",
    "\n",
    "+ Châu Âu và Châu Á cố số lượng các quốc gia lớn nhất và xấp xỉ nhau, đứng thứ 3 là Châu Phi\n",
    "\n",
    "+ Châu Đại Dương thấp nhất chỉ có 3 nước"
   ]
  },
  {
   "cell_type": "markdown",
   "id": "9ad61df2",
   "metadata": {},
   "source": [
    "### **Tổng GPD của các châu lục**"
   ]
  },
  {
   "cell_type": "code",
   "execution_count": 53,
   "id": "1df8e786",
   "metadata": {},
   "outputs": [
    {
     "name": "stdout",
     "output_type": "stream",
     "text": [
      "Tổng GDP của các châu lục\n"
     ]
    },
    {
     "data": {
      "text/plain": [
       "Continent\n",
       "Asia             24425891\n",
       "Europe           19139380\n",
       "North America    18238447\n",
       "South America     4141217\n",
       "Africa            1820811\n",
       "Oceania           1662727\n",
       "Name: GDP (millions of US$), dtype: int64"
      ]
     },
     "execution_count": 53,
     "metadata": {},
     "output_type": "execute_result"
    }
   ],
   "source": [
    "print(\"Tổng GDP của các châu lục\")\n",
    "total_GDP_continent = gdp.groupby('Continent')['GDP (millions of US$)'].sum().sort_values(ascending=False)\n",
    "total_GDP_continent"
   ]
  },
  {
   "cell_type": "markdown",
   "id": "8ac6f810",
   "metadata": {},
   "source": [
    "**Nhận xét:**\n",
    "\n",
    "+ Châu Âu và Châu Á nằm trong top cả số lượng quốc gia và cả GDP\n",
    "+ Đặt biệt Bắc Mỹ, dù chỉ chỉ chiếm 1/3 số lượng các nước nhưng GDP đầu người gần bằng Châu Âu và không chênh quá nhiều so với Châu Á\n",
    "+ Chúng ta nhìn thấy rằng, Châu Phi dù nằm trong top 3 số lượng quốc gia, nhưng GDP đầu người lại kém và chênh lệch quá nhiều"
   ]
  },
  {
   "cell_type": "markdown",
   "id": "1f0e654a",
   "metadata": {},
   "source": [
    "### **Top 10 quốc gia có GDP cao nhất**"
   ]
  },
  {
   "cell_type": "code",
   "execution_count": 11,
   "id": "6d3d784f",
   "metadata": {},
   "outputs": [
    {
     "name": "stdout",
     "output_type": "stream",
     "text": [
      "Top 10 quốc gia có GDP cao nhất\n"
     ]
    },
    {
     "data": {
      "text/html": [
       "<div>\n",
       "<style scoped>\n",
       "    .dataframe tbody tr th:only-of-type {\n",
       "        vertical-align: middle;\n",
       "    }\n",
       "\n",
       "    .dataframe tbody tr th {\n",
       "        vertical-align: top;\n",
       "    }\n",
       "\n",
       "    .dataframe thead th {\n",
       "        text-align: right;\n",
       "    }\n",
       "</style>\n",
       "<table border=\"1\" class=\"dataframe\">\n",
       "  <thead>\n",
       "    <tr style=\"text-align: right;\">\n",
       "      <th></th>\n",
       "      <th>Country</th>\n",
       "      <th>GDP (millions of US$)</th>\n",
       "    </tr>\n",
       "  </thead>\n",
       "  <tbody>\n",
       "    <tr>\n",
       "      <th>118</th>\n",
       "      <td>United States</td>\n",
       "      <td>15094025</td>\n",
       "    </tr>\n",
       "    <tr>\n",
       "      <th>23</th>\n",
       "      <td>China</td>\n",
       "      <td>7298147</td>\n",
       "    </tr>\n",
       "    <tr>\n",
       "      <th>60</th>\n",
       "      <td>Japan</td>\n",
       "      <td>5869471</td>\n",
       "    </tr>\n",
       "    <tr>\n",
       "      <th>44</th>\n",
       "      <td>Germany</td>\n",
       "      <td>3577031</td>\n",
       "    </tr>\n",
       "    <tr>\n",
       "      <th>41</th>\n",
       "      <td>France</td>\n",
       "      <td>2776324</td>\n",
       "    </tr>\n",
       "    <tr>\n",
       "      <th>15</th>\n",
       "      <td>Brazil</td>\n",
       "      <td>2492908</td>\n",
       "    </tr>\n",
       "    <tr>\n",
       "      <th>117</th>\n",
       "      <td>United Kingdom</td>\n",
       "      <td>2417570</td>\n",
       "    </tr>\n",
       "    <tr>\n",
       "      <th>58</th>\n",
       "      <td>Italy</td>\n",
       "      <td>2198730</td>\n",
       "    </tr>\n",
       "    <tr>\n",
       "      <th>93</th>\n",
       "      <td>Russia</td>\n",
       "      <td>1850401</td>\n",
       "    </tr>\n",
       "    <tr>\n",
       "      <th>21</th>\n",
       "      <td>Canada</td>\n",
       "      <td>1736869</td>\n",
       "    </tr>\n",
       "  </tbody>\n",
       "</table>\n",
       "</div>"
      ],
      "text/plain": [
       "             Country  GDP (millions of US$)\n",
       "118    United States               15094025\n",
       "23             China                7298147\n",
       "60             Japan                5869471\n",
       "44           Germany                3577031\n",
       "41            France                2776324\n",
       "15            Brazil                2492908\n",
       "117   United Kingdom                2417570\n",
       "58             Italy                2198730\n",
       "93            Russia                1850401\n",
       "21            Canada                1736869"
      ]
     },
     "execution_count": 11,
     "metadata": {},
     "output_type": "execute_result"
    }
   ],
   "source": [
    "print(\"Top 10 quốc gia có GDP cao nhất\")\n",
    "top10_GDP_country = gdp.sort_values('GDP (millions of US$)', ascending=False)\n",
    "top10_GDP_country[['Country', 'GDP (millions of US$)']].head(10)"
   ]
  },
  {
   "cell_type": "markdown",
   "id": "5c16b434",
   "metadata": {},
   "source": [
    "**Nhận xét:**\n",
    "\n",
    "+ Mỹ là quốc gia có GDP đầu người cao nhất và chênh lệch gần như gấp đôi so với nước có GDP cao thứ hai là Trung Quốc và so với các quốc gia còn lại là rất lớn\n",
    "+ Các nước còn lại trong top 10, không chênh lệch quá nhiều"
   ]
  },
  {
   "cell_type": "markdown",
   "id": "9eaa9185",
   "metadata": {},
   "source": [
    "### **Việt hoá tên các cột trong bảng dữ liệu**"
   ]
  },
  {
   "cell_type": "code",
   "execution_count": 98,
   "id": "72b80d2d",
   "metadata": {},
   "outputs": [],
   "source": [
    "# Sửa tên: Country -> Nuoc; Continent -> Chauluc; GDP (millions of US$) -> GDP (trieu $)\n",
    "gdp.rename(columns={\"Country\": \"Nuoc\", \"Continent\": \"Chauluc\", \"GDP (millions of US$)\": \"GDP (trieu $)\"}, inplace=True)"
   ]
  },
  {
   "cell_type": "code",
   "execution_count": 70,
   "id": "d2e144e8",
   "metadata": {},
   "outputs": [
    {
     "data": {
      "text/html": [
       "<div>\n",
       "<style scoped>\n",
       "    .dataframe tbody tr th:only-of-type {\n",
       "        vertical-align: middle;\n",
       "    }\n",
       "\n",
       "    .dataframe tbody tr th {\n",
       "        vertical-align: top;\n",
       "    }\n",
       "\n",
       "    .dataframe thead th {\n",
       "        text-align: right;\n",
       "    }\n",
       "</style>\n",
       "<table border=\"1\" class=\"dataframe\">\n",
       "  <thead>\n",
       "    <tr style=\"text-align: right;\">\n",
       "      <th></th>\n",
       "      <th>Nuoc</th>\n",
       "      <th>Chauluc</th>\n",
       "      <th>GDP (trieu $)</th>\n",
       "    </tr>\n",
       "  </thead>\n",
       "  <tbody>\n",
       "    <tr>\n",
       "      <th>0</th>\n",
       "      <td>Afghanistan</td>\n",
       "      <td>Asia</td>\n",
       "      <td>18181</td>\n",
       "    </tr>\n",
       "    <tr>\n",
       "      <th>1</th>\n",
       "      <td>Albania</td>\n",
       "      <td>Europe</td>\n",
       "      <td>12847</td>\n",
       "    </tr>\n",
       "    <tr>\n",
       "      <th>2</th>\n",
       "      <td>Algeria</td>\n",
       "      <td>Africa</td>\n",
       "      <td>190709</td>\n",
       "    </tr>\n",
       "    <tr>\n",
       "      <th>3</th>\n",
       "      <td>Angola</td>\n",
       "      <td>Africa</td>\n",
       "      <td>100948</td>\n",
       "    </tr>\n",
       "    <tr>\n",
       "      <th>4</th>\n",
       "      <td>Argentina</td>\n",
       "      <td>South America</td>\n",
       "      <td>447644</td>\n",
       "    </tr>\n",
       "  </tbody>\n",
       "</table>\n",
       "</div>"
      ],
      "text/plain": [
       "           Nuoc        Chauluc  GDP (trieu $)\n",
       "0   Afghanistan           Asia          18181\n",
       "1       Albania         Europe          12847\n",
       "2       Algeria         Africa         190709\n",
       "3        Angola         Africa         100948\n",
       "4     Argentina  South America         447644"
      ]
     },
     "execution_count": 70,
     "metadata": {},
     "output_type": "execute_result"
    }
   ],
   "source": [
    "gdp.head()"
   ]
  },
  {
   "cell_type": "markdown",
   "id": "fce0b1a4",
   "metadata": {},
   "source": [
    "### **Chèn thêm một cột**"
   ]
  },
  {
   "cell_type": "code",
   "execution_count": 17,
   "id": "43869598",
   "metadata": {},
   "outputs": [
    {
     "data": {
      "text/html": [
       "<div>\n",
       "<style scoped>\n",
       "    .dataframe tbody tr th:only-of-type {\n",
       "        vertical-align: middle;\n",
       "    }\n",
       "\n",
       "    .dataframe tbody tr th {\n",
       "        vertical-align: top;\n",
       "    }\n",
       "\n",
       "    .dataframe thead th {\n",
       "        text-align: right;\n",
       "    }\n",
       "</style>\n",
       "<table border=\"1\" class=\"dataframe\">\n",
       "  <thead>\n",
       "    <tr style=\"text-align: right;\">\n",
       "      <th></th>\n",
       "      <th>Country</th>\n",
       "    </tr>\n",
       "  </thead>\n",
       "  <tbody>\n",
       "    <tr>\n",
       "      <th>0</th>\n",
       "      <td>Afghanistan</td>\n",
       "    </tr>\n",
       "    <tr>\n",
       "      <th>1</th>\n",
       "      <td>Albania</td>\n",
       "    </tr>\n",
       "    <tr>\n",
       "      <th>2</th>\n",
       "      <td>Algeria</td>\n",
       "    </tr>\n",
       "    <tr>\n",
       "      <th>3</th>\n",
       "      <td>Angola</td>\n",
       "    </tr>\n",
       "    <tr>\n",
       "      <th>4</th>\n",
       "      <td>Argentina</td>\n",
       "    </tr>\n",
       "    <tr>\n",
       "      <th>...</th>\n",
       "      <td>...</td>\n",
       "    </tr>\n",
       "    <tr>\n",
       "      <th>120</th>\n",
       "      <td>Uzbekistan</td>\n",
       "    </tr>\n",
       "    <tr>\n",
       "      <th>121</th>\n",
       "      <td>Venezuela</td>\n",
       "    </tr>\n",
       "    <tr>\n",
       "      <th>122</th>\n",
       "      <td>Vietnam</td>\n",
       "    </tr>\n",
       "    <tr>\n",
       "      <th>123</th>\n",
       "      <td>Yemen</td>\n",
       "    </tr>\n",
       "    <tr>\n",
       "      <th>124</th>\n",
       "      <td>Zambia</td>\n",
       "    </tr>\n",
       "  </tbody>\n",
       "</table>\n",
       "<p>125 rows × 1 columns</p>\n",
       "</div>"
      ],
      "text/plain": [
       "          Country\n",
       "0     Afghanistan\n",
       "1         Albania\n",
       "2         Algeria\n",
       "3          Angola\n",
       "4       Argentina\n",
       "..            ...\n",
       "120    Uzbekistan\n",
       "121     Venezuela\n",
       "122       Vietnam\n",
       "123         Yemen\n",
       "124        Zambia\n",
       "\n",
       "[125 rows x 1 columns]"
      ]
     },
     "execution_count": 17,
     "metadata": {},
     "output_type": "execute_result"
    }
   ],
   "source": [
    "gdp.iloc[:,:1] # Ngầm định"
   ]
  },
  {
   "cell_type": "code",
   "execution_count": 20,
   "id": "a342116d",
   "metadata": {},
   "outputs": [
    {
     "data": {
      "text/plain": [
       "0       Afghanistan\n",
       "1           Albania\n",
       "2           Algeria\n",
       "3            Angola\n",
       "4         Argentina\n",
       "           ...     \n",
       "120      Uzbekistan\n",
       "121       Venezuela\n",
       "122         Vietnam\n",
       "123           Yemen\n",
       "124          Zambia\n",
       "Name: Nuoc, Length: 125, dtype: object"
      ]
     },
     "execution_count": 20,
     "metadata": {},
     "output_type": "execute_result"
    }
   ],
   "source": [
    "gdp.loc[:,'Nuoc']"
   ]
  },
  {
   "cell_type": "code",
   "execution_count": 99,
   "id": "c7411ab0",
   "metadata": {},
   "outputs": [],
   "source": [
    "# Chèn thêm một cột 'Thanhpho' vào sau cột 'Nuoc', giá trị ban đầu là giá trị của cột 'Nuoc'\n",
    "# Gồm 3 tham số: chỉ số, tên cột, và giá trị muốn thay\n",
    "gdp.insert(0, \"Thanhpho\", gdp.loc[:,'Nuoc'])"
   ]
  },
  {
   "cell_type": "code",
   "execution_count": 22,
   "id": "5f660179",
   "metadata": {},
   "outputs": [
    {
     "data": {
      "text/html": [
       "<div>\n",
       "<style scoped>\n",
       "    .dataframe tbody tr th:only-of-type {\n",
       "        vertical-align: middle;\n",
       "    }\n",
       "\n",
       "    .dataframe tbody tr th {\n",
       "        vertical-align: top;\n",
       "    }\n",
       "\n",
       "    .dataframe thead th {\n",
       "        text-align: right;\n",
       "    }\n",
       "</style>\n",
       "<table border=\"1\" class=\"dataframe\">\n",
       "  <thead>\n",
       "    <tr style=\"text-align: right;\">\n",
       "      <th></th>\n",
       "      <th>Thanhpho</th>\n",
       "      <th>Nuoc</th>\n",
       "      <th>Chauluc</th>\n",
       "      <th>GDP (trieu $)</th>\n",
       "    </tr>\n",
       "  </thead>\n",
       "  <tbody>\n",
       "    <tr>\n",
       "      <th>0</th>\n",
       "      <td>Afghanistan</td>\n",
       "      <td>Afghanistan</td>\n",
       "      <td>Asia</td>\n",
       "      <td>18181</td>\n",
       "    </tr>\n",
       "    <tr>\n",
       "      <th>1</th>\n",
       "      <td>Albania</td>\n",
       "      <td>Albania</td>\n",
       "      <td>Europe</td>\n",
       "      <td>12847</td>\n",
       "    </tr>\n",
       "    <tr>\n",
       "      <th>2</th>\n",
       "      <td>Algeria</td>\n",
       "      <td>Algeria</td>\n",
       "      <td>Africa</td>\n",
       "      <td>190709</td>\n",
       "    </tr>\n",
       "    <tr>\n",
       "      <th>3</th>\n",
       "      <td>Angola</td>\n",
       "      <td>Angola</td>\n",
       "      <td>Africa</td>\n",
       "      <td>100948</td>\n",
       "    </tr>\n",
       "    <tr>\n",
       "      <th>4</th>\n",
       "      <td>Argentina</td>\n",
       "      <td>Argentina</td>\n",
       "      <td>South America</td>\n",
       "      <td>447644</td>\n",
       "    </tr>\n",
       "  </tbody>\n",
       "</table>\n",
       "</div>"
      ],
      "text/plain": [
       "       Thanhpho          Nuoc        Chauluc  GDP (trieu $)\n",
       "0   Afghanistan   Afghanistan           Asia          18181\n",
       "1       Albania       Albania         Europe          12847\n",
       "2       Algeria       Algeria         Africa         190709\n",
       "3        Angola        Angola         Africa         100948\n",
       "4     Argentina     Argentina  South America         447644"
      ]
     },
     "execution_count": 22,
     "metadata": {},
     "output_type": "execute_result"
    }
   ],
   "source": [
    "gdp.head()"
   ]
  },
  {
   "cell_type": "code",
   "execution_count": 100,
   "id": "0e59f0cb",
   "metadata": {},
   "outputs": [],
   "source": [
    "del gdp['Thanhpho']"
   ]
  },
  {
   "cell_type": "code",
   "execution_count": 101,
   "id": "227867b4",
   "metadata": {},
   "outputs": [],
   "source": [
    "gdp.insert(1, \"Thanhpho\", gdp.loc[:,'Nuoc'])"
   ]
  },
  {
   "cell_type": "code",
   "execution_count": 25,
   "id": "b0cf062b",
   "metadata": {},
   "outputs": [
    {
     "data": {
      "text/html": [
       "<div>\n",
       "<style scoped>\n",
       "    .dataframe tbody tr th:only-of-type {\n",
       "        vertical-align: middle;\n",
       "    }\n",
       "\n",
       "    .dataframe tbody tr th {\n",
       "        vertical-align: top;\n",
       "    }\n",
       "\n",
       "    .dataframe thead th {\n",
       "        text-align: right;\n",
       "    }\n",
       "</style>\n",
       "<table border=\"1\" class=\"dataframe\">\n",
       "  <thead>\n",
       "    <tr style=\"text-align: right;\">\n",
       "      <th></th>\n",
       "      <th>Nuoc</th>\n",
       "      <th>Thanhpho</th>\n",
       "      <th>Chauluc</th>\n",
       "      <th>GDP (trieu $)</th>\n",
       "    </tr>\n",
       "  </thead>\n",
       "  <tbody>\n",
       "    <tr>\n",
       "      <th>0</th>\n",
       "      <td>Afghanistan</td>\n",
       "      <td>Afghanistan</td>\n",
       "      <td>Asia</td>\n",
       "      <td>18181</td>\n",
       "    </tr>\n",
       "    <tr>\n",
       "      <th>1</th>\n",
       "      <td>Albania</td>\n",
       "      <td>Albania</td>\n",
       "      <td>Europe</td>\n",
       "      <td>12847</td>\n",
       "    </tr>\n",
       "    <tr>\n",
       "      <th>2</th>\n",
       "      <td>Algeria</td>\n",
       "      <td>Algeria</td>\n",
       "      <td>Africa</td>\n",
       "      <td>190709</td>\n",
       "    </tr>\n",
       "    <tr>\n",
       "      <th>3</th>\n",
       "      <td>Angola</td>\n",
       "      <td>Angola</td>\n",
       "      <td>Africa</td>\n",
       "      <td>100948</td>\n",
       "    </tr>\n",
       "    <tr>\n",
       "      <th>4</th>\n",
       "      <td>Argentina</td>\n",
       "      <td>Argentina</td>\n",
       "      <td>South America</td>\n",
       "      <td>447644</td>\n",
       "    </tr>\n",
       "  </tbody>\n",
       "</table>\n",
       "</div>"
      ],
      "text/plain": [
       "           Nuoc      Thanhpho        Chauluc  GDP (trieu $)\n",
       "0   Afghanistan   Afghanistan           Asia          18181\n",
       "1       Albania       Albania         Europe          12847\n",
       "2       Algeria       Algeria         Africa         190709\n",
       "3        Angola        Angola         Africa         100948\n",
       "4     Argentina     Argentina  South America         447644"
      ]
     },
     "execution_count": 25,
     "metadata": {},
     "output_type": "execute_result"
    }
   ],
   "source": [
    "gdp.head()"
   ]
  },
  {
   "cell_type": "markdown",
   "id": "1f8cad20",
   "metadata": {},
   "source": [
    "### **Thay giá trị Vietnam thành Hanoi trong cột Thanhpho**"
   ]
  },
  {
   "cell_type": "code",
   "execution_count": 122,
   "id": "9015722c",
   "metadata": {},
   "outputs": [],
   "source": [
    "gdp['Thanhpho'].replace(['Algeria', 'Argentina'], ['Angola', 'Africa'], inplace=True)"
   ]
  },
  {
   "cell_type": "code",
   "execution_count": 116,
   "id": "4e101693",
   "metadata": {},
   "outputs": [
    {
     "data": {
      "text/html": [
       "<div>\n",
       "<style scoped>\n",
       "    .dataframe tbody tr th:only-of-type {\n",
       "        vertical-align: middle;\n",
       "    }\n",
       "\n",
       "    .dataframe tbody tr th {\n",
       "        vertical-align: top;\n",
       "    }\n",
       "\n",
       "    .dataframe thead th {\n",
       "        text-align: right;\n",
       "    }\n",
       "</style>\n",
       "<table border=\"1\" class=\"dataframe\">\n",
       "  <thead>\n",
       "    <tr style=\"text-align: right;\">\n",
       "      <th></th>\n",
       "      <th>Nuoc</th>\n",
       "      <th>Thanhpho</th>\n",
       "      <th>Chauluc</th>\n",
       "      <th>GDP (trieu $)</th>\n",
       "    </tr>\n",
       "  </thead>\n",
       "  <tbody>\n",
       "  </tbody>\n",
       "</table>\n",
       "</div>"
      ],
      "text/plain": [
       "Empty DataFrame\n",
       "Columns: [Nuoc, Thanhpho, Chauluc, GDP (trieu $)]\n",
       "Index: []"
      ]
     },
     "execution_count": 116,
     "metadata": {},
     "output_type": "execute_result"
    }
   ],
   "source": [
    "gdp[gdp.Thanhpho == 'Hanoi']"
   ]
  },
  {
   "cell_type": "code",
   "execution_count": 123,
   "id": "8fcf7224",
   "metadata": {},
   "outputs": [
    {
     "data": {
      "text/html": [
       "<div>\n",
       "<style scoped>\n",
       "    .dataframe tbody tr th:only-of-type {\n",
       "        vertical-align: middle;\n",
       "    }\n",
       "\n",
       "    .dataframe tbody tr th {\n",
       "        vertical-align: top;\n",
       "    }\n",
       "\n",
       "    .dataframe thead th {\n",
       "        text-align: right;\n",
       "    }\n",
       "</style>\n",
       "<table border=\"1\" class=\"dataframe\">\n",
       "  <thead>\n",
       "    <tr style=\"text-align: right;\">\n",
       "      <th></th>\n",
       "      <th>Nuoc</th>\n",
       "      <th>Thanhpho</th>\n",
       "      <th>Chauluc</th>\n",
       "      <th>GDP (trieu $)</th>\n",
       "    </tr>\n",
       "  </thead>\n",
       "  <tbody>\n",
       "    <tr>\n",
       "      <th>2</th>\n",
       "      <td>Algeria</td>\n",
       "      <td>Algeria</td>\n",
       "      <td>Africa</td>\n",
       "      <td>190709</td>\n",
       "    </tr>\n",
       "    <tr>\n",
       "      <th>3</th>\n",
       "      <td>Angola</td>\n",
       "      <td>Angola</td>\n",
       "      <td>Africa</td>\n",
       "      <td>100948</td>\n",
       "    </tr>\n",
       "    <tr>\n",
       "      <th>4</th>\n",
       "      <td>Argentina</td>\n",
       "      <td>Argentina</td>\n",
       "      <td>South America</td>\n",
       "      <td>447644</td>\n",
       "    </tr>\n",
       "    <tr>\n",
       "      <th>5</th>\n",
       "      <td>Australia</td>\n",
       "      <td>Australia</td>\n",
       "      <td>Oceania</td>\n",
       "      <td>1488221</td>\n",
       "    </tr>\n",
       "    <tr>\n",
       "      <th>6</th>\n",
       "      <td>Austria</td>\n",
       "      <td>Austria</td>\n",
       "      <td>Europe</td>\n",
       "      <td>419243</td>\n",
       "    </tr>\n",
       "  </tbody>\n",
       "</table>\n",
       "</div>"
      ],
      "text/plain": [
       "         Nuoc    Thanhpho        Chauluc  GDP (trieu $)\n",
       "2     Algeria     Algeria         Africa         190709\n",
       "3      Angola      Angola         Africa         100948\n",
       "4   Argentina   Argentina  South America         447644\n",
       "5   Australia   Australia        Oceania        1488221\n",
       "6     Austria     Austria         Europe         419243"
      ]
     },
     "execution_count": 123,
     "metadata": {},
     "output_type": "execute_result"
    }
   ],
   "source": [
    "gdp.head()"
   ]
  },
  {
   "cell_type": "markdown",
   "id": "3cd14405",
   "metadata": {},
   "source": [
    "### **Xoá các bản ghi có Chauluc là 'Asia'**"
   ]
  },
  {
   "cell_type": "code",
   "execution_count": 102,
   "id": "913e888a",
   "metadata": {},
   "outputs": [
    {
     "data": {
      "text/html": [
       "<div>\n",
       "<style scoped>\n",
       "    .dataframe tbody tr th:only-of-type {\n",
       "        vertical-align: middle;\n",
       "    }\n",
       "\n",
       "    .dataframe tbody tr th {\n",
       "        vertical-align: top;\n",
       "    }\n",
       "\n",
       "    .dataframe thead th {\n",
       "        text-align: right;\n",
       "    }\n",
       "</style>\n",
       "<table border=\"1\" class=\"dataframe\">\n",
       "  <thead>\n",
       "    <tr style=\"text-align: right;\">\n",
       "      <th></th>\n",
       "      <th>Nuoc</th>\n",
       "      <th>Thanhpho</th>\n",
       "      <th>Chauluc</th>\n",
       "      <th>GDP (trieu $)</th>\n",
       "    </tr>\n",
       "  </thead>\n",
       "  <tbody>\n",
       "    <tr>\n",
       "      <th>0</th>\n",
       "      <td>Afghanistan</td>\n",
       "      <td>Afghanistan</td>\n",
       "      <td>Asia</td>\n",
       "      <td>18181</td>\n",
       "    </tr>\n",
       "    <tr>\n",
       "      <th>1</th>\n",
       "      <td>Albania</td>\n",
       "      <td>Albania</td>\n",
       "      <td>Europe</td>\n",
       "      <td>12847</td>\n",
       "    </tr>\n",
       "    <tr>\n",
       "      <th>2</th>\n",
       "      <td>Algeria</td>\n",
       "      <td>Algeria</td>\n",
       "      <td>Africa</td>\n",
       "      <td>190709</td>\n",
       "    </tr>\n",
       "    <tr>\n",
       "      <th>3</th>\n",
       "      <td>Angola</td>\n",
       "      <td>Angola</td>\n",
       "      <td>Africa</td>\n",
       "      <td>100948</td>\n",
       "    </tr>\n",
       "    <tr>\n",
       "      <th>4</th>\n",
       "      <td>Argentina</td>\n",
       "      <td>Argentina</td>\n",
       "      <td>South America</td>\n",
       "      <td>447644</td>\n",
       "    </tr>\n",
       "  </tbody>\n",
       "</table>\n",
       "</div>"
      ],
      "text/plain": [
       "           Nuoc      Thanhpho        Chauluc  GDP (trieu $)\n",
       "0   Afghanistan   Afghanistan           Asia          18181\n",
       "1       Albania       Albania         Europe          12847\n",
       "2       Algeria       Algeria         Africa         190709\n",
       "3        Angola        Angola         Africa         100948\n",
       "4     Argentina     Argentina  South America         447644"
      ]
     },
     "execution_count": 102,
     "metadata": {},
     "output_type": "execute_result"
    }
   ],
   "source": [
    "gdp.head()"
   ]
  },
  {
   "cell_type": "code",
   "execution_count": 103,
   "id": "33789227",
   "metadata": {},
   "outputs": [
    {
     "data": {
      "text/plain": [
       "RangeIndex(start=0, stop=125, step=1)"
      ]
     },
     "execution_count": 103,
     "metadata": {},
     "output_type": "execute_result"
    }
   ],
   "source": [
    "gdp.Chauluc.index"
   ]
  },
  {
   "cell_type": "code",
   "execution_count": null,
   "id": "b24aeaaa",
   "metadata": {},
   "outputs": [],
   "source": [
    "# Hint: Xoá dòng bất kì"
   ]
  },
  {
   "cell_type": "code",
   "execution_count": 105,
   "id": "9ee2023c",
   "metadata": {},
   "outputs": [],
   "source": [
    "gdp.drop(gdp.loc[gdp.Chauluc == 'Asia'].index, axis=0, inplace=True)"
   ]
  },
  {
   "cell_type": "code",
   "execution_count": 106,
   "id": "86771bbb",
   "metadata": {},
   "outputs": [
    {
     "data": {
      "text/html": [
       "<div>\n",
       "<style scoped>\n",
       "    .dataframe tbody tr th:only-of-type {\n",
       "        vertical-align: middle;\n",
       "    }\n",
       "\n",
       "    .dataframe tbody tr th {\n",
       "        vertical-align: top;\n",
       "    }\n",
       "\n",
       "    .dataframe thead th {\n",
       "        text-align: right;\n",
       "    }\n",
       "</style>\n",
       "<table border=\"1\" class=\"dataframe\">\n",
       "  <thead>\n",
       "    <tr style=\"text-align: right;\">\n",
       "      <th></th>\n",
       "      <th>Nuoc</th>\n",
       "      <th>Thanhpho</th>\n",
       "      <th>Chauluc</th>\n",
       "      <th>GDP (trieu $)</th>\n",
       "    </tr>\n",
       "  </thead>\n",
       "  <tbody>\n",
       "    <tr>\n",
       "      <th>1</th>\n",
       "      <td>Albania</td>\n",
       "      <td>Albania</td>\n",
       "      <td>Europe</td>\n",
       "      <td>12847</td>\n",
       "    </tr>\n",
       "    <tr>\n",
       "      <th>2</th>\n",
       "      <td>Algeria</td>\n",
       "      <td>Algeria</td>\n",
       "      <td>Africa</td>\n",
       "      <td>190709</td>\n",
       "    </tr>\n",
       "    <tr>\n",
       "      <th>3</th>\n",
       "      <td>Angola</td>\n",
       "      <td>Angola</td>\n",
       "      <td>Africa</td>\n",
       "      <td>100948</td>\n",
       "    </tr>\n",
       "    <tr>\n",
       "      <th>4</th>\n",
       "      <td>Argentina</td>\n",
       "      <td>Argentina</td>\n",
       "      <td>South America</td>\n",
       "      <td>447644</td>\n",
       "    </tr>\n",
       "    <tr>\n",
       "      <th>5</th>\n",
       "      <td>Australia</td>\n",
       "      <td>Australia</td>\n",
       "      <td>Oceania</td>\n",
       "      <td>1488221</td>\n",
       "    </tr>\n",
       "  </tbody>\n",
       "</table>\n",
       "</div>"
      ],
      "text/plain": [
       "         Nuoc    Thanhpho        Chauluc  GDP (trieu $)\n",
       "1     Albania     Albania         Europe          12847\n",
       "2     Algeria     Algeria         Africa         190709\n",
       "3      Angola      Angola         Africa         100948\n",
       "4   Argentina   Argentina  South America         447644\n",
       "5   Australia   Australia        Oceania        1488221"
      ]
     },
     "execution_count": 106,
     "metadata": {},
     "output_type": "execute_result"
    }
   ],
   "source": [
    "gdp.head()"
   ]
  },
  {
   "cell_type": "markdown",
   "id": "d00745cc",
   "metadata": {},
   "source": [
    "### **Xoá các bản ghi có GDP < 300000**"
   ]
  },
  {
   "cell_type": "code",
   "execution_count": 107,
   "id": "aad6502b",
   "metadata": {},
   "outputs": [],
   "source": [
    "gdp.drop(gdp.loc[gdp['GDP (trieu $)'] < 30000].index, axis=0, inplace=True)"
   ]
  },
  {
   "cell_type": "markdown",
   "id": "f40e4b45-8f1d-419a-a9e0-3797500fa8e2",
   "metadata": {},
   "source": [
    "### **Tính giá trị lớn nhất và nhỏ nhất của GDP**"
   ]
  },
  {
   "cell_type": "code",
   "execution_count": 3,
   "id": "c4b14290",
   "metadata": {},
   "outputs": [
    {
     "data": {
      "text/html": [
       "<div>\n",
       "<style scoped>\n",
       "    .dataframe tbody tr th:only-of-type {\n",
       "        vertical-align: middle;\n",
       "    }\n",
       "\n",
       "    .dataframe tbody tr th {\n",
       "        vertical-align: top;\n",
       "    }\n",
       "\n",
       "    .dataframe thead th {\n",
       "        text-align: right;\n",
       "    }\n",
       "</style>\n",
       "<table border=\"1\" class=\"dataframe\">\n",
       "  <thead>\n",
       "    <tr style=\"text-align: right;\">\n",
       "      <th></th>\n",
       "      <th>Country</th>\n",
       "      <th>Continent</th>\n",
       "      <th>GDP (millions of US$)</th>\n",
       "    </tr>\n",
       "  </thead>\n",
       "  <tbody>\n",
       "    <tr>\n",
       "      <th>0</th>\n",
       "      <td>Afghanistan</td>\n",
       "      <td>Asia</td>\n",
       "      <td>18181</td>\n",
       "    </tr>\n",
       "    <tr>\n",
       "      <th>1</th>\n",
       "      <td>Albania</td>\n",
       "      <td>Europe</td>\n",
       "      <td>12847</td>\n",
       "    </tr>\n",
       "    <tr>\n",
       "      <th>2</th>\n",
       "      <td>Algeria</td>\n",
       "      <td>Africa</td>\n",
       "      <td>190709</td>\n",
       "    </tr>\n",
       "    <tr>\n",
       "      <th>3</th>\n",
       "      <td>Angola</td>\n",
       "      <td>Africa</td>\n",
       "      <td>100948</td>\n",
       "    </tr>\n",
       "    <tr>\n",
       "      <th>4</th>\n",
       "      <td>Argentina</td>\n",
       "      <td>South America</td>\n",
       "      <td>447644</td>\n",
       "    </tr>\n",
       "  </tbody>\n",
       "</table>\n",
       "</div>"
      ],
      "text/plain": [
       "        Country      Continent  GDP (millions of US$)\n",
       "0   Afghanistan           Asia                  18181\n",
       "1       Albania         Europe                  12847\n",
       "2       Algeria         Africa                 190709\n",
       "3        Angola         Africa                 100948\n",
       "4     Argentina  South America                 447644"
      ]
     },
     "execution_count": 3,
     "metadata": {},
     "output_type": "execute_result"
    }
   ],
   "source": [
    "gdp.head()"
   ]
  },
  {
   "cell_type": "code",
   "execution_count": 4,
   "id": "884f592e-f7b1-4d31-bf5e-de6c5deb52c9",
   "metadata": {},
   "outputs": [
    {
     "data": {
      "text/plain": [
       "Country                         Zambia\n",
       "Continent                South America\n",
       "GDP (millions of US$)         15094025\n",
       "dtype: object"
      ]
     },
     "execution_count": 4,
     "metadata": {},
     "output_type": "execute_result"
    }
   ],
   "source": [
    "gdp.max()"
   ]
  },
  {
   "cell_type": "code",
   "execution_count": 5,
   "id": "c999bb4a-8a11-4e8c-bc8d-da87037cf47a",
   "metadata": {},
   "outputs": [
    {
     "data": {
      "text/plain": [
       "Country                   Afghanistan\n",
       "Continent                      Africa\n",
       "GDP (millions of US$)           10600\n",
       "dtype: object"
      ]
     },
     "execution_count": 5,
     "metadata": {},
     "output_type": "execute_result"
    }
   ],
   "source": [
    "gdp.min()"
   ]
  },
  {
   "cell_type": "markdown",
   "id": "c2f50f53-d4e1-4531-a753-87cd6186530c",
   "metadata": {},
   "source": [
    "### **Hãy cho biết xu hướng phân bố dữ liệu của GDP.**"
   ]
  },
  {
   "cell_type": "markdown",
   "id": "86b2d8b7-98a0-4868-824e-ed8ad5596795",
   "metadata": {},
   "source": [
    "Mối quan hệ giữa ba giá trị mode, median, mean\n",
    "\n",
    "Mối quan hệ giữa ba đại lượng này cho chúng ta biết hình dạng phân phối của tập dữ liệu. \n",
    "\n",
    "+ Nếu: Mode > Median > Mean: Dữ liệu có phân bố lệch trái.\n",
    "\n",
    "+ Nếu: Mode = Median = Mean: Dữ liệu có phân bố đối xứng (phân bố chuẩn).\n",
    "\n",
    "+ Nếu: Mode < Median < Mean: Dữ liệu có phân bố lệch phải."
   ]
  },
  {
   "attachments": {
    "2a184d56-8e3b-41fd-9ad6-78c8a7d53333.png": {
     "image/png": "[encoded data removed]"
    }
   },
   "cell_type": "markdown",
   "id": "c10eb18b-6115-4701-8476-b3403367ef6c",
   "metadata": {},
   "source": [
    "![image.png](attachment:2a184d56-8e3b-41fd-9ad6-78c8a7d53333.png)"
   ]
  },
  {
   "cell_type": "code",
   "execution_count": 16,
   "id": "9b005d1d-d630-473f-a040-b417949a902b",
   "metadata": {},
   "outputs": [
    {
     "data": {
      "text/plain": [
       "0         10600\n",
       "1         11313\n",
       "2         12461\n",
       "3         12655\n",
       "4         12827\n",
       "         ...   \n",
       "120     2776324\n",
       "121     3577031\n",
       "122     5869471\n",
       "123     7298147\n",
       "124    15094025\n",
       "Length: 125, dtype: int64"
      ]
     },
     "execution_count": 16,
     "metadata": {},
     "output_type": "execute_result"
    }
   ],
   "source": [
    "# mode – Tính giá trị xuất hiện nhiều nhất của biến định lượng\n",
    "gdp['GDP (millions of US$)'].mode()"
   ]
  },
  {
   "cell_type": "code",
   "execution_count": 17,
   "id": "40ea54bf-304e-40dc-b849-e7661afea907",
   "metadata": {},
   "outputs": [
    {
     "data": {
      "text/plain": [
       "555427.784"
      ]
     },
     "execution_count": 17,
     "metadata": {},
     "output_type": "execute_result"
    }
   ],
   "source": [
    "# mean – Tính giá trị trung bình của biến định lượng\n",
    "gdp['GDP (millions of US$)'].mean()"
   ]
  },
  {
   "cell_type": "code",
   "execution_count": 18,
   "id": "811109b7-0f03-4d46-b876-03a85442a9e2",
   "metadata": {},
   "outputs": [
    {
     "data": {
      "text/plain": [
       "96089.0"
      ]
     },
     "execution_count": 18,
     "metadata": {},
     "output_type": "execute_result"
    }
   ],
   "source": [
    "# median – Tính giá trị trung vị của biến định lượng\n",
    "gdp['GDP (millions of US$)'].median()"
   ]
  },
  {
   "cell_type": "markdown",
   "id": "f83a1dc5-26ee-4eea-a8f1-e6687e7480ca",
   "metadata": {},
   "source": [
    "**Nhận xét:** \n",
    "- Mode > Median > Mean: Dữ liệu có phân bố lệch trái."
   ]
  },
  {
   "cell_type": "markdown",
   "id": "9d48f882-7963-4b74-8dcf-5e74b56bb25d",
   "metadata": {},
   "source": [
    "### **Hãy cho biết châu lục nào xuất hiện nhiều nhất?**"
   ]
  },
  {
   "cell_type": "code",
   "execution_count": 23,
   "id": "980057f2-fe87-42b3-919e-7ba290cc44e4",
   "metadata": {},
   "outputs": [
    {
     "data": {
      "text/plain": [
       "Europe           37\n",
       "Asia             36\n",
       "Africa           29\n",
       "North America    11\n",
       "South America     9\n",
       "Oceania           3\n",
       "Name: Continent, dtype: int64"
      ]
     },
     "execution_count": 23,
     "metadata": {},
     "output_type": "execute_result"
    }
   ],
   "source": [
    "gdp.Continent.value_counts()"
   ]
  },
  {
   "cell_type": "markdown",
   "id": "72f7db38-1032-4916-8751-086e86b2f55e",
   "metadata": {},
   "source": [
    "### **Tính tổng GDP của các châu lục**"
   ]
  },
  {
   "cell_type": "code",
   "execution_count": 13,
   "id": "23e098e1-1040-4d15-898a-17b783c4392a",
   "metadata": {},
   "outputs": [
    {
     "data": {
      "text/plain": [
       "Continent\n",
       "Asia             24425891\n",
       "Europe           19139380\n",
       "North America    18238447\n",
       "South America     4141217\n",
       "Africa            1820811\n",
       "Oceania           1662727\n",
       "Name: GDP (millions of US$), dtype: int64"
      ]
     },
     "execution_count": 13,
     "metadata": {},
     "output_type": "execute_result"
    }
   ],
   "source": [
    "total_gdp = gdp.groupby('Continent')['GDP (millions of US$)'].sum().sort_values(ascending=False)\n",
    "total_gdp"
   ]
  },
  {
   "cell_type": "code",
   "execution_count": 28,
   "id": "4c3f6333",
   "metadata": {},
   "outputs": [],
   "source": [
    "gdp1 = pd.DataFrame(total_gdp)\n",
    "gdp1.rename(columns={\"GDP (millions of US$)\": \"Tổng GDP\"}, inplace=True)"
   ]
  },
  {
   "cell_type": "code",
   "execution_count": 29,
   "id": "9d9052ad",
   "metadata": {},
   "outputs": [
    {
     "data": {
      "text/html": [
       "<div>\n",
       "<style scoped>\n",
       "    .dataframe tbody tr th:only-of-type {\n",
       "        vertical-align: middle;\n",
       "    }\n",
       "\n",
       "    .dataframe tbody tr th {\n",
       "        vertical-align: top;\n",
       "    }\n",
       "\n",
       "    .dataframe thead th {\n",
       "        text-align: right;\n",
       "    }\n",
       "</style>\n",
       "<table border=\"1\" class=\"dataframe\">\n",
       "  <thead>\n",
       "    <tr style=\"text-align: right;\">\n",
       "      <th></th>\n",
       "      <th>Tổng GDP</th>\n",
       "    </tr>\n",
       "    <tr>\n",
       "      <th>Continent</th>\n",
       "      <th></th>\n",
       "    </tr>\n",
       "  </thead>\n",
       "  <tbody>\n",
       "    <tr>\n",
       "      <th>Asia</th>\n",
       "      <td>24425891</td>\n",
       "    </tr>\n",
       "    <tr>\n",
       "      <th>Europe</th>\n",
       "      <td>19139380</td>\n",
       "    </tr>\n",
       "    <tr>\n",
       "      <th>North America</th>\n",
       "      <td>18238447</td>\n",
       "    </tr>\n",
       "    <tr>\n",
       "      <th>South America</th>\n",
       "      <td>4141217</td>\n",
       "    </tr>\n",
       "    <tr>\n",
       "      <th>Africa</th>\n",
       "      <td>1820811</td>\n",
       "    </tr>\n",
       "    <tr>\n",
       "      <th>Oceania</th>\n",
       "      <td>1662727</td>\n",
       "    </tr>\n",
       "  </tbody>\n",
       "</table>\n",
       "</div>"
      ],
      "text/plain": [
       "               Tổng GDP\n",
       "Continent              \n",
       "Asia           24425891\n",
       "Europe         19139380\n",
       "North America  18238447\n",
       "South America   4141217\n",
       "Africa          1820811\n",
       "Oceania         1662727"
      ]
     },
     "execution_count": 29,
     "metadata": {},
     "output_type": "execute_result"
    }
   ],
   "source": [
    "gdp1"
   ]
  },
  {
   "cell_type": "code",
   "execution_count": 18,
   "id": "6eea6ef2",
   "metadata": {},
   "outputs": [
    {
     "data": {
      "text/plain": [
       "pandas.core.series.Series"
      ]
     },
     "execution_count": 18,
     "metadata": {},
     "output_type": "execute_result"
    }
   ],
   "source": [
    "type(total_gdp)"
   ]
  },
  {
   "cell_type": "code",
   "execution_count": 21,
   "id": "e7282915",
   "metadata": {},
   "outputs": [
    {
     "data": {
      "text/plain": [
       "Index(['Asia', 'Europe', 'North America', 'South America', 'Africa',\n",
       "       'Oceania'],\n",
       "      dtype='object', name='Continent')"
      ]
     },
     "execution_count": 21,
     "metadata": {},
     "output_type": "execute_result"
    }
   ],
   "source": [
    "total_gdp.index"
   ]
  },
  {
   "cell_type": "markdown",
   "id": "842a509a",
   "metadata": {},
   "source": [
    "### **Tính trung bình cộng GDP của các châu lục**"
   ]
  },
  {
   "cell_type": "code",
   "execution_count": 14,
   "id": "19eb5e1b",
   "metadata": {},
   "outputs": [
    {
     "data": {
      "text/plain": [
       "Continent\n",
       "North America    1.658041e+06\n",
       "Asia             6.784970e+05\n",
       "Oceania          5.542423e+05\n",
       "Europe           5.172805e+05\n",
       "South America    4.601352e+05\n",
       "Africa           6.278659e+04\n",
       "Name: GDP (millions of US$), dtype: float64"
      ]
     },
     "execution_count": 14,
     "metadata": {},
     "output_type": "execute_result"
    }
   ],
   "source": [
    "mean_gdp = gdp.groupby('Continent')['GDP (millions of US$)'].mean().sort_values(ascending=False)\n",
    "mean_gdp"
   ]
  },
  {
   "cell_type": "code",
   "execution_count": 31,
   "id": "9f5d1e2f",
   "metadata": {},
   "outputs": [
    {
     "data": {
      "text/html": [
       "<div>\n",
       "<style scoped>\n",
       "    .dataframe tbody tr th:only-of-type {\n",
       "        vertical-align: middle;\n",
       "    }\n",
       "\n",
       "    .dataframe tbody tr th {\n",
       "        vertical-align: top;\n",
       "    }\n",
       "\n",
       "    .dataframe thead th {\n",
       "        text-align: right;\n",
       "    }\n",
       "</style>\n",
       "<table border=\"1\" class=\"dataframe\">\n",
       "  <thead>\n",
       "    <tr style=\"text-align: right;\">\n",
       "      <th></th>\n",
       "      <th>GDP (millions of US$)</th>\n",
       "    </tr>\n",
       "    <tr>\n",
       "      <th>Continent</th>\n",
       "      <th></th>\n",
       "    </tr>\n",
       "  </thead>\n",
       "  <tbody>\n",
       "    <tr>\n",
       "      <th>North America</th>\n",
       "      <td>1.658041e+06</td>\n",
       "    </tr>\n",
       "    <tr>\n",
       "      <th>Asia</th>\n",
       "      <td>6.784970e+05</td>\n",
       "    </tr>\n",
       "    <tr>\n",
       "      <th>Oceania</th>\n",
       "      <td>5.542423e+05</td>\n",
       "    </tr>\n",
       "    <tr>\n",
       "      <th>Europe</th>\n",
       "      <td>5.172805e+05</td>\n",
       "    </tr>\n",
       "    <tr>\n",
       "      <th>South America</th>\n",
       "      <td>4.601352e+05</td>\n",
       "    </tr>\n",
       "    <tr>\n",
       "      <th>Africa</th>\n",
       "      <td>6.278659e+04</td>\n",
       "    </tr>\n",
       "  </tbody>\n",
       "</table>\n",
       "</div>"
      ],
      "text/plain": [
       "               GDP (millions of US$)\n",
       "Continent                           \n",
       "North America           1.658041e+06\n",
       "Asia                    6.784970e+05\n",
       "Oceania                 5.542423e+05\n",
       "Europe                  5.172805e+05\n",
       "South America           4.601352e+05\n",
       "Africa                  6.278659e+04"
      ]
     },
     "execution_count": 31,
     "metadata": {},
     "output_type": "execute_result"
    }
   ],
   "source": [
    "gdp2 = pd.DataFrame(mean_gdp)\n",
    "gdp2"
   ]
  },
  {
   "cell_type": "code",
   "execution_count": 32,
   "id": "4746d6ea",
   "metadata": {},
   "outputs": [],
   "source": [
    "gdp2.rename(columns={\"GDP (millions of US$)\": \"TBC GDP\"}, inplace=True)"
   ]
  },
  {
   "cell_type": "code",
   "execution_count": 33,
   "id": "5634dfaf",
   "metadata": {},
   "outputs": [
    {
     "data": {
      "text/html": [
       "<div>\n",
       "<style scoped>\n",
       "    .dataframe tbody tr th:only-of-type {\n",
       "        vertical-align: middle;\n",
       "    }\n",
       "\n",
       "    .dataframe tbody tr th {\n",
       "        vertical-align: top;\n",
       "    }\n",
       "\n",
       "    .dataframe thead th {\n",
       "        text-align: right;\n",
       "    }\n",
       "</style>\n",
       "<table border=\"1\" class=\"dataframe\">\n",
       "  <thead>\n",
       "    <tr style=\"text-align: right;\">\n",
       "      <th></th>\n",
       "      <th>TBC GDP</th>\n",
       "    </tr>\n",
       "    <tr>\n",
       "      <th>Continent</th>\n",
       "      <th></th>\n",
       "    </tr>\n",
       "  </thead>\n",
       "  <tbody>\n",
       "    <tr>\n",
       "      <th>North America</th>\n",
       "      <td>1.658041e+06</td>\n",
       "    </tr>\n",
       "    <tr>\n",
       "      <th>Asia</th>\n",
       "      <td>6.784970e+05</td>\n",
       "    </tr>\n",
       "    <tr>\n",
       "      <th>Oceania</th>\n",
       "      <td>5.542423e+05</td>\n",
       "    </tr>\n",
       "    <tr>\n",
       "      <th>Europe</th>\n",
       "      <td>5.172805e+05</td>\n",
       "    </tr>\n",
       "    <tr>\n",
       "      <th>South America</th>\n",
       "      <td>4.601352e+05</td>\n",
       "    </tr>\n",
       "    <tr>\n",
       "      <th>Africa</th>\n",
       "      <td>6.278659e+04</td>\n",
       "    </tr>\n",
       "  </tbody>\n",
       "</table>\n",
       "</div>"
      ],
      "text/plain": [
       "                    TBC GDP\n",
       "Continent                  \n",
       "North America  1.658041e+06\n",
       "Asia           6.784970e+05\n",
       "Oceania        5.542423e+05\n",
       "Europe         5.172805e+05\n",
       "South America  4.601352e+05\n",
       "Africa         6.278659e+04"
      ]
     },
     "execution_count": 33,
     "metadata": {},
     "output_type": "execute_result"
    }
   ],
   "source": [
    "gdp2"
   ]
  },
  {
   "cell_type": "markdown",
   "id": "fd74719a",
   "metadata": {},
   "source": [
    "### **Hợp nhất 2 bảng này thành một bảng duy nhất gồm 3 thông tin: Tên châu lục; Tổng GDP; TBC GDP.**"
   ]
  },
  {
   "cell_type": "code",
   "execution_count": 35,
   "id": "90da4c21",
   "metadata": {},
   "outputs": [],
   "source": [
    "continent_total_mean_gdp = pd.concat([gdp1, gdp2])"
   ]
  },
  {
   "cell_type": "code",
   "execution_count": 36,
   "id": "5d134c8f",
   "metadata": {},
   "outputs": [
    {
     "data": {
      "text/html": [
       "<div>\n",
       "<style scoped>\n",
       "    .dataframe tbody tr th:only-of-type {\n",
       "        vertical-align: middle;\n",
       "    }\n",
       "\n",
       "    .dataframe tbody tr th {\n",
       "        vertical-align: top;\n",
       "    }\n",
       "\n",
       "    .dataframe thead th {\n",
       "        text-align: right;\n",
       "    }\n",
       "</style>\n",
       "<table border=\"1\" class=\"dataframe\">\n",
       "  <thead>\n",
       "    <tr style=\"text-align: right;\">\n",
       "      <th></th>\n",
       "      <th>Tổng GDP</th>\n",
       "      <th>TBC GDP</th>\n",
       "    </tr>\n",
       "    <tr>\n",
       "      <th>Continent</th>\n",
       "      <th></th>\n",
       "      <th></th>\n",
       "    </tr>\n",
       "  </thead>\n",
       "  <tbody>\n",
       "    <tr>\n",
       "      <th>Asia</th>\n",
       "      <td>24425891.0</td>\n",
       "      <td>NaN</td>\n",
       "    </tr>\n",
       "    <tr>\n",
       "      <th>Europe</th>\n",
       "      <td>19139380.0</td>\n",
       "      <td>NaN</td>\n",
       "    </tr>\n",
       "    <tr>\n",
       "      <th>North America</th>\n",
       "      <td>18238447.0</td>\n",
       "      <td>NaN</td>\n",
       "    </tr>\n",
       "    <tr>\n",
       "      <th>South America</th>\n",
       "      <td>4141217.0</td>\n",
       "      <td>NaN</td>\n",
       "    </tr>\n",
       "    <tr>\n",
       "      <th>Africa</th>\n",
       "      <td>1820811.0</td>\n",
       "      <td>NaN</td>\n",
       "    </tr>\n",
       "    <tr>\n",
       "      <th>Oceania</th>\n",
       "      <td>1662727.0</td>\n",
       "      <td>NaN</td>\n",
       "    </tr>\n",
       "    <tr>\n",
       "      <th>North America</th>\n",
       "      <td>NaN</td>\n",
       "      <td>1.658041e+06</td>\n",
       "    </tr>\n",
       "    <tr>\n",
       "      <th>Asia</th>\n",
       "      <td>NaN</td>\n",
       "      <td>6.784970e+05</td>\n",
       "    </tr>\n",
       "    <tr>\n",
       "      <th>Oceania</th>\n",
       "      <td>NaN</td>\n",
       "      <td>5.542423e+05</td>\n",
       "    </tr>\n",
       "    <tr>\n",
       "      <th>Europe</th>\n",
       "      <td>NaN</td>\n",
       "      <td>5.172805e+05</td>\n",
       "    </tr>\n",
       "    <tr>\n",
       "      <th>South America</th>\n",
       "      <td>NaN</td>\n",
       "      <td>4.601352e+05</td>\n",
       "    </tr>\n",
       "    <tr>\n",
       "      <th>Africa</th>\n",
       "      <td>NaN</td>\n",
       "      <td>6.278659e+04</td>\n",
       "    </tr>\n",
       "  </tbody>\n",
       "</table>\n",
       "</div>"
      ],
      "text/plain": [
       "                 Tổng GDP       TBC GDP\n",
       "Continent                              \n",
       "Asia           24425891.0           NaN\n",
       "Europe         19139380.0           NaN\n",
       "North America  18238447.0           NaN\n",
       "South America   4141217.0           NaN\n",
       "Africa          1820811.0           NaN\n",
       "Oceania         1662727.0           NaN\n",
       "North America         NaN  1.658041e+06\n",
       "Asia                  NaN  6.784970e+05\n",
       "Oceania               NaN  5.542423e+05\n",
       "Europe                NaN  5.172805e+05\n",
       "South America         NaN  4.601352e+05\n",
       "Africa                NaN  6.278659e+04"
      ]
     },
     "execution_count": 36,
     "metadata": {},
     "output_type": "execute_result"
    }
   ],
   "source": [
    "continent_total_mean_gdp"
   ]
  },
  {
   "cell_type": "code",
   "execution_count": null,
   "id": "603bac19",
   "metadata": {},
   "outputs": [],
   "source": []
  }
 ],
 "metadata": {
  "kernelspec": {
   "display_name": "Python 3 (ipykernel)",
   "language": "python",
   "name": "python3"
  },
  "language_info": {
   "codemirror_mode": {
    "name": "ipython",
    "version": 3
   },
   "file_extension": ".py",
   "mimetype": "text/x-python",
   "name": "python",
   "nbconvert_exporter": "python",
   "pygments_lexer": "ipython3",
   "version": "3.9.7"
  },
  "vscode": {
   "interpreter": {
    "hash": "deb4792152b8b9767403eeef0a1b0f34b83d442136ccee9184cd7d1131f09aa0"
   }
  }
 },
 "nbformat": 4,
 "nbformat_minor": 5
}
