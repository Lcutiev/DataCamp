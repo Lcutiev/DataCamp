{
 "cells": [
  {
   "cell_type": "markdown",
   "id": "27bb8883",
   "metadata": {},
   "source": [
    "## **Mô tả**\n",
    "Bộ dữ liệu GDP list chứa dữ liệu dự báo về GDP của một số quốc gia, các thông tin được thống kê bao gồm:\n",
    "\n",
    "- Country: Tên quốc gia\n",
    "- Continent: Tên châu lục\n",
    "- GDP (millions of US$): GDP tính theo đơn vị triệu USD\n",
    "\n",
    "Hãy đưa bộ dữ liệu vào phân tích và giải đáp các thắc mắc sau:\n",
    "- Bộ dữ liệu chứa bao nhiêu dòng, bao nhiêu cột\n",
    "- Thang đo tương ứng của các thuộc tính được lưu trữ\n",
    "- GDP của các quốc gia có đồng đều không\n",
    "- Mỗi châu lục có bao nhiêu quốc gia nằm trong bảng dữ liệu\n",
    "- Tổng GPD của các châu lục\n",
    "-Top 10 quốc gia có GDP cao nhất"
   ]
  },
  {
   "cell_type": "code",
   "execution_count": 14,
   "id": "b00b7d90",
   "metadata": {},
   "outputs": [],
   "source": [
    "import numpy as np\n",
    "import pandas as pd\n",
    "import matplotlib.pyplot as plt\n",
    "import seaborn as sns"
   ]
  },
  {
   "cell_type": "code",
   "execution_count": 16,
   "id": "cecbf753",
   "metadata": {},
   "outputs": [],
   "source": [
    "# Reading the CSV file\n",
    "gdp = pd.read_csv('GDPlist.csv', encoding='ISO-8859-1')"
   ]
  },
  {
   "cell_type": "code",
   "execution_count": 17,
   "id": "8d70f559",
   "metadata": {},
   "outputs": [
    {
     "data": {
      "text/html": [
       "<div>\n",
       "<style scoped>\n",
       "    .dataframe tbody tr th:only-of-type {\n",
       "        vertical-align: middle;\n",
       "    }\n",
       "\n",
       "    .dataframe tbody tr th {\n",
       "        vertical-align: top;\n",
       "    }\n",
       "\n",
       "    .dataframe thead th {\n",
       "        text-align: right;\n",
       "    }\n",
       "</style>\n",
       "<table border=\"1\" class=\"dataframe\">\n",
       "  <thead>\n",
       "    <tr style=\"text-align: right;\">\n",
       "      <th></th>\n",
       "      <th>Country</th>\n",
       "      <th>Continent</th>\n",
       "      <th>GDP (millions of US$)</th>\n",
       "    </tr>\n",
       "  </thead>\n",
       "  <tbody>\n",
       "    <tr>\n",
       "      <th>0</th>\n",
       "      <td>Afghanistan</td>\n",
       "      <td>Asia</td>\n",
       "      <td>18181</td>\n",
       "    </tr>\n",
       "    <tr>\n",
       "      <th>1</th>\n",
       "      <td>Albania</td>\n",
       "      <td>Europe</td>\n",
       "      <td>12847</td>\n",
       "    </tr>\n",
       "    <tr>\n",
       "      <th>2</th>\n",
       "      <td>Algeria</td>\n",
       "      <td>Africa</td>\n",
       "      <td>190709</td>\n",
       "    </tr>\n",
       "    <tr>\n",
       "      <th>3</th>\n",
       "      <td>Angola</td>\n",
       "      <td>Africa</td>\n",
       "      <td>100948</td>\n",
       "    </tr>\n",
       "    <tr>\n",
       "      <th>4</th>\n",
       "      <td>Argentina</td>\n",
       "      <td>South America</td>\n",
       "      <td>447644</td>\n",
       "    </tr>\n",
       "  </tbody>\n",
       "</table>\n",
       "</div>"
      ],
      "text/plain": [
       "        Country      Continent  GDP (millions of US$)\n",
       "0   Afghanistan           Asia                  18181\n",
       "1       Albania         Europe                  12847\n",
       "2       Algeria         Africa                 190709\n",
       "3        Angola         Africa                 100948\n",
       "4     Argentina  South America                 447644"
      ]
     },
     "execution_count": 17,
     "metadata": {},
     "output_type": "execute_result"
    }
   ],
   "source": [
    "# Displaying the DataFrame\n",
    "gdp.head()"
   ]
  },
  {
   "cell_type": "code",
   "execution_count": 7,
   "id": "6d1574ea",
   "metadata": {},
   "outputs": [
    {
     "data": {
      "text/html": [
       "<div>\n",
       "<style scoped>\n",
       "    .dataframe tbody tr th:only-of-type {\n",
       "        vertical-align: middle;\n",
       "    }\n",
       "\n",
       "    .dataframe tbody tr th {\n",
       "        vertical-align: top;\n",
       "    }\n",
       "\n",
       "    .dataframe thead th {\n",
       "        text-align: right;\n",
       "    }\n",
       "</style>\n",
       "<table border=\"1\" class=\"dataframe\">\n",
       "  <thead>\n",
       "    <tr style=\"text-align: right;\">\n",
       "      <th></th>\n",
       "      <th>Country</th>\n",
       "      <th>Continent</th>\n",
       "      <th>GDP (millions of US$)</th>\n",
       "    </tr>\n",
       "  </thead>\n",
       "  <tbody>\n",
       "    <tr>\n",
       "      <th>120</th>\n",
       "      <td>Uzbekistan</td>\n",
       "      <td>Asia</td>\n",
       "      <td>45353</td>\n",
       "    </tr>\n",
       "    <tr>\n",
       "      <th>121</th>\n",
       "      <td>Venezuela</td>\n",
       "      <td>South America</td>\n",
       "      <td>315841</td>\n",
       "    </tr>\n",
       "    <tr>\n",
       "      <th>122</th>\n",
       "      <td>Vietnam</td>\n",
       "      <td>Asia</td>\n",
       "      <td>122722</td>\n",
       "    </tr>\n",
       "    <tr>\n",
       "      <th>123</th>\n",
       "      <td>Yemen</td>\n",
       "      <td>Africa</td>\n",
       "      <td>33675</td>\n",
       "    </tr>\n",
       "    <tr>\n",
       "      <th>124</th>\n",
       "      <td>Zambia</td>\n",
       "      <td>Africa</td>\n",
       "      <td>19206</td>\n",
       "    </tr>\n",
       "  </tbody>\n",
       "</table>\n",
       "</div>"
      ],
      "text/plain": [
       "         Country      Continent  GDP (millions of US$)\n",
       "120   Uzbekistan           Asia                  45353\n",
       "121    Venezuela  South America                 315841\n",
       "122      Vietnam           Asia                 122722\n",
       "123        Yemen         Africa                  33675\n",
       "124       Zambia         Africa                  19206"
      ]
     },
     "execution_count": 7,
     "metadata": {},
     "output_type": "execute_result"
    }
   ],
   "source": [
    "gdp.tail()"
   ]
  },
  {
   "cell_type": "code",
   "execution_count": 6,
   "id": "15870915",
   "metadata": {},
   "outputs": [
    {
     "name": "stdout",
     "output_type": "stream",
     "text": [
      "<class 'pandas.core.frame.DataFrame'>\n",
      "RangeIndex: 125 entries, 0 to 124\n",
      "Data columns (total 3 columns):\n",
      " #   Column                 Non-Null Count  Dtype \n",
      "---  ------                 --------------  ----- \n",
      " 0   Country                125 non-null    object\n",
      " 1   Continent              125 non-null    object\n",
      " 2   GDP (millions of US$)  125 non-null    int64 \n",
      "dtypes: int64(1), object(2)\n",
      "memory usage: 3.1+ KB\n"
     ]
    }
   ],
   "source": [
    "gdp.info()"
   ]
  },
  {
   "cell_type": "markdown",
   "id": "be93877c",
   "metadata": {},
   "source": [
    "- Bộ dữ liệu chứa 125 dòng, 3 cột\n",
    "\n",
    "Nhận diện thang đo cho từng biến quan sát\n",
    "\n",
    "- Country, Continent: có kiểu object –> norminal attribute\n",
    "- GDP (millions of US$): là dữ liệu dạng số nguyên (int64)\n"
   ]
  },
  {
   "cell_type": "code",
   "execution_count": 18,
   "id": "243db3fe",
   "metadata": {},
   "outputs": [
    {
     "data": {
      "text/plain": [
       "125"
      ]
     },
     "execution_count": 18,
     "metadata": {},
     "output_type": "execute_result"
    }
   ],
   "source": [
    "list_country = gdp.Country.unique()\n",
    "list_country.size"
   ]
  },
  {
   "cell_type": "markdown",
   "id": "d022768f",
   "metadata": {},
   "source": [
    "### **GDP của các quốc gia có đồng đều không?**"
   ]
  },
  {
   "cell_type": "code",
   "execution_count": 69,
   "id": "dbd77e4d",
   "metadata": {},
   "outputs": [
    {
     "data": {
      "image/png": "[encoded data removed]",
      "text/plain": [
       "<Figure size 432x288 with 1 Axes>"
      ]
     },
     "metadata": {
      "needs_background": "light"
     },
     "output_type": "display_data"
    }
   ],
   "source": [
    "# Hint: Sử dụng dụng biểu đồ histogram để phân tích sự đồng đều về GDP của các quốc gia\n",
    "gdp.hist()\n",
    "plt.show()"
   ]
  },
  {
   "cell_type": "code",
   "execution_count": 73,
   "id": "9e5652cf",
   "metadata": {},
   "outputs": [
    {
     "data": {
      "image/png": "[encoded data removed]",
      "text/plain": [
       "<Figure size 432x288 with 1 Axes>"
      ]
     },
     "metadata": {
      "needs_background": "light"
     },
     "output_type": "display_data"
    }
   ],
   "source": [
    "# Creating a basic histogram\n",
    "import matplotlib.pyplot as plt\n",
    "plt.hist(gdp['GDP (millions of US$)'], bins = 10)\n",
    "plt.title(\"GDP by Country\")\n",
    "plt.xlabel(\"GDP\")\n",
    "plt.ylabel(\"Country\")\n",
    "plt.show()"
   ]
  },
  {
   "cell_type": "code",
   "execution_count": 77,
   "id": "0d41a080",
   "metadata": {},
   "outputs": [
    {
     "data": {
      "text/plain": [
       "3000000.0"
      ]
     },
     "execution_count": 77,
     "metadata": {},
     "output_type": "execute_result"
    }
   ],
   "source": [
    "1.4* 10**7"
   ]
  },
  {
   "cell_type": "markdown",
   "id": "b67c007a",
   "metadata": {},
   "source": [
    "**Nhận xét:**\n",
    "\n",
    "+ GDP (millions of US$) giữa các quốc gia không đồng đều\n",
    "\n",
    "+ Các nước có GDP/người cao lên chiếm rất ít\n",
    "+ Hơn 100 quốc gia có GDP chỉ khoảng 1tr đô\n",
    "+ Chỉ có số ít quốc gia có GDP xấp xỉ hơn 14tr đô"
   ]
  },
  {
   "cell_type": "markdown",
   "id": "8a0c7b57",
   "metadata": {},
   "source": [
    "### **Mỗi châu lục có bao nhiêu quốc gia nằm trong bảng dữ liệu**"
   ]
  },
  {
   "cell_type": "code",
   "execution_count": 60,
   "id": "82a7421f",
   "metadata": {},
   "outputs": [
    {
     "name": "stdout",
     "output_type": "stream",
     "text": [
      "Số quốc gia ở các châu lục\n"
     ]
    },
    {
     "data": {
      "text/plain": [
       "Europe           37\n",
       "Asia             36\n",
       "Africa           29\n",
       "North America    11\n",
       "South America     9\n",
       "Oceania           3\n",
       "Name: Continent, dtype: int64"
      ]
     },
     "execution_count": 60,
     "metadata": {},
     "output_type": "execute_result"
    }
   ],
   "source": [
    "print(\"Số quốc gia ở các châu lục\")\n",
    "gdp.Continent.value_counts()"
   ]
  },
  {
   "cell_type": "markdown",
   "id": "b7bdf32d",
   "metadata": {},
   "source": [
    "**Nhận xét:**\n",
    "\n",
    "+ Châu Âu và Châu Á cố số lượng các quốc gia lớn nhất và xấp xỉ nhau, đứng thứ 3 là Châu Phi\n",
    "\n",
    "+ Châu Đại Dương thấp nhất chỉ có 3 nước"
   ]
  },
  {
   "cell_type": "markdown",
   "id": "9ad61df2",
   "metadata": {},
   "source": [
    "### **Tổng GPD của các châu lục**"
   ]
  },
  {
   "cell_type": "code",
   "execution_count": 53,
   "id": "1df8e786",
   "metadata": {},
   "outputs": [
    {
     "name": "stdout",
     "output_type": "stream",
     "text": [
      "Tổng GDP của các châu lục\n"
     ]
    },
    {
     "data": {
      "text/plain": [
       "Continent\n",
       "Asia             24425891\n",
       "Europe           19139380\n",
       "North America    18238447\n",
       "South America     4141217\n",
       "Africa            1820811\n",
       "Oceania           1662727\n",
       "Name: GDP (millions of US$), dtype: int64"
      ]
     },
     "execution_count": 53,
     "metadata": {},
     "output_type": "execute_result"
    }
   ],
   "source": [
    "print(\"Tổng GDP của các châu lục\")\n",
    "total_GDP_continent = gdp.groupby('Continent')['GDP (millions of US$)'].sum().sort_values(ascending=False)\n",
    "total_GDP_continent"
   ]
  },
  {
   "cell_type": "markdown",
   "id": "8ac6f810",
   "metadata": {},
   "source": [
    "**Nhận xét:**\n",
    "\n",
    "+ Châu Âu và Châu Á cố số lượng các quốc gia lớn nhất nên có tổng GPD đầu người cũng chiếm tổng GDP đầu người cao\n",
    "+ Đặt biệt Bắc Mỹ, dù chỉ chỉ chiếm 1/3 số lượng các nước nhưng GDP đầu người gần bằng Châu Âu và không chênh quá nhiều so với Châu Á\n",
    "+ Nhưng Châu Phi dù có số lượng quốc gia nhiều nhưng GDP đầu người lại kém và chênh lệch quá nhiều"
   ]
  },
  {
   "cell_type": "markdown",
   "id": "1f0e654a",
   "metadata": {},
   "source": [
    "### **Top 10 quốc gia có GDP cao nhất**"
   ]
  },
  {
   "cell_type": "code",
   "execution_count": 66,
   "id": "6d3d784f",
   "metadata": {},
   "outputs": [
    {
     "name": "stdout",
     "output_type": "stream",
     "text": [
      "Top 10 quốc gia có GDP cao nhất\n"
     ]
    },
    {
     "data": {
      "text/html": [
       "<div>\n",
       "<style scoped>\n",
       "    .dataframe tbody tr th:only-of-type {\n",
       "        vertical-align: middle;\n",
       "    }\n",
       "\n",
       "    .dataframe tbody tr th {\n",
       "        vertical-align: top;\n",
       "    }\n",
       "\n",
       "    .dataframe thead th {\n",
       "        text-align: right;\n",
       "    }\n",
       "</style>\n",
       "<table border=\"1\" class=\"dataframe\">\n",
       "  <thead>\n",
       "    <tr style=\"text-align: right;\">\n",
       "      <th></th>\n",
       "      <th>Country</th>\n",
       "      <th>GDP (millions of US$)</th>\n",
       "    </tr>\n",
       "  </thead>\n",
       "  <tbody>\n",
       "    <tr>\n",
       "      <th>118</th>\n",
       "      <td>United States</td>\n",
       "      <td>15094025</td>\n",
       "    </tr>\n",
       "    <tr>\n",
       "      <th>23</th>\n",
       "      <td>China</td>\n",
       "      <td>7298147</td>\n",
       "    </tr>\n",
       "    <tr>\n",
       "      <th>60</th>\n",
       "      <td>Japan</td>\n",
       "      <td>5869471</td>\n",
       "    </tr>\n",
       "    <tr>\n",
       "      <th>44</th>\n",
       "      <td>Germany</td>\n",
       "      <td>3577031</td>\n",
       "    </tr>\n",
       "    <tr>\n",
       "      <th>41</th>\n",
       "      <td>France</td>\n",
       "      <td>2776324</td>\n",
       "    </tr>\n",
       "    <tr>\n",
       "      <th>15</th>\n",
       "      <td>Brazil</td>\n",
       "      <td>2492908</td>\n",
       "    </tr>\n",
       "    <tr>\n",
       "      <th>117</th>\n",
       "      <td>United Kingdom</td>\n",
       "      <td>2417570</td>\n",
       "    </tr>\n",
       "    <tr>\n",
       "      <th>58</th>\n",
       "      <td>Italy</td>\n",
       "      <td>2198730</td>\n",
       "    </tr>\n",
       "    <tr>\n",
       "      <th>93</th>\n",
       "      <td>Russia</td>\n",
       "      <td>1850401</td>\n",
       "    </tr>\n",
       "    <tr>\n",
       "      <th>21</th>\n",
       "      <td>Canada</td>\n",
       "      <td>1736869</td>\n",
       "    </tr>\n",
       "    <tr>\n",
       "      <th>52</th>\n",
       "      <td>India</td>\n",
       "      <td>1676143</td>\n",
       "    </tr>\n",
       "    <tr>\n",
       "      <th>102</th>\n",
       "      <td>Spain</td>\n",
       "      <td>1493513</td>\n",
       "    </tr>\n",
       "    <tr>\n",
       "      <th>5</th>\n",
       "      <td>Australia</td>\n",
       "      <td>1488221</td>\n",
       "    </tr>\n",
       "    <tr>\n",
       "      <th>73</th>\n",
       "      <td>Mexico</td>\n",
       "      <td>1154784</td>\n",
       "    </tr>\n",
       "    <tr>\n",
       "      <th>101</th>\n",
       "      <td>South Korea</td>\n",
       "      <td>1116247</td>\n",
       "    </tr>\n",
       "    <tr>\n",
       "      <th>53</th>\n",
       "      <td>Indonesia</td>\n",
       "      <td>845680</td>\n",
       "    </tr>\n",
       "    <tr>\n",
       "      <th>78</th>\n",
       "      <td>Netherlands</td>\n",
       "      <td>840433</td>\n",
       "    </tr>\n",
       "    <tr>\n",
       "      <th>112</th>\n",
       "      <td>Turkey</td>\n",
       "      <td>778089</td>\n",
       "    </tr>\n",
       "    <tr>\n",
       "      <th>106</th>\n",
       "      <td>Switzerland</td>\n",
       "      <td>636059</td>\n",
       "    </tr>\n",
       "    <tr>\n",
       "      <th>94</th>\n",
       "      <td>Saudi Arabia</td>\n",
       "      <td>577595</td>\n",
       "    </tr>\n",
       "  </tbody>\n",
       "</table>\n",
       "</div>"
      ],
      "text/plain": [
       "             Country  GDP (millions of US$)\n",
       "118    United States               15094025\n",
       "23             China                7298147\n",
       "60             Japan                5869471\n",
       "44           Germany                3577031\n",
       "41            France                2776324\n",
       "15            Brazil                2492908\n",
       "117   United Kingdom                2417570\n",
       "58             Italy                2198730\n",
       "93            Russia                1850401\n",
       "21            Canada                1736869\n",
       "52             India                1676143\n",
       "102            Spain                1493513\n",
       "5          Australia                1488221\n",
       "73            Mexico                1154784\n",
       "101      South Korea                1116247\n",
       "53         Indonesia                 845680\n",
       "78       Netherlands                 840433\n",
       "112           Turkey                 778089\n",
       "106      Switzerland                 636059\n",
       "94      Saudi Arabia                 577595"
      ]
     },
     "execution_count": 66,
     "metadata": {},
     "output_type": "execute_result"
    }
   ],
   "source": [
    "print(\"Top 10 quốc gia có GDP cao nhất\")\n",
    "top10_GDP_country = gdp.sort_values('GDP (millions of US$)', ascending=False)\n",
    "top10_GDP_country[['Country', 'GDP (millions of US$)']].head(20)"
   ]
  },
  {
   "cell_type": "markdown",
   "id": "5c16b434",
   "metadata": {},
   "source": [
    "**Nhận xét:**\n",
    "\n",
    "+ Mỹ là quốc gia có GDP đầu người cao nhất và chênh lệch gần như gấp đôi so với nước có GDP cao thứ hai là Trung Quốc và so với các quốc gia còn lại là rất lớn\n",
    "+ Các nước còn lại trong top 10, không chênh lệch quá nhiều"
   ]
  },
  {
   "cell_type": "code",
   "execution_count": 64,
   "id": "3167458f",
   "metadata": {},
   "outputs": [
    {
     "data": {
      "text/plain": [
       "'C:\\\\Users\\\\vai1hc\\\\Module 2'"
      ]
     },
     "execution_count": 64,
     "metadata": {},
     "output_type": "execute_result"
    }
   ],
   "source": [
    "pwd"
   ]
  },
  {
   "cell_type": "code",
   "execution_count": null,
   "id": "bf442344",
   "metadata": {},
   "outputs": [],
   "source": []
  }
 ],
 "metadata": {
  "kernelspec": {
   "display_name": "Python 3.9.7 ('base')",
   "language": "python",
   "name": "python3"
  },
  "language_info": {
   "codemirror_mode": {
    "name": "ipython",
    "version": 3
   },
   "file_extension": ".py",
   "mimetype": "text/x-python",
   "name": "python",
   "nbconvert_exporter": "python",
   "pygments_lexer": "ipython3",
   "version": "3.9.7"
  },
  "vscode": {
   "interpreter": {
    "hash": "deb4792152b8b9767403eeef0a1b0f34b83d442136ccee9184cd7d1131f09aa0"
   }
  }
 },
 "nbformat": 4,
 "nbformat_minor": 5
}
