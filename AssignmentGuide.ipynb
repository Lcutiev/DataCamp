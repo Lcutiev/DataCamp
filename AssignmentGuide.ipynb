{
 "cells": [
  {
   "cell_type": "markdown",
   "id": "6afbd854",
   "metadata": {},
   "source": [
    "**Vẽ biểu đồ biểu diễn năm đội có số lần tham gia vòng chung kết nhiều nhất và tỉ lệ vô địch của năm đội đó.**"
   ]
  },
  {
   "cell_type": "code",
   "execution_count": null,
   "id": "1e0af812",
   "metadata": {},
   "outputs": [],
   "source": [
    "# Lấy tên đội xuất hiện ở cội Home Team\n",
    "home_team_in_year = wcup.groupby(['Year','Home Team Name']).count()\n",
    "home_team_in_year.index"
   ]
  },
  {
   "cell_type": "code",
   "execution_count": null,
   "id": "1b4042bf",
   "metadata": {},
   "outputs": [],
   "source": [
    "# Lấy tên đội xuất hiện ở cội Away Team\n",
    "away_team_in_year = wcup.groupby(['Year','Away Team Name']).count()\n",
    "away_team_in_year.index"
   ]
  },
  {
   "cell_type": "code",
   "execution_count": null,
   "id": "8a610004",
   "metadata": {},
   "outputs": [],
   "source": [
    "# Hợp nhất hai index\n",
    "home_team_in_year.index.union(away_team_in_year.index)\n",
    "home_team_in_year.index"
   ]
  },
  {
   "cell_type": "code",
   "execution_count": null,
   "id": "e4a9f559",
   "metadata": {},
   "outputs": [],
   "source": [
    "info = []\n",
    "for i in home_team_in_year.index:\n",
    "    info.append([i[0], i[1]])\n",
    "info"
   ]
  },
  {
   "cell_type": "code",
   "execution_count": null,
   "id": "c5c00a22",
   "metadata": {},
   "outputs": [],
   "source": [
    "# Biến đổi list info ở trên sang DataFrame để tiện thao tác tiếp\n",
    "team_in_year = pd.DataFrame(info, columns=['Year','Team'])\n",
    "team_in_year"
   ]
  },
  {
   "cell_type": "code",
   "execution_count": null,
   "id": "0609d38a",
   "metadata": {},
   "outputs": [],
   "source": [
    "# Xoá dữ liệu lặp nếu có\n",
    "team_in_year.drop_duplicates(inplace=True)"
   ]
  },
  {
   "cell_type": "code",
   "execution_count": null,
   "id": "f22e8558",
   "metadata": {},
   "outputs": [],
   "source": [
    "teams_freq = team_in_year.groupby('Team')['Team'].count()"
   ]
  },
  {
   "cell_type": "code",
   "execution_count": null,
   "id": "24fd86db",
   "metadata": {},
   "outputs": [],
   "source": [
    "teams_freq.sort_values(inplace=True, ascending=False)"
   ]
  },
  {
   "cell_type": "code",
   "execution_count": null,
   "id": "040aceed",
   "metadata": {},
   "outputs": [],
   "source": [
    "teams_freq.head()"
   ]
  },
  {
   "cell_type": "code",
   "execution_count": null,
   "id": "00cd1318",
   "metadata": {},
   "outputs": [],
   "source": [
    "# Các đội vô địch, xem cách lấy kết quả ở bài tập buổi trước\n",
    "champion_statistic"
   ]
  },
  {
   "cell_type": "code",
   "execution_count": null,
   "id": "7a870e37",
   "metadata": {},
   "outputs": [],
   "source": [
    "# Lấy tên đội xuất hiện ở cả teams_freq và champion_statistic (chỉ 5 đội top)\n",
    "indexes = teams_freq.index[:5].intersection(champion_statistic.index)\n",
    "indexes"
   ]
  },
  {
   "cell_type": "code",
   "execution_count": null,
   "id": "d2de56b4",
   "metadata": {},
   "outputs": [],
   "source": [
    "top_champion = champion_statistic[indexes]\n",
    "top_champion"
   ]
  },
  {
   "cell_type": "code",
   "execution_count": null,
   "id": "a38ed49e",
   "metadata": {},
   "outputs": [],
   "source": [
    "# Dựng biểu đồ\n",
    "fig, ax = plt.subplots(1, 2)\n",
    "fig.set_size_inches(17.5, 6.5)\n",
    "ax[0].bar(teams_freq.index[:5], teams_freq.values[:5], color='#2596be', label='Số lần tham dự')\n",
    "ax[0].bar(top_champion.index, top_champion.values, color='#be4d25', label='Số lần vô địch')\n",
    "ax[0].legend()\n",
    "for bars in ax[0].containers:\n",
    "    ax[0].bar_label(bars)\n",
    "ax[0].set_title('Số lần vô địch và số lần tham dự vòng chung kết')\n",
    "ax[0].set_yticks([i for i in range(teams_freq.values.max()+2)])\n",
    "\n",
    "ax[1].bar(teams_freq.index[:5], top_champion.values/teams_freq.values[:5], color='#4525be')\n",
    "ax[1].set_title('Tỉ lệ vô địch của 5 đội có số lần tham dự nhiều nhất')\n",
    "for bars in ax[1].containers:\n",
    "    ax[1].bar_label(bars)\n",
    "plt.show()"
   ]
  }
 ],
 "metadata": {
  "kernelspec": {
   "display_name": "Python 3 (ipykernel)",
   "language": "python",
   "name": "python3"
  },
  "language_info": {
   "codemirror_mode": {
    "name": "ipython",
    "version": 3
   },
   "file_extension": ".py",
   "mimetype": "text/x-python",
   "name": "python",
   "nbconvert_exporter": "python",
   "pygments_lexer": "ipython3",
   "version": "3.9.7"
  }
 },
 "nbformat": 4,
 "nbformat_minor": 5
}
