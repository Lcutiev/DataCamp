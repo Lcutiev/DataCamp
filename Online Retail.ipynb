{
 "cells": [
  {
   "cell_type": "markdown",
   "id": "aab27334-dda1-42a8-a72c-41d3e8abd072",
   "metadata": {},
   "source": [
    "## **Mô tả bài toán**\n",
    "Một công ty bán hàng online tại UK cần đánh giá tính hình kinh doanh của họ, bộ dữ liệu được đưa cho người phân tích gồm các thông tin sau:\n",
    "\n",
    "- InvoiceNo: Số hóa đơn\n",
    "- StockCode: mã hàng\n",
    "- Description: Mô tả hàng\n",
    "- Quantity: Số lương\n",
    "- InvoiceDate: Ngày bán\n",
    "- UnitPrice: Đơn giá\n",
    "- CustomerID: Mã khách\n",
    "- Country: Nước sản xuất\n",
    "\n",
    "Bạn hãy thực hiện các công việc sau:\n",
    "1. Đọc dữ liệu từ file OnlineRetail.csv\n",
    "2. Tìm hiểu cấu trúc bộ dữ liệu: Số lượng quan sát, số thuộc tính trong bộ dữ liệu, thang đo tương ứng của các thuộc tính\n",
    "3. Hãy giải đáp các thắc mắc sau:Công ty bán hàng do bao nhiêu nước sản xuất\n",
    "Tổng số lượng đơn hàng bán ra, tổng doanh thu\n",
    "Top 10 mặt hàng có số lượng bán ra lớn nhất\n",
    "Top 10 mặt hàng có doanh thu lớn nhất'''"
   ]
  },
  {
   "cell_type": "code",
   "execution_count": null,
   "id": "0812a080",
   "metadata": {},
   "outputs": [],
   "source": [
    "'''1. Đọc dữ liệu từ file OnlineRetail.csv'''\n",
    "import pandas as pd\n",
    "data=pd.read_csv('OnlineRetail.csv', encoding = \"ISO-8859-1\")"
   ]
  },
  {
   "cell_type": "code",
   "execution_count": 23,
   "id": "4f1b3ea9-d436-4628-9f2b-dcfd327a6cdf",
   "metadata": {},
   "outputs": [
    {
     "data": {
      "text/html": [
       "<div>\n",
       "<style scoped>\n",
       "    .dataframe tbody tr th:only-of-type {\n",
       "        vertical-align: middle;\n",
       "    }\n",
       "\n",
       "    .dataframe tbody tr th {\n",
       "        vertical-align: top;\n",
       "    }\n",
       "\n",
       "    .dataframe thead th {\n",
       "        text-align: right;\n",
       "    }\n",
       "</style>\n",
       "<table border=\"1\" class=\"dataframe\">\n",
       "  <thead>\n",
       "    <tr style=\"text-align: right;\">\n",
       "      <th></th>\n",
       "      <th>Unnamed: 0</th>\n",
       "      <th>InvoiceNo</th>\n",
       "      <th>StockCode</th>\n",
       "      <th>Description</th>\n",
       "      <th>Quantity</th>\n",
       "      <th>InvoiceDate</th>\n",
       "      <th>UnitPrice</th>\n",
       "      <th>CustomerID</th>\n",
       "      <th>Country</th>\n",
       "      <th>Total</th>\n",
       "    </tr>\n",
       "  </thead>\n",
       "  <tbody>\n",
       "    <tr>\n",
       "      <th>0</th>\n",
       "      <td>0</td>\n",
       "      <td>536365</td>\n",
       "      <td>85123A</td>\n",
       "      <td>WHITE HANGING HEART T-LIGHT HOLDER</td>\n",
       "      <td>6</td>\n",
       "      <td>12/1/2010 8:26</td>\n",
       "      <td>2.55</td>\n",
       "      <td>17850.0</td>\n",
       "      <td>United Kingdom</td>\n",
       "      <td>15.30</td>\n",
       "    </tr>\n",
       "    <tr>\n",
       "      <th>1</th>\n",
       "      <td>1</td>\n",
       "      <td>536365</td>\n",
       "      <td>71053</td>\n",
       "      <td>WHITE METAL LANTERN</td>\n",
       "      <td>6</td>\n",
       "      <td>12/1/2010 8:26</td>\n",
       "      <td>3.39</td>\n",
       "      <td>17850.0</td>\n",
       "      <td>United Kingdom</td>\n",
       "      <td>20.34</td>\n",
       "    </tr>\n",
       "    <tr>\n",
       "      <th>2</th>\n",
       "      <td>2</td>\n",
       "      <td>536365</td>\n",
       "      <td>84406B</td>\n",
       "      <td>CREAM CUPID HEARTS COAT HANGER</td>\n",
       "      <td>8</td>\n",
       "      <td>12/1/2010 8:26</td>\n",
       "      <td>2.75</td>\n",
       "      <td>17850.0</td>\n",
       "      <td>United Kingdom</td>\n",
       "      <td>22.00</td>\n",
       "    </tr>\n",
       "    <tr>\n",
       "      <th>3</th>\n",
       "      <td>3</td>\n",
       "      <td>536365</td>\n",
       "      <td>84029G</td>\n",
       "      <td>KNITTED UNION FLAG HOT WATER BOTTLE</td>\n",
       "      <td>6</td>\n",
       "      <td>12/1/2010 8:26</td>\n",
       "      <td>3.39</td>\n",
       "      <td>17850.0</td>\n",
       "      <td>United Kingdom</td>\n",
       "      <td>20.34</td>\n",
       "    </tr>\n",
       "    <tr>\n",
       "      <th>4</th>\n",
       "      <td>4</td>\n",
       "      <td>536365</td>\n",
       "      <td>84029E</td>\n",
       "      <td>RED WOOLLY HOTTIE WHITE HEART.</td>\n",
       "      <td>6</td>\n",
       "      <td>12/1/2010 8:26</td>\n",
       "      <td>3.39</td>\n",
       "      <td>17850.0</td>\n",
       "      <td>United Kingdom</td>\n",
       "      <td>20.34</td>\n",
       "    </tr>\n",
       "  </tbody>\n",
       "</table>\n",
       "</div>"
      ],
      "text/plain": [
       "   Unnamed: 0 InvoiceNo StockCode                          Description  \\\n",
       "0           0    536365    85123A   WHITE HANGING HEART T-LIGHT HOLDER   \n",
       "1           1    536365     71053                  WHITE METAL LANTERN   \n",
       "2           2    536365    84406B       CREAM CUPID HEARTS COAT HANGER   \n",
       "3           3    536365    84029G  KNITTED UNION FLAG HOT WATER BOTTLE   \n",
       "4           4    536365    84029E       RED WOOLLY HOTTIE WHITE HEART.   \n",
       "\n",
       "   Quantity     InvoiceDate  UnitPrice  CustomerID         Country  Total  \n",
       "0         6  12/1/2010 8:26       2.55     17850.0  United Kingdom  15.30  \n",
       "1         6  12/1/2010 8:26       3.39     17850.0  United Kingdom  20.34  \n",
       "2         8  12/1/2010 8:26       2.75     17850.0  United Kingdom  22.00  \n",
       "3         6  12/1/2010 8:26       3.39     17850.0  United Kingdom  20.34  \n",
       "4         6  12/1/2010 8:26       3.39     17850.0  United Kingdom  20.34  "
      ]
     },
     "execution_count": 23,
     "metadata": {},
     "output_type": "execute_result"
    }
   ],
   "source": [
    "# hiển thị 5 dòng dữ liệu đầu tiên\n",
    "data.head(5)"
   ]
  },
  {
   "cell_type": "code",
   "execution_count": 21,
   "id": "10aa9242",
   "metadata": {},
   "outputs": [
    {
     "name": "stdout",
     "output_type": "stream",
     "text": [
      "<class 'pandas.core.frame.DataFrame'>\n",
      "RangeIndex: 541909 entries, 0 to 541908\n",
      "Data columns (total 8 columns):\n",
      " #   Column       Non-Null Count   Dtype  \n",
      "---  ------       --------------   -----  \n",
      " 0   InvoiceNo    541909 non-null  object \n",
      " 1   StockCode    541909 non-null  object \n",
      " 2   Description  540455 non-null  object \n",
      " 3   Quantity     541909 non-null  int64  \n",
      " 4   InvoiceDate  541909 non-null  object \n",
      " 5   UnitPrice    541909 non-null  float64\n",
      " 6   CustomerID   406829 non-null  float64\n",
      " 7   Country      541909 non-null  object \n",
      "dtypes: float64(2), int64(1), object(5)\n",
      "memory usage: 33.1+ MB\n"
     ]
    }
   ],
   "source": [
    "'''2. Tìm hiểu cấu trúc bộ dữ liệu'''\n",
    "data.info()"
   ]
  },
  {
   "cell_type": "markdown",
   "id": "4e990c09-afbb-40a0-ab1e-3fef9c03cd91",
   "metadata": {},
   "source": [
    "- Bộ dữ liệu chứa 541909 dòng dữ liệu và 8 cột, chỉ có cột CustomerID không có đầy đủ thông tin (406829 non-null <541909 )\n",
    "- InvoiceNo, StockCode, Description, InvoiceDate, country: là thuộc tính định tính, có thang đo định danh\n",
    "- CustomerID mặc dù có kiểu số (float64), nhưng các con số này chỉ có ý nghĩa phân biệt khác hàng này với khách hàng khác –> thuộc tính định danh\n",
    "- Quantity, UnitPrice: thuộc tính định lượng, thang đo ratio"
   ]
  },
  {
   "cell_type": "markdown",
   "id": "fed7a24c",
   "metadata": {},
   "source": [
    "### **Công ty bán hàng do bao nhiêu nước sản xuất**"
   ]
  },
  {
   "cell_type": "code",
   "execution_count": 2,
   "id": "13ff9acf",
   "metadata": {},
   "outputs": [
    {
     "name": "stdout",
     "output_type": "stream",
     "text": [
      "số lượng các quốc gia: 38\n"
     ]
    }
   ],
   "source": [
    "'''3. Giải đáp thắc mắc'''\n",
    "# 3.1 Công ty bán hàng tại bao nhiêu quốc gia\n",
    "# Lấy ra tên các quốc gia\n",
    "country = data.Country.unique()\n",
    "print (\"số lượng các quốc gia: \" + str(country.size))"
   ]
  },
  {
   "cell_type": "markdown",
   "id": "56515a1e",
   "metadata": {},
   "source": [
    "### **Tổng số lượng đơn hàng bán ra, tổng doanh thu**"
   ]
  },
  {
   "cell_type": "code",
   "execution_count": 3,
   "id": "5aa9128c",
   "metadata": {},
   "outputs": [
    {
     "data": {
      "text/html": [
       "<div>\n",
       "<style scoped>\n",
       "    .dataframe tbody tr th:only-of-type {\n",
       "        vertical-align: middle;\n",
       "    }\n",
       "\n",
       "    .dataframe tbody tr th {\n",
       "        vertical-align: top;\n",
       "    }\n",
       "\n",
       "    .dataframe thead th {\n",
       "        text-align: right;\n",
       "    }\n",
       "</style>\n",
       "<table border=\"1\" class=\"dataframe\">\n",
       "  <thead>\n",
       "    <tr style=\"text-align: right;\">\n",
       "      <th></th>\n",
       "      <th>InvoiceNo</th>\n",
       "      <th>StockCode</th>\n",
       "      <th>Description</th>\n",
       "      <th>Quantity</th>\n",
       "      <th>InvoiceDate</th>\n",
       "      <th>UnitPrice</th>\n",
       "      <th>CustomerID</th>\n",
       "      <th>Country</th>\n",
       "      <th>Total</th>\n",
       "    </tr>\n",
       "  </thead>\n",
       "  <tbody>\n",
       "    <tr>\n",
       "      <th>0</th>\n",
       "      <td>536365</td>\n",
       "      <td>85123A</td>\n",
       "      <td>WHITE HANGING HEART T-LIGHT HOLDER</td>\n",
       "      <td>6</td>\n",
       "      <td>12/1/2010 8:26</td>\n",
       "      <td>2.55</td>\n",
       "      <td>17850.0</td>\n",
       "      <td>United Kingdom</td>\n",
       "      <td>15.30</td>\n",
       "    </tr>\n",
       "    <tr>\n",
       "      <th>1</th>\n",
       "      <td>536365</td>\n",
       "      <td>71053</td>\n",
       "      <td>WHITE METAL LANTERN</td>\n",
       "      <td>6</td>\n",
       "      <td>12/1/2010 8:26</td>\n",
       "      <td>3.39</td>\n",
       "      <td>17850.0</td>\n",
       "      <td>United Kingdom</td>\n",
       "      <td>20.34</td>\n",
       "    </tr>\n",
       "    <tr>\n",
       "      <th>2</th>\n",
       "      <td>536365</td>\n",
       "      <td>84406B</td>\n",
       "      <td>CREAM CUPID HEARTS COAT HANGER</td>\n",
       "      <td>8</td>\n",
       "      <td>12/1/2010 8:26</td>\n",
       "      <td>2.75</td>\n",
       "      <td>17850.0</td>\n",
       "      <td>United Kingdom</td>\n",
       "      <td>22.00</td>\n",
       "    </tr>\n",
       "    <tr>\n",
       "      <th>3</th>\n",
       "      <td>536365</td>\n",
       "      <td>84029G</td>\n",
       "      <td>KNITTED UNION FLAG HOT WATER BOTTLE</td>\n",
       "      <td>6</td>\n",
       "      <td>12/1/2010 8:26</td>\n",
       "      <td>3.39</td>\n",
       "      <td>17850.0</td>\n",
       "      <td>United Kingdom</td>\n",
       "      <td>20.34</td>\n",
       "    </tr>\n",
       "    <tr>\n",
       "      <th>4</th>\n",
       "      <td>536365</td>\n",
       "      <td>84029E</td>\n",
       "      <td>RED WOOLLY HOTTIE WHITE HEART.</td>\n",
       "      <td>6</td>\n",
       "      <td>12/1/2010 8:26</td>\n",
       "      <td>3.39</td>\n",
       "      <td>17850.0</td>\n",
       "      <td>United Kingdom</td>\n",
       "      <td>20.34</td>\n",
       "    </tr>\n",
       "  </tbody>\n",
       "</table>\n",
       "</div>"
      ],
      "text/plain": [
       "  InvoiceNo StockCode                          Description  Quantity  \\\n",
       "0    536365    85123A   WHITE HANGING HEART T-LIGHT HOLDER         6   \n",
       "1    536365     71053                  WHITE METAL LANTERN         6   \n",
       "2    536365    84406B       CREAM CUPID HEARTS COAT HANGER         8   \n",
       "3    536365    84029G  KNITTED UNION FLAG HOT WATER BOTTLE         6   \n",
       "4    536365    84029E       RED WOOLLY HOTTIE WHITE HEART.         6   \n",
       "\n",
       "      InvoiceDate  UnitPrice  CustomerID         Country  Total  \n",
       "0  12/1/2010 8:26       2.55     17850.0  United Kingdom  15.30  \n",
       "1  12/1/2010 8:26       3.39     17850.0  United Kingdom  20.34  \n",
       "2  12/1/2010 8:26       2.75     17850.0  United Kingdom  22.00  \n",
       "3  12/1/2010 8:26       3.39     17850.0  United Kingdom  20.34  \n",
       "4  12/1/2010 8:26       3.39     17850.0  United Kingdom  20.34  "
      ]
     },
     "execution_count": 3,
     "metadata": {},
     "output_type": "execute_result"
    }
   ],
   "source": [
    "# 3.2 Số lượng đơn hàng bán ra và tổng doanh thu\n",
    "# Tạo cột tính thành tiền của các mặt hàng\n",
    "data['Total'] = data['Quantity'] * data['UnitPrice']\n",
    "data.head()"
   ]
  },
  {
   "cell_type": "code",
   "execution_count": 4,
   "id": "ec7dbff5",
   "metadata": {},
   "outputs": [
    {
     "data": {
      "text/plain": [
       "10/31/2011 14:41    1114\n",
       "12/8/2011 9:28       749\n",
       "12/9/2011 10:03      731\n",
       "12/5/2011 17:24      721\n",
       "6/29/2011 15:58      705\n",
       "                    ... \n",
       "9/28/2011 9:57         1\n",
       "9/28/2011 9:45         1\n",
       "3/16/2011 12:13        1\n",
       "3/16/2011 12:22        1\n",
       "3/16/2011 15:58        1\n",
       "Name: InvoiceDate, Length: 23260, dtype: int64"
      ]
     },
     "execution_count": 4,
     "metadata": {},
     "output_type": "execute_result"
    }
   ],
   "source": [
    "data.InvoiceDate.value_counts()"
   ]
  },
  {
   "cell_type": "code",
   "execution_count": 5,
   "id": "4261cc2e",
   "metadata": {},
   "outputs": [
    {
     "name": "stdout",
     "output_type": "stream",
     "text": [
      "Số lượng hóa đơn bán ra: 1\n",
      "Tổng doanh thu: 9747747.933999998\n"
     ]
    }
   ],
   "source": [
    "# Giá trị đơn hàng của mỗi đơn hàng\n",
    "total_invoices = data['Total'].sum()\n",
    "print (\"Số lượng hóa đơn bán ra: \"+ str (total_invoices.size))\n",
    "print (\"Tổng doanh thu: \" + str(total_invoices.sum()))"
   ]
  },
  {
   "cell_type": "markdown",
   "id": "24c6861e",
   "metadata": {},
   "source": [
    "### **Top 10 mặt hàng có số lượng hóa đơn bán ra nhiều nhất**"
   ]
  },
  {
   "cell_type": "code",
   "execution_count": 6,
   "id": "bb59c883",
   "metadata": {},
   "outputs": [
    {
     "data": {
      "text/html": [
       "<div>\n",
       "<style scoped>\n",
       "    .dataframe tbody tr th:only-of-type {\n",
       "        vertical-align: middle;\n",
       "    }\n",
       "\n",
       "    .dataframe tbody tr th {\n",
       "        vertical-align: top;\n",
       "    }\n",
       "\n",
       "    .dataframe thead th {\n",
       "        text-align: right;\n",
       "    }\n",
       "</style>\n",
       "<table border=\"1\" class=\"dataframe\">\n",
       "  <thead>\n",
       "    <tr style=\"text-align: right;\">\n",
       "      <th></th>\n",
       "      <th>StockCode</th>\n",
       "      <th>Description</th>\n",
       "      <th>Quantity</th>\n",
       "    </tr>\n",
       "  </thead>\n",
       "  <tbody>\n",
       "    <tr>\n",
       "      <th>540421</th>\n",
       "      <td>23843</td>\n",
       "      <td>PAPER CRAFT , LITTLE BIRDIE</td>\n",
       "      <td>80995</td>\n",
       "    </tr>\n",
       "    <tr>\n",
       "      <th>61619</th>\n",
       "      <td>23166</td>\n",
       "      <td>MEDIUM CERAMIC TOP STORAGE JAR</td>\n",
       "      <td>74215</td>\n",
       "    </tr>\n",
       "    <tr>\n",
       "      <th>502122</th>\n",
       "      <td>84826</td>\n",
       "      <td>ASSTD DESIGN 3D PAPER STICKERS</td>\n",
       "      <td>12540</td>\n",
       "    </tr>\n",
       "    <tr>\n",
       "      <th>74614</th>\n",
       "      <td>37413</td>\n",
       "      <td>NaN</td>\n",
       "      <td>5568</td>\n",
       "    </tr>\n",
       "    <tr>\n",
       "      <th>421632</th>\n",
       "      <td>84077</td>\n",
       "      <td>WORLD WAR 2 GLIDERS ASSTD DESIGNS</td>\n",
       "      <td>4800</td>\n",
       "    </tr>\n",
       "    <tr>\n",
       "      <th>206121</th>\n",
       "      <td>22197</td>\n",
       "      <td>SMALL POPCORN HOLDER</td>\n",
       "      <td>4300</td>\n",
       "    </tr>\n",
       "    <tr>\n",
       "      <th>220843</th>\n",
       "      <td>85123A</td>\n",
       "      <td>?</td>\n",
       "      <td>4000</td>\n",
       "    </tr>\n",
       "    <tr>\n",
       "      <th>97432</th>\n",
       "      <td>22053</td>\n",
       "      <td>EMPIRE DESIGN ROSETTE</td>\n",
       "      <td>3906</td>\n",
       "    </tr>\n",
       "    <tr>\n",
       "      <th>270885</th>\n",
       "      <td>18007</td>\n",
       "      <td>ESSENTIAL BALM 3.5g TIN IN ENVELOPE</td>\n",
       "      <td>3186</td>\n",
       "    </tr>\n",
       "    <tr>\n",
       "      <th>160546</th>\n",
       "      <td>21108</td>\n",
       "      <td>FAIRY CAKE FLANNEL ASSORTED COLOUR</td>\n",
       "      <td>3114</td>\n",
       "    </tr>\n",
       "  </tbody>\n",
       "</table>\n",
       "</div>"
      ],
      "text/plain": [
       "       StockCode                          Description  Quantity\n",
       "540421     23843          PAPER CRAFT , LITTLE BIRDIE     80995\n",
       "61619      23166       MEDIUM CERAMIC TOP STORAGE JAR     74215\n",
       "502122     84826       ASSTD DESIGN 3D PAPER STICKERS     12540\n",
       "74614      37413                                  NaN      5568\n",
       "421632     84077    WORLD WAR 2 GLIDERS ASSTD DESIGNS      4800\n",
       "206121     22197                 SMALL POPCORN HOLDER      4300\n",
       "220843    85123A                                    ?      4000\n",
       "97432      22053                EMPIRE DESIGN ROSETTE      3906\n",
       "270885     18007  ESSENTIAL BALM 3.5g TIN IN ENVELOPE      3186\n",
       "160546     21108   FAIRY CAKE FLANNEL ASSORTED COLOUR      3114"
      ]
     },
     "execution_count": 6,
     "metadata": {},
     "output_type": "execute_result"
    }
   ],
   "source": [
    "# 3.3 Method 1: Top 10 mặt hàng có số lượng bán ra lớn nhất\n",
    "quantity_product = data.sort_values('Quantity',ascending= False)\n",
    "quantity_product[['StockCode', 'Description', 'Quantity']].head(10)"
   ]
  },
  {
   "cell_type": "code",
   "execution_count": 7,
   "id": "5f4bcbd3",
   "metadata": {},
   "outputs": [
    {
     "data": {
      "text/plain": [
       "StockCode  Description                        \n",
       "23843      PAPER CRAFT , LITTLE BIRDIE            80995\n",
       "23166      MEDIUM CERAMIC TOP STORAGE JAR         74215\n",
       "84826      ASSTD DESIGN 3D PAPER STICKERS         12540\n",
       "84077      WORLD WAR 2 GLIDERS ASSTD DESIGNS       4800\n",
       "22197      SMALL POPCORN HOLDER                    4300\n",
       "85123A     ?                                       4000\n",
       "22053      EMPIRE DESIGN ROSETTE                   3906\n",
       "18007      ESSENTIAL BALM 3.5g TIN IN ENVELOPE     3186\n",
       "21108      FAIRY CAKE FLANNEL ASSORTED COLOUR      3114\n",
       "23343      came coded as 20713                     3100\n",
       "Name: Quantity, dtype: int64"
      ]
     },
     "execution_count": 7,
     "metadata": {},
     "output_type": "execute_result"
    }
   ],
   "source": [
    "# Nếu groupby 'StockCode' và 'Description' \n",
    "# thì kết quả trả về sẽ tự loại bỏ kết quả Description có chứa 'NaN' ? không đúng lắm\n",
    "quantity_product2 = data.groupby(['StockCode', 'Description'])['Quantity'].max().sort_values(ascending= False)\n",
    "quantity_product2.head(10)"
   ]
  },
  {
   "cell_type": "markdown",
   "id": "38dae369",
   "metadata": {},
   "source": [
    "### **Top 10 mặt hàng có tổng số lượng hóa đơn bán ra lớn nhất**"
   ]
  },
  {
   "cell_type": "code",
   "execution_count": 8,
   "id": "5eb22e5d",
   "metadata": {
    "scrolled": true
   },
   "outputs": [
    {
     "data": {
      "text/plain": [
       "StockCode\n",
       "22197     56450\n",
       "84077     53847\n",
       "85099B    47363\n",
       "85123A    38830\n",
       "84879     36221\n",
       "21212     36039\n",
       "23084     30646\n",
       "22492     26437\n",
       "22616     26315\n",
       "21977     24753\n",
       "Name: Quantity, dtype: int64"
      ]
     },
     "execution_count": 8,
     "metadata": {},
     "output_type": "execute_result"
    }
   ],
   "source": [
    "# 3.3 Method 2: Top 10 mặt hàng có tổng số lượng bán ra lớn nhất\n",
    "quantity_product2 = data.groupby('StockCode')['Quantity'].sum().sort_values(ascending= False)\n",
    "quantity_product2.head(10)"
   ]
  },
  {
   "cell_type": "code",
   "execution_count": 9,
   "id": "dcb5b063",
   "metadata": {
    "scrolled": true
   },
   "outputs": [
    {
     "data": {
      "text/plain": [
       "StockCode  Description                       \n",
       "84077      WORLD WAR 2 GLIDERS ASSTD DESIGNS     53847\n",
       "85099B     JUMBO BAG RED RETROSPOT               47363\n",
       "84879      ASSORTED COLOUR BIRD ORNAMENT         36381\n",
       "22197      POPCORN HOLDER                        36334\n",
       "21212      PACK OF 72 RETROSPOT CAKE CASES       36039\n",
       "85123A     WHITE HANGING HEART T-LIGHT HOLDER    35025\n",
       "23084      RABBIT NIGHT LIGHT                    30680\n",
       "22492      MINI PAINT SET VINTAGE                26437\n",
       "22616      PACK OF 12 LONDON TISSUES             26315\n",
       "21977      PACK OF 60 PINK PAISLEY CAKE CASES    24753\n",
       "Name: Quantity, dtype: int64"
      ]
     },
     "execution_count": 9,
     "metadata": {},
     "output_type": "execute_result"
    }
   ],
   "source": [
    "# 3.3 Method 2: Top 10 mặt hàng có tổng số lượng bán ra lớn nhất\n",
    "quantity_product2 = data.groupby(['StockCode', 'Description'])['Quantity'].sum().sort_values(ascending= False)\n",
    "quantity_product2.head(10)"
   ]
  },
  {
   "cell_type": "markdown",
   "id": "48cfc866",
   "metadata": {},
   "source": [
    "### **Top 10 mặt hàng có doanh thu lớn nhất**"
   ]
  },
  {
   "cell_type": "code",
   "execution_count": 10,
   "id": "e8ce6ce8",
   "metadata": {},
   "outputs": [
    {
     "data": {
      "text/plain": [
       "StockCode  Description                       \n",
       "DOT        DOTCOM POSTAGE                        206245.48\n",
       "22423      REGENCY CAKESTAND 3 TIER              164762.19\n",
       "47566      PARTY BUNTING                          98302.98\n",
       "85123A     WHITE HANGING HEART T-LIGHT HOLDER     97715.99\n",
       "85099B     JUMBO BAG RED RETROSPOT                92356.03\n",
       "23084      RABBIT NIGHT LIGHT                     66756.59\n",
       "POST       POSTAGE                                66230.64\n",
       "22086      PAPER CHAIN KIT 50'S CHRISTMAS         63791.94\n",
       "84879      ASSORTED COLOUR BIRD ORNAMENT          58959.73\n",
       "79321      CHILLI LIGHTS                          53768.06\n",
       "Name: Total, dtype: float64"
      ]
     },
     "execution_count": 10,
     "metadata": {},
     "output_type": "execute_result"
    }
   ],
   "source": [
    "# 3.3 Top 10 mặt hàng có doanh thu lớn nhất\n",
    "# sử dụng groupby để tiến hành tính tổng (sum) theo nhóm.\n",
    "#Vì mỗi mã hàng sẽ có một mô tả tương ứng, để rõ ràng, tiến hành gom nhóm theo 2 thuộc tính: StockCode, Description\n",
    "total_quantity_product = data.groupby(['StockCode', 'Description'])['Total'].sum().sort_values(ascending= False)\n",
    "total_quantity_product.head(10)"
   ]
  },
  {
   "cell_type": "markdown",
   "id": "423251b9",
   "metadata": {},
   "source": [
    "**Kết luận:**\n",
    "- Chúng ta nhìn thấy rằng, mặt hàng bán ra với số lượng nhiều nhất, không phải mặt hàng mang lại doanh thu lớn nhất\n",
    "- Có một số mặt hàng như 85099B – JUMBO BAG RED RETROSPOT và 23084 RABBIT NIGHT LIGHT nằm trong top 10 cả về số lượng lẫn doanh thu"
   ]
  },
  {
   "cell_type": "markdown",
   "id": "a4b3024f",
   "metadata": {},
   "source": [
    "### **Trích xuất dữ liệu các cột Description và Quantity lưu vào file OnlineRetail.csv**"
   ]
  },
  {
   "cell_type": "code",
   "execution_count": 11,
   "id": "ad662eba",
   "metadata": {},
   "outputs": [
    {
     "data": {
      "text/html": [
       "<div>\n",
       "<style scoped>\n",
       "    .dataframe tbody tr th:only-of-type {\n",
       "        vertical-align: middle;\n",
       "    }\n",
       "\n",
       "    .dataframe tbody tr th {\n",
       "        vertical-align: top;\n",
       "    }\n",
       "\n",
       "    .dataframe thead th {\n",
       "        text-align: right;\n",
       "    }\n",
       "</style>\n",
       "<table border=\"1\" class=\"dataframe\">\n",
       "  <thead>\n",
       "    <tr style=\"text-align: right;\">\n",
       "      <th></th>\n",
       "      <th>InvoiceNo</th>\n",
       "      <th>StockCode</th>\n",
       "      <th>Description</th>\n",
       "      <th>Quantity</th>\n",
       "      <th>InvoiceDate</th>\n",
       "      <th>UnitPrice</th>\n",
       "      <th>CustomerID</th>\n",
       "      <th>Country</th>\n",
       "      <th>Total</th>\n",
       "    </tr>\n",
       "  </thead>\n",
       "  <tbody>\n",
       "    <tr>\n",
       "      <th>0</th>\n",
       "      <td>536365</td>\n",
       "      <td>85123A</td>\n",
       "      <td>WHITE HANGING HEART T-LIGHT HOLDER</td>\n",
       "      <td>6</td>\n",
       "      <td>12/1/2010 8:26</td>\n",
       "      <td>2.55</td>\n",
       "      <td>17850.0</td>\n",
       "      <td>United Kingdom</td>\n",
       "      <td>15.30</td>\n",
       "    </tr>\n",
       "    <tr>\n",
       "      <th>1</th>\n",
       "      <td>536365</td>\n",
       "      <td>71053</td>\n",
       "      <td>WHITE METAL LANTERN</td>\n",
       "      <td>6</td>\n",
       "      <td>12/1/2010 8:26</td>\n",
       "      <td>3.39</td>\n",
       "      <td>17850.0</td>\n",
       "      <td>United Kingdom</td>\n",
       "      <td>20.34</td>\n",
       "    </tr>\n",
       "    <tr>\n",
       "      <th>2</th>\n",
       "      <td>536365</td>\n",
       "      <td>84406B</td>\n",
       "      <td>CREAM CUPID HEARTS COAT HANGER</td>\n",
       "      <td>8</td>\n",
       "      <td>12/1/2010 8:26</td>\n",
       "      <td>2.75</td>\n",
       "      <td>17850.0</td>\n",
       "      <td>United Kingdom</td>\n",
       "      <td>22.00</td>\n",
       "    </tr>\n",
       "    <tr>\n",
       "      <th>3</th>\n",
       "      <td>536365</td>\n",
       "      <td>84029G</td>\n",
       "      <td>KNITTED UNION FLAG HOT WATER BOTTLE</td>\n",
       "      <td>6</td>\n",
       "      <td>12/1/2010 8:26</td>\n",
       "      <td>3.39</td>\n",
       "      <td>17850.0</td>\n",
       "      <td>United Kingdom</td>\n",
       "      <td>20.34</td>\n",
       "    </tr>\n",
       "    <tr>\n",
       "      <th>4</th>\n",
       "      <td>536365</td>\n",
       "      <td>84029E</td>\n",
       "      <td>RED WOOLLY HOTTIE WHITE HEART.</td>\n",
       "      <td>6</td>\n",
       "      <td>12/1/2010 8:26</td>\n",
       "      <td>3.39</td>\n",
       "      <td>17850.0</td>\n",
       "      <td>United Kingdom</td>\n",
       "      <td>20.34</td>\n",
       "    </tr>\n",
       "  </tbody>\n",
       "</table>\n",
       "</div>"
      ],
      "text/plain": [
       "  InvoiceNo StockCode                          Description  Quantity  \\\n",
       "0    536365    85123A   WHITE HANGING HEART T-LIGHT HOLDER         6   \n",
       "1    536365     71053                  WHITE METAL LANTERN         6   \n",
       "2    536365    84406B       CREAM CUPID HEARTS COAT HANGER         8   \n",
       "3    536365    84029G  KNITTED UNION FLAG HOT WATER BOTTLE         6   \n",
       "4    536365    84029E       RED WOOLLY HOTTIE WHITE HEART.         6   \n",
       "\n",
       "      InvoiceDate  UnitPrice  CustomerID         Country  Total  \n",
       "0  12/1/2010 8:26       2.55     17850.0  United Kingdom  15.30  \n",
       "1  12/1/2010 8:26       3.39     17850.0  United Kingdom  20.34  \n",
       "2  12/1/2010 8:26       2.75     17850.0  United Kingdom  22.00  \n",
       "3  12/1/2010 8:26       3.39     17850.0  United Kingdom  20.34  \n",
       "4  12/1/2010 8:26       3.39     17850.0  United Kingdom  20.34  "
      ]
     },
     "execution_count": 11,
     "metadata": {},
     "output_type": "execute_result"
    }
   ],
   "source": [
    "data.head()"
   ]
  },
  {
   "cell_type": "code",
   "execution_count": 14,
   "id": "ee384bfc",
   "metadata": {},
   "outputs": [
    {
     "data": {
      "text/html": [
       "<div>\n",
       "<style scoped>\n",
       "    .dataframe tbody tr th:only-of-type {\n",
       "        vertical-align: middle;\n",
       "    }\n",
       "\n",
       "    .dataframe tbody tr th {\n",
       "        vertical-align: top;\n",
       "    }\n",
       "\n",
       "    .dataframe thead th {\n",
       "        text-align: right;\n",
       "    }\n",
       "</style>\n",
       "<table border=\"1\" class=\"dataframe\">\n",
       "  <thead>\n",
       "    <tr style=\"text-align: right;\">\n",
       "      <th></th>\n",
       "      <th>Description</th>\n",
       "      <th>Quantity</th>\n",
       "    </tr>\n",
       "  </thead>\n",
       "  <tbody>\n",
       "    <tr>\n",
       "      <th>0</th>\n",
       "      <td>WHITE HANGING HEART T-LIGHT HOLDER</td>\n",
       "      <td>6</td>\n",
       "    </tr>\n",
       "    <tr>\n",
       "      <th>1</th>\n",
       "      <td>WHITE METAL LANTERN</td>\n",
       "      <td>6</td>\n",
       "    </tr>\n",
       "    <tr>\n",
       "      <th>2</th>\n",
       "      <td>CREAM CUPID HEARTS COAT HANGER</td>\n",
       "      <td>8</td>\n",
       "    </tr>\n",
       "    <tr>\n",
       "      <th>3</th>\n",
       "      <td>KNITTED UNION FLAG HOT WATER BOTTLE</td>\n",
       "      <td>6</td>\n",
       "    </tr>\n",
       "    <tr>\n",
       "      <th>4</th>\n",
       "      <td>RED WOOLLY HOTTIE WHITE HEART.</td>\n",
       "      <td>6</td>\n",
       "    </tr>\n",
       "    <tr>\n",
       "      <th>...</th>\n",
       "      <td>...</td>\n",
       "      <td>...</td>\n",
       "    </tr>\n",
       "    <tr>\n",
       "      <th>541904</th>\n",
       "      <td>PACK OF 20 SPACEBOY NAPKINS</td>\n",
       "      <td>12</td>\n",
       "    </tr>\n",
       "    <tr>\n",
       "      <th>541905</th>\n",
       "      <td>CHILDREN'S APRON DOLLY GIRL</td>\n",
       "      <td>6</td>\n",
       "    </tr>\n",
       "    <tr>\n",
       "      <th>541906</th>\n",
       "      <td>CHILDRENS CUTLERY DOLLY GIRL</td>\n",
       "      <td>4</td>\n",
       "    </tr>\n",
       "    <tr>\n",
       "      <th>541907</th>\n",
       "      <td>CHILDRENS CUTLERY CIRCUS PARADE</td>\n",
       "      <td>4</td>\n",
       "    </tr>\n",
       "    <tr>\n",
       "      <th>541908</th>\n",
       "      <td>BAKING SET 9 PIECE RETROSPOT</td>\n",
       "      <td>3</td>\n",
       "    </tr>\n",
       "  </tbody>\n",
       "</table>\n",
       "<p>541909 rows × 2 columns</p>\n",
       "</div>"
      ],
      "text/plain": [
       "                                Description  Quantity\n",
       "0        WHITE HANGING HEART T-LIGHT HOLDER         6\n",
       "1                       WHITE METAL LANTERN         6\n",
       "2            CREAM CUPID HEARTS COAT HANGER         8\n",
       "3       KNITTED UNION FLAG HOT WATER BOTTLE         6\n",
       "4            RED WOOLLY HOTTIE WHITE HEART.         6\n",
       "...                                     ...       ...\n",
       "541904          PACK OF 20 SPACEBOY NAPKINS        12\n",
       "541905         CHILDREN'S APRON DOLLY GIRL          6\n",
       "541906        CHILDRENS CUTLERY DOLLY GIRL          4\n",
       "541907      CHILDRENS CUTLERY CIRCUS PARADE         4\n",
       "541908        BAKING SET 9 PIECE RETROSPOT          3\n",
       "\n",
       "[541909 rows x 2 columns]"
      ]
     },
     "execution_count": 14,
     "metadata": {},
     "output_type": "execute_result"
    }
   ],
   "source": [
    "info_desc_qunt = data.loc[:, ['Description','Quantity']]\n",
    "info_desc_qunt"
   ]
  },
  {
   "cell_type": "code",
   "execution_count": 15,
   "id": "bddfd274",
   "metadata": {},
   "outputs": [],
   "source": [
    "info_desc_qunt.to_csv('OnlineRetail.csv')"
   ]
  },
  {
   "cell_type": "markdown",
   "id": "bf214168",
   "metadata": {
    "tags": []
   },
   "source": [
    "### **Trích xuất 1000 dòng đầu tiên lưu vào file OnlineRetail.xlsx**"
   ]
  },
  {
   "cell_type": "code",
   "execution_count": 19,
   "id": "de0ca78b",
   "metadata": {},
   "outputs": [
    {
     "data": {
      "text/html": [
       "<div>\n",
       "<style scoped>\n",
       "    .dataframe tbody tr th:only-of-type {\n",
       "        vertical-align: middle;\n",
       "    }\n",
       "\n",
       "    .dataframe tbody tr th {\n",
       "        vertical-align: top;\n",
       "    }\n",
       "\n",
       "    .dataframe thead th {\n",
       "        text-align: right;\n",
       "    }\n",
       "</style>\n",
       "<table border=\"1\" class=\"dataframe\">\n",
       "  <thead>\n",
       "    <tr style=\"text-align: right;\">\n",
       "      <th></th>\n",
       "      <th>InvoiceNo</th>\n",
       "      <th>StockCode</th>\n",
       "      <th>Description</th>\n",
       "      <th>Quantity</th>\n",
       "      <th>InvoiceDate</th>\n",
       "      <th>UnitPrice</th>\n",
       "      <th>CustomerID</th>\n",
       "      <th>Country</th>\n",
       "      <th>Total</th>\n",
       "    </tr>\n",
       "  </thead>\n",
       "  <tbody>\n",
       "    <tr>\n",
       "      <th>0</th>\n",
       "      <td>536365</td>\n",
       "      <td>85123A</td>\n",
       "      <td>WHITE HANGING HEART T-LIGHT HOLDER</td>\n",
       "      <td>6</td>\n",
       "      <td>12/1/2010 8:26</td>\n",
       "      <td>2.55</td>\n",
       "      <td>17850.0</td>\n",
       "      <td>United Kingdom</td>\n",
       "      <td>15.30</td>\n",
       "    </tr>\n",
       "    <tr>\n",
       "      <th>1</th>\n",
       "      <td>536365</td>\n",
       "      <td>71053</td>\n",
       "      <td>WHITE METAL LANTERN</td>\n",
       "      <td>6</td>\n",
       "      <td>12/1/2010 8:26</td>\n",
       "      <td>3.39</td>\n",
       "      <td>17850.0</td>\n",
       "      <td>United Kingdom</td>\n",
       "      <td>20.34</td>\n",
       "    </tr>\n",
       "    <tr>\n",
       "      <th>2</th>\n",
       "      <td>536365</td>\n",
       "      <td>84406B</td>\n",
       "      <td>CREAM CUPID HEARTS COAT HANGER</td>\n",
       "      <td>8</td>\n",
       "      <td>12/1/2010 8:26</td>\n",
       "      <td>2.75</td>\n",
       "      <td>17850.0</td>\n",
       "      <td>United Kingdom</td>\n",
       "      <td>22.00</td>\n",
       "    </tr>\n",
       "    <tr>\n",
       "      <th>3</th>\n",
       "      <td>536365</td>\n",
       "      <td>84029G</td>\n",
       "      <td>KNITTED UNION FLAG HOT WATER BOTTLE</td>\n",
       "      <td>6</td>\n",
       "      <td>12/1/2010 8:26</td>\n",
       "      <td>3.39</td>\n",
       "      <td>17850.0</td>\n",
       "      <td>United Kingdom</td>\n",
       "      <td>20.34</td>\n",
       "    </tr>\n",
       "    <tr>\n",
       "      <th>4</th>\n",
       "      <td>536365</td>\n",
       "      <td>84029E</td>\n",
       "      <td>RED WOOLLY HOTTIE WHITE HEART.</td>\n",
       "      <td>6</td>\n",
       "      <td>12/1/2010 8:26</td>\n",
       "      <td>3.39</td>\n",
       "      <td>17850.0</td>\n",
       "      <td>United Kingdom</td>\n",
       "      <td>20.34</td>\n",
       "    </tr>\n",
       "    <tr>\n",
       "      <th>...</th>\n",
       "      <td>...</td>\n",
       "      <td>...</td>\n",
       "      <td>...</td>\n",
       "      <td>...</td>\n",
       "      <td>...</td>\n",
       "      <td>...</td>\n",
       "      <td>...</td>\n",
       "      <td>...</td>\n",
       "      <td>...</td>\n",
       "    </tr>\n",
       "    <tr>\n",
       "      <th>995</th>\n",
       "      <td>536520</td>\n",
       "      <td>22469</td>\n",
       "      <td>HEART OF WICKER SMALL</td>\n",
       "      <td>1</td>\n",
       "      <td>12/1/2010 12:43</td>\n",
       "      <td>1.65</td>\n",
       "      <td>14729.0</td>\n",
       "      <td>United Kingdom</td>\n",
       "      <td>1.65</td>\n",
       "    </tr>\n",
       "    <tr>\n",
       "      <th>996</th>\n",
       "      <td>536520</td>\n",
       "      <td>22100</td>\n",
       "      <td>SKULLS SQUARE TISSUE BOX</td>\n",
       "      <td>1</td>\n",
       "      <td>12/1/2010 12:43</td>\n",
       "      <td>1.25</td>\n",
       "      <td>14729.0</td>\n",
       "      <td>United Kingdom</td>\n",
       "      <td>1.25</td>\n",
       "    </tr>\n",
       "    <tr>\n",
       "      <th>997</th>\n",
       "      <td>536520</td>\n",
       "      <td>22096</td>\n",
       "      <td>PINK PAISLEY SQUARE TISSUE BOX</td>\n",
       "      <td>1</td>\n",
       "      <td>12/1/2010 12:43</td>\n",
       "      <td>1.25</td>\n",
       "      <td>14729.0</td>\n",
       "      <td>United Kingdom</td>\n",
       "      <td>1.25</td>\n",
       "    </tr>\n",
       "    <tr>\n",
       "      <th>998</th>\n",
       "      <td>536520</td>\n",
       "      <td>22583</td>\n",
       "      <td>PACK OF 6 HANDBAG GIFT BOXES</td>\n",
       "      <td>1</td>\n",
       "      <td>12/1/2010 12:43</td>\n",
       "      <td>2.55</td>\n",
       "      <td>14729.0</td>\n",
       "      <td>United Kingdom</td>\n",
       "      <td>2.55</td>\n",
       "    </tr>\n",
       "    <tr>\n",
       "      <th>999</th>\n",
       "      <td>536520</td>\n",
       "      <td>21358</td>\n",
       "      <td>TOAST ITS - HAPPY BIRTHDAY</td>\n",
       "      <td>2</td>\n",
       "      <td>12/1/2010 12:43</td>\n",
       "      <td>1.25</td>\n",
       "      <td>14729.0</td>\n",
       "      <td>United Kingdom</td>\n",
       "      <td>2.50</td>\n",
       "    </tr>\n",
       "  </tbody>\n",
       "</table>\n",
       "<p>1000 rows × 9 columns</p>\n",
       "</div>"
      ],
      "text/plain": [
       "    InvoiceNo StockCode                          Description  Quantity  \\\n",
       "0      536365    85123A   WHITE HANGING HEART T-LIGHT HOLDER         6   \n",
       "1      536365     71053                  WHITE METAL LANTERN         6   \n",
       "2      536365    84406B       CREAM CUPID HEARTS COAT HANGER         8   \n",
       "3      536365    84029G  KNITTED UNION FLAG HOT WATER BOTTLE         6   \n",
       "4      536365    84029E       RED WOOLLY HOTTIE WHITE HEART.         6   \n",
       "..        ...       ...                                  ...       ...   \n",
       "995    536520     22469                HEART OF WICKER SMALL         1   \n",
       "996    536520     22100             SKULLS SQUARE TISSUE BOX         1   \n",
       "997    536520     22096      PINK PAISLEY SQUARE TISSUE BOX          1   \n",
       "998    536520     22583         PACK OF 6 HANDBAG GIFT BOXES         1   \n",
       "999    536520     21358           TOAST ITS - HAPPY BIRTHDAY         2   \n",
       "\n",
       "         InvoiceDate  UnitPrice  CustomerID         Country  Total  \n",
       "0     12/1/2010 8:26       2.55     17850.0  United Kingdom  15.30  \n",
       "1     12/1/2010 8:26       3.39     17850.0  United Kingdom  20.34  \n",
       "2     12/1/2010 8:26       2.75     17850.0  United Kingdom  22.00  \n",
       "3     12/1/2010 8:26       3.39     17850.0  United Kingdom  20.34  \n",
       "4     12/1/2010 8:26       3.39     17850.0  United Kingdom  20.34  \n",
       "..               ...        ...         ...             ...    ...  \n",
       "995  12/1/2010 12:43       1.65     14729.0  United Kingdom   1.65  \n",
       "996  12/1/2010 12:43       1.25     14729.0  United Kingdom   1.25  \n",
       "997  12/1/2010 12:43       1.25     14729.0  United Kingdom   1.25  \n",
       "998  12/1/2010 12:43       2.55     14729.0  United Kingdom   2.55  \n",
       "999  12/1/2010 12:43       1.25     14729.0  United Kingdom   2.50  \n",
       "\n",
       "[1000 rows x 9 columns]"
      ]
     },
     "execution_count": 19,
     "metadata": {},
     "output_type": "execute_result"
    }
   ],
   "source": [
    "info_1000_rows = data.iloc[:1000]\n",
    "info_1000_rows"
   ]
  },
  {
   "cell_type": "code",
   "execution_count": 34,
   "id": "405fcddd",
   "metadata": {},
   "outputs": [],
   "source": [
    "info_1000_rows.to_excel('OnlineRetail.xlsx')"
   ]
  },
  {
   "cell_type": "markdown",
   "id": "cc422eba",
   "metadata": {},
   "source": [
    "### **Trích xuất các bản ghi có số lượng từ 10 trở lên lưu vào file Online.Retail.h5**"
   ]
  },
  {
   "cell_type": "code",
   "execution_count": 33,
   "id": "c60cf965",
   "metadata": {},
   "outputs": [
    {
     "data": {
      "text/plain": [
       "1     232\n",
       "2     132\n",
       "6     122\n",
       "12    116\n",
       "3      95\n",
       "4      52\n",
       "24     51\n",
       "8      40\n",
       "10     26\n",
       "5      22\n",
       "Name: Quantity, dtype: int64"
      ]
     },
     "execution_count": 33,
     "metadata": {},
     "output_type": "execute_result"
    }
   ],
   "source": [
    "data.Quantity.value_counts().head(10)"
   ]
  },
  {
   "cell_type": "code",
   "execution_count": 32,
   "id": "927f3e7f",
   "metadata": {},
   "outputs": [
    {
     "data": {
      "text/html": [
       "<div>\n",
       "<style scoped>\n",
       "    .dataframe tbody tr th:only-of-type {\n",
       "        vertical-align: middle;\n",
       "    }\n",
       "\n",
       "    .dataframe tbody tr th {\n",
       "        vertical-align: top;\n",
       "    }\n",
       "\n",
       "    .dataframe thead th {\n",
       "        text-align: right;\n",
       "    }\n",
       "</style>\n",
       "<table border=\"1\" class=\"dataframe\">\n",
       "  <thead>\n",
       "    <tr style=\"text-align: right;\">\n",
       "      <th></th>\n",
       "      <th>Unnamed: 0</th>\n",
       "      <th>InvoiceNo</th>\n",
       "      <th>StockCode</th>\n",
       "      <th>Description</th>\n",
       "      <th>Quantity</th>\n",
       "      <th>InvoiceDate</th>\n",
       "      <th>UnitPrice</th>\n",
       "      <th>CustomerID</th>\n",
       "      <th>Country</th>\n",
       "      <th>Total</th>\n",
       "    </tr>\n",
       "  </thead>\n",
       "  <tbody>\n",
       "    <tr>\n",
       "      <th>9</th>\n",
       "      <td>9</td>\n",
       "      <td>536367</td>\n",
       "      <td>84879</td>\n",
       "      <td>ASSORTED COLOUR BIRD ORNAMENT</td>\n",
       "      <td>32</td>\n",
       "      <td>12/1/2010 8:34</td>\n",
       "      <td>1.69</td>\n",
       "      <td>13047.0</td>\n",
       "      <td>United Kingdom</td>\n",
       "      <td>54.08</td>\n",
       "    </tr>\n",
       "    <tr>\n",
       "      <th>26</th>\n",
       "      <td>26</td>\n",
       "      <td>536370</td>\n",
       "      <td>22728</td>\n",
       "      <td>ALARM CLOCK BAKELIKE PINK</td>\n",
       "      <td>24</td>\n",
       "      <td>12/1/2010 8:45</td>\n",
       "      <td>3.75</td>\n",
       "      <td>12583.0</td>\n",
       "      <td>France</td>\n",
       "      <td>90.00</td>\n",
       "    </tr>\n",
       "    <tr>\n",
       "      <th>27</th>\n",
       "      <td>27</td>\n",
       "      <td>536370</td>\n",
       "      <td>22727</td>\n",
       "      <td>ALARM CLOCK BAKELIKE RED</td>\n",
       "      <td>24</td>\n",
       "      <td>12/1/2010 8:45</td>\n",
       "      <td>3.75</td>\n",
       "      <td>12583.0</td>\n",
       "      <td>France</td>\n",
       "      <td>90.00</td>\n",
       "    </tr>\n",
       "    <tr>\n",
       "      <th>28</th>\n",
       "      <td>28</td>\n",
       "      <td>536370</td>\n",
       "      <td>22726</td>\n",
       "      <td>ALARM CLOCK BAKELIKE GREEN</td>\n",
       "      <td>12</td>\n",
       "      <td>12/1/2010 8:45</td>\n",
       "      <td>3.75</td>\n",
       "      <td>12583.0</td>\n",
       "      <td>France</td>\n",
       "      <td>45.00</td>\n",
       "    </tr>\n",
       "    <tr>\n",
       "      <th>29</th>\n",
       "      <td>29</td>\n",
       "      <td>536370</td>\n",
       "      <td>21724</td>\n",
       "      <td>PANDA AND BUNNIES STICKER SHEET</td>\n",
       "      <td>12</td>\n",
       "      <td>12/1/2010 8:45</td>\n",
       "      <td>0.85</td>\n",
       "      <td>12583.0</td>\n",
       "      <td>France</td>\n",
       "      <td>10.20</td>\n",
       "    </tr>\n",
       "    <tr>\n",
       "      <th>...</th>\n",
       "      <td>...</td>\n",
       "      <td>...</td>\n",
       "      <td>...</td>\n",
       "      <td>...</td>\n",
       "      <td>...</td>\n",
       "      <td>...</td>\n",
       "      <td>...</td>\n",
       "      <td>...</td>\n",
       "      <td>...</td>\n",
       "      <td>...</td>\n",
       "    </tr>\n",
       "    <tr>\n",
       "      <th>944</th>\n",
       "      <td>944</td>\n",
       "      <td>536514</td>\n",
       "      <td>22866</td>\n",
       "      <td>HAND WARMER SCOTTY DOG DESIGN</td>\n",
       "      <td>36</td>\n",
       "      <td>12/1/2010 12:40</td>\n",
       "      <td>2.10</td>\n",
       "      <td>17951.0</td>\n",
       "      <td>United Kingdom</td>\n",
       "      <td>75.60</td>\n",
       "    </tr>\n",
       "    <tr>\n",
       "      <th>950</th>\n",
       "      <td>950</td>\n",
       "      <td>536520</td>\n",
       "      <td>21292</td>\n",
       "      <td>SMALL STRIPES CHOCOLATE GIFT BAG</td>\n",
       "      <td>16</td>\n",
       "      <td>12/1/2010 12:43</td>\n",
       "      <td>0.85</td>\n",
       "      <td>14729.0</td>\n",
       "      <td>United Kingdom</td>\n",
       "      <td>13.60</td>\n",
       "    </tr>\n",
       "    <tr>\n",
       "      <th>960</th>\n",
       "      <td>960</td>\n",
       "      <td>536520</td>\n",
       "      <td>22151</td>\n",
       "      <td>PLACE SETTING WHITE HEART</td>\n",
       "      <td>14</td>\n",
       "      <td>12/1/2010 12:43</td>\n",
       "      <td>0.42</td>\n",
       "      <td>14729.0</td>\n",
       "      <td>United Kingdom</td>\n",
       "      <td>5.88</td>\n",
       "    </tr>\n",
       "    <tr>\n",
       "      <th>982</th>\n",
       "      <td>982</td>\n",
       "      <td>536520</td>\n",
       "      <td>21584</td>\n",
       "      <td>RETROSPOT SMALL TUBE MATCHES</td>\n",
       "      <td>12</td>\n",
       "      <td>12/1/2010 12:43</td>\n",
       "      <td>1.65</td>\n",
       "      <td>14729.0</td>\n",
       "      <td>United Kingdom</td>\n",
       "      <td>19.80</td>\n",
       "    </tr>\n",
       "    <tr>\n",
       "      <th>984</th>\n",
       "      <td>984</td>\n",
       "      <td>536520</td>\n",
       "      <td>22152</td>\n",
       "      <td>PLACE SETTING WHITE STAR</td>\n",
       "      <td>12</td>\n",
       "      <td>12/1/2010 12:43</td>\n",
       "      <td>0.42</td>\n",
       "      <td>14729.0</td>\n",
       "      <td>United Kingdom</td>\n",
       "      <td>5.04</td>\n",
       "    </tr>\n",
       "  </tbody>\n",
       "</table>\n",
       "<p>261 rows × 10 columns</p>\n",
       "</div>"
      ],
      "text/plain": [
       "     Unnamed: 0 InvoiceNo StockCode                        Description  \\\n",
       "9             9    536367     84879      ASSORTED COLOUR BIRD ORNAMENT   \n",
       "26           26    536370     22728          ALARM CLOCK BAKELIKE PINK   \n",
       "27           27    536370     22727          ALARM CLOCK BAKELIKE RED    \n",
       "28           28    536370     22726         ALARM CLOCK BAKELIKE GREEN   \n",
       "29           29    536370     21724    PANDA AND BUNNIES STICKER SHEET   \n",
       "..          ...       ...       ...                                ...   \n",
       "944         944    536514     22866      HAND WARMER SCOTTY DOG DESIGN   \n",
       "950         950    536520     21292  SMALL STRIPES CHOCOLATE GIFT BAG    \n",
       "960         960    536520     22151          PLACE SETTING WHITE HEART   \n",
       "982         982    536520     21584       RETROSPOT SMALL TUBE MATCHES   \n",
       "984         984    536520     22152           PLACE SETTING WHITE STAR   \n",
       "\n",
       "     Quantity      InvoiceDate  UnitPrice  CustomerID         Country  Total  \n",
       "9          32   12/1/2010 8:34       1.69     13047.0  United Kingdom  54.08  \n",
       "26         24   12/1/2010 8:45       3.75     12583.0          France  90.00  \n",
       "27         24   12/1/2010 8:45       3.75     12583.0          France  90.00  \n",
       "28         12   12/1/2010 8:45       3.75     12583.0          France  45.00  \n",
       "29         12   12/1/2010 8:45       0.85     12583.0          France  10.20  \n",
       "..        ...              ...        ...         ...             ...    ...  \n",
       "944        36  12/1/2010 12:40       2.10     17951.0  United Kingdom  75.60  \n",
       "950        16  12/1/2010 12:43       0.85     14729.0  United Kingdom  13.60  \n",
       "960        14  12/1/2010 12:43       0.42     14729.0  United Kingdom   5.88  \n",
       "982        12  12/1/2010 12:43       1.65     14729.0  United Kingdom  19.80  \n",
       "984        12  12/1/2010 12:43       0.42     14729.0  United Kingdom   5.04  \n",
       "\n",
       "[261 rows x 10 columns]"
      ]
     },
     "execution_count": 32,
     "metadata": {},
     "output_type": "execute_result"
    }
   ],
   "source": [
    "qunt_bigger_10 = data[data.Quantity > 10]\n",
    "qunt_bigger_10"
   ]
  },
  {
   "cell_type": "code",
   "execution_count": 38,
   "id": "7ec8fada",
   "metadata": {},
   "outputs": [],
   "source": [
    "qunt_bigger_10.to_html('OnlineRetail.html')"
   ]
  },
  {
   "cell_type": "markdown",
   "id": "e51c8012",
   "metadata": {},
   "source": [
    "### **Trích xuất dữ liệu các phần tử từ dòng 1000 đến dòng 2000, các cột Quantity, InvoiceDate lưu vào file OnlineRetail.json**"
   ]
  },
  {
   "cell_type": "code",
   "execution_count": 58,
   "id": "2ad814a0",
   "metadata": {},
   "outputs": [
    {
     "data": {
      "text/html": [
       "<div>\n",
       "<style scoped>\n",
       "    .dataframe tbody tr th:only-of-type {\n",
       "        vertical-align: middle;\n",
       "    }\n",
       "\n",
       "    .dataframe tbody tr th {\n",
       "        vertical-align: top;\n",
       "    }\n",
       "\n",
       "    .dataframe thead th {\n",
       "        text-align: right;\n",
       "    }\n",
       "</style>\n",
       "<table border=\"1\" class=\"dataframe\">\n",
       "  <thead>\n",
       "    <tr style=\"text-align: right;\">\n",
       "      <th></th>\n",
       "      <th>Quantity</th>\n",
       "      <th>InvoiceDate</th>\n",
       "      <th>UnitPrice</th>\n",
       "    </tr>\n",
       "  </thead>\n",
       "  <tbody>\n",
       "    <tr>\n",
       "      <th>900</th>\n",
       "      <td>1</td>\n",
       "      <td>12/1/2010 12:31</td>\n",
       "      <td>4.25</td>\n",
       "    </tr>\n",
       "    <tr>\n",
       "      <th>901</th>\n",
       "      <td>1</td>\n",
       "      <td>12/1/2010 12:31</td>\n",
       "      <td>1.45</td>\n",
       "    </tr>\n",
       "    <tr>\n",
       "      <th>902</th>\n",
       "      <td>1</td>\n",
       "      <td>12/1/2010 12:31</td>\n",
       "      <td>4.25</td>\n",
       "    </tr>\n",
       "    <tr>\n",
       "      <th>903</th>\n",
       "      <td>1</td>\n",
       "      <td>12/1/2010 12:31</td>\n",
       "      <td>6.75</td>\n",
       "    </tr>\n",
       "    <tr>\n",
       "      <th>904</th>\n",
       "      <td>1</td>\n",
       "      <td>12/1/2010 12:31</td>\n",
       "      <td>0.95</td>\n",
       "    </tr>\n",
       "    <tr>\n",
       "      <th>...</th>\n",
       "      <td>...</td>\n",
       "      <td>...</td>\n",
       "      <td>...</td>\n",
       "    </tr>\n",
       "    <tr>\n",
       "      <th>995</th>\n",
       "      <td>1</td>\n",
       "      <td>12/1/2010 12:43</td>\n",
       "      <td>1.65</td>\n",
       "    </tr>\n",
       "    <tr>\n",
       "      <th>996</th>\n",
       "      <td>1</td>\n",
       "      <td>12/1/2010 12:43</td>\n",
       "      <td>1.25</td>\n",
       "    </tr>\n",
       "    <tr>\n",
       "      <th>997</th>\n",
       "      <td>1</td>\n",
       "      <td>12/1/2010 12:43</td>\n",
       "      <td>1.25</td>\n",
       "    </tr>\n",
       "    <tr>\n",
       "      <th>998</th>\n",
       "      <td>1</td>\n",
       "      <td>12/1/2010 12:43</td>\n",
       "      <td>2.55</td>\n",
       "    </tr>\n",
       "    <tr>\n",
       "      <th>999</th>\n",
       "      <td>2</td>\n",
       "      <td>12/1/2010 12:43</td>\n",
       "      <td>1.25</td>\n",
       "    </tr>\n",
       "  </tbody>\n",
       "</table>\n",
       "<p>100 rows × 3 columns</p>\n",
       "</div>"
      ],
      "text/plain": [
       "     Quantity      InvoiceDate  UnitPrice\n",
       "900         1  12/1/2010 12:31       4.25\n",
       "901         1  12/1/2010 12:31       1.45\n",
       "902         1  12/1/2010 12:31       4.25\n",
       "903         1  12/1/2010 12:31       6.75\n",
       "904         1  12/1/2010 12:31       0.95\n",
       "..        ...              ...        ...\n",
       "995         1  12/1/2010 12:43       1.65\n",
       "996         1  12/1/2010 12:43       1.25\n",
       "997         1  12/1/2010 12:43       1.25\n",
       "998         1  12/1/2010 12:43       2.55\n",
       "999         2  12/1/2010 12:43       1.25\n",
       "\n",
       "[100 rows x 3 columns]"
      ]
     },
     "execution_count": 58,
     "metadata": {},
     "output_type": "execute_result"
    }
   ],
   "source": [
    "data.loc[900:2000,['Quantity', 'InvoiceDate', 'UnitPrice']]"
   ]
  },
  {
   "cell_type": "markdown",
   "id": "5b2e7df3",
   "metadata": {},
   "source": [
    "### **Trích xuất các bản ghi có số hoá đơn '536365'**"
   ]
  },
  {
   "cell_type": "code",
   "execution_count": 61,
   "id": "51a1330d",
   "metadata": {},
   "outputs": [
    {
     "data": {
      "text/html": [
       "<div>\n",
       "<style scoped>\n",
       "    .dataframe tbody tr th:only-of-type {\n",
       "        vertical-align: middle;\n",
       "    }\n",
       "\n",
       "    .dataframe tbody tr th {\n",
       "        vertical-align: top;\n",
       "    }\n",
       "\n",
       "    .dataframe thead th {\n",
       "        text-align: right;\n",
       "    }\n",
       "</style>\n",
       "<table border=\"1\" class=\"dataframe\">\n",
       "  <thead>\n",
       "    <tr style=\"text-align: right;\">\n",
       "      <th></th>\n",
       "      <th>Unnamed: 0</th>\n",
       "      <th>InvoiceNo</th>\n",
       "      <th>StockCode</th>\n",
       "      <th>Description</th>\n",
       "      <th>Quantity</th>\n",
       "      <th>InvoiceDate</th>\n",
       "      <th>UnitPrice</th>\n",
       "      <th>CustomerID</th>\n",
       "      <th>Country</th>\n",
       "      <th>Total</th>\n",
       "    </tr>\n",
       "  </thead>\n",
       "  <tbody>\n",
       "    <tr>\n",
       "      <th>0</th>\n",
       "      <td>0</td>\n",
       "      <td>536365</td>\n",
       "      <td>85123A</td>\n",
       "      <td>WHITE HANGING HEART T-LIGHT HOLDER</td>\n",
       "      <td>6</td>\n",
       "      <td>12/1/2010 8:26</td>\n",
       "      <td>2.55</td>\n",
       "      <td>17850.0</td>\n",
       "      <td>United Kingdom</td>\n",
       "      <td>15.30</td>\n",
       "    </tr>\n",
       "    <tr>\n",
       "      <th>1</th>\n",
       "      <td>1</td>\n",
       "      <td>536365</td>\n",
       "      <td>71053</td>\n",
       "      <td>WHITE METAL LANTERN</td>\n",
       "      <td>6</td>\n",
       "      <td>12/1/2010 8:26</td>\n",
       "      <td>3.39</td>\n",
       "      <td>17850.0</td>\n",
       "      <td>United Kingdom</td>\n",
       "      <td>20.34</td>\n",
       "    </tr>\n",
       "    <tr>\n",
       "      <th>2</th>\n",
       "      <td>2</td>\n",
       "      <td>536365</td>\n",
       "      <td>84406B</td>\n",
       "      <td>CREAM CUPID HEARTS COAT HANGER</td>\n",
       "      <td>8</td>\n",
       "      <td>12/1/2010 8:26</td>\n",
       "      <td>2.75</td>\n",
       "      <td>17850.0</td>\n",
       "      <td>United Kingdom</td>\n",
       "      <td>22.00</td>\n",
       "    </tr>\n",
       "    <tr>\n",
       "      <th>3</th>\n",
       "      <td>3</td>\n",
       "      <td>536365</td>\n",
       "      <td>84029G</td>\n",
       "      <td>KNITTED UNION FLAG HOT WATER BOTTLE</td>\n",
       "      <td>6</td>\n",
       "      <td>12/1/2010 8:26</td>\n",
       "      <td>3.39</td>\n",
       "      <td>17850.0</td>\n",
       "      <td>United Kingdom</td>\n",
       "      <td>20.34</td>\n",
       "    </tr>\n",
       "    <tr>\n",
       "      <th>4</th>\n",
       "      <td>4</td>\n",
       "      <td>536365</td>\n",
       "      <td>84029E</td>\n",
       "      <td>RED WOOLLY HOTTIE WHITE HEART.</td>\n",
       "      <td>6</td>\n",
       "      <td>12/1/2010 8:26</td>\n",
       "      <td>3.39</td>\n",
       "      <td>17850.0</td>\n",
       "      <td>United Kingdom</td>\n",
       "      <td>20.34</td>\n",
       "    </tr>\n",
       "    <tr>\n",
       "      <th>5</th>\n",
       "      <td>5</td>\n",
       "      <td>536365</td>\n",
       "      <td>22752</td>\n",
       "      <td>SET 7 BABUSHKA NESTING BOXES</td>\n",
       "      <td>2</td>\n",
       "      <td>12/1/2010 8:26</td>\n",
       "      <td>7.65</td>\n",
       "      <td>17850.0</td>\n",
       "      <td>United Kingdom</td>\n",
       "      <td>15.30</td>\n",
       "    </tr>\n",
       "    <tr>\n",
       "      <th>6</th>\n",
       "      <td>6</td>\n",
       "      <td>536365</td>\n",
       "      <td>21730</td>\n",
       "      <td>GLASS STAR FROSTED T-LIGHT HOLDER</td>\n",
       "      <td>6</td>\n",
       "      <td>12/1/2010 8:26</td>\n",
       "      <td>4.25</td>\n",
       "      <td>17850.0</td>\n",
       "      <td>United Kingdom</td>\n",
       "      <td>25.50</td>\n",
       "    </tr>\n",
       "  </tbody>\n",
       "</table>\n",
       "</div>"
      ],
      "text/plain": [
       "   Unnamed: 0 InvoiceNo StockCode                          Description  \\\n",
       "0           0    536365    85123A   WHITE HANGING HEART T-LIGHT HOLDER   \n",
       "1           1    536365     71053                  WHITE METAL LANTERN   \n",
       "2           2    536365    84406B       CREAM CUPID HEARTS COAT HANGER   \n",
       "3           3    536365    84029G  KNITTED UNION FLAG HOT WATER BOTTLE   \n",
       "4           4    536365    84029E       RED WOOLLY HOTTIE WHITE HEART.   \n",
       "5           5    536365     22752         SET 7 BABUSHKA NESTING BOXES   \n",
       "6           6    536365     21730    GLASS STAR FROSTED T-LIGHT HOLDER   \n",
       "\n",
       "   Quantity     InvoiceDate  UnitPrice  CustomerID         Country  Total  \n",
       "0         6  12/1/2010 8:26       2.55     17850.0  United Kingdom  15.30  \n",
       "1         6  12/1/2010 8:26       3.39     17850.0  United Kingdom  20.34  \n",
       "2         8  12/1/2010 8:26       2.75     17850.0  United Kingdom  22.00  \n",
       "3         6  12/1/2010 8:26       3.39     17850.0  United Kingdom  20.34  \n",
       "4         6  12/1/2010 8:26       3.39     17850.0  United Kingdom  20.34  \n",
       "5         2  12/1/2010 8:26       7.65     17850.0  United Kingdom  15.30  \n",
       "6         6  12/1/2010 8:26       4.25     17850.0  United Kingdom  25.50  "
      ]
     },
     "execution_count": 61,
     "metadata": {},
     "output_type": "execute_result"
    }
   ],
   "source": [
    "data.loc[data.InvoiceNo == '536365']"
   ]
  },
  {
   "cell_type": "markdown",
   "id": "c809788b",
   "metadata": {},
   "source": [
    "## **Sử dụng thư viện Seaborn để vẽ và tinh chỉnh được một số biểu đồ**"
   ]
  },
  {
   "cell_type": "code",
   "execution_count": 1,
   "id": "cb49c9d1",
   "metadata": {},
   "outputs": [],
   "source": [
    "import pandas as pd\n",
    "import numpy as np\n",
    "import matplotlib.pyplot as plt\n",
    "import seaborn as sns"
   ]
  },
  {
   "cell_type": "code",
   "execution_count": 3,
   "id": "07f9df24",
   "metadata": {},
   "outputs": [
    {
     "name": "stdout",
     "output_type": "stream",
     "text": [
      "<class 'pandas.core.frame.DataFrame'>\n",
      "RangeIndex: 541909 entries, 0 to 541908\n",
      "Data columns (total 8 columns):\n",
      " #   Column       Non-Null Count   Dtype  \n",
      "---  ------       --------------   -----  \n",
      " 0   InvoiceNo    541909 non-null  object \n",
      " 1   StockCode    541909 non-null  object \n",
      " 2   Description  540455 non-null  object \n",
      " 3   Quantity     541909 non-null  int64  \n",
      " 4   InvoiceDate  541909 non-null  object \n",
      " 5   UnitPrice    541909 non-null  float64\n",
      " 6   CustomerID   406829 non-null  float64\n",
      " 7   Country      541909 non-null  object \n",
      "dtypes: float64(2), int64(1), object(5)\n",
      "memory usage: 33.1+ MB\n"
     ]
    }
   ],
   "source": [
    "data.info()"
   ]
  },
  {
   "cell_type": "code",
   "execution_count": 10,
   "id": "0fe98122",
   "metadata": {},
   "outputs": [
    {
     "data": {
      "text/html": [
       "<div>\n",
       "<style scoped>\n",
       "    .dataframe tbody tr th:only-of-type {\n",
       "        vertical-align: middle;\n",
       "    }\n",
       "\n",
       "    .dataframe tbody tr th {\n",
       "        vertical-align: top;\n",
       "    }\n",
       "\n",
       "    .dataframe thead th {\n",
       "        text-align: right;\n",
       "    }\n",
       "</style>\n",
       "<table border=\"1\" class=\"dataframe\">\n",
       "  <thead>\n",
       "    <tr style=\"text-align: right;\">\n",
       "      <th></th>\n",
       "      <th>InvoiceNo</th>\n",
       "      <th>StockCode</th>\n",
       "      <th>Description</th>\n",
       "      <th>Quantity</th>\n",
       "      <th>InvoiceDate</th>\n",
       "      <th>UnitPrice</th>\n",
       "      <th>CustomerID</th>\n",
       "      <th>Country</th>\n",
       "    </tr>\n",
       "  </thead>\n",
       "  <tbody>\n",
       "    <tr>\n",
       "      <th>0</th>\n",
       "      <td>536365</td>\n",
       "      <td>85123A</td>\n",
       "      <td>WHITE HANGING HEART T-LIGHT HOLDER</td>\n",
       "      <td>6</td>\n",
       "      <td>12/1/2010 8:26</td>\n",
       "      <td>2.55</td>\n",
       "      <td>17850.0</td>\n",
       "      <td>United Kingdom</td>\n",
       "    </tr>\n",
       "    <tr>\n",
       "      <th>1</th>\n",
       "      <td>536365</td>\n",
       "      <td>71053</td>\n",
       "      <td>WHITE METAL LANTERN</td>\n",
       "      <td>6</td>\n",
       "      <td>12/1/2010 8:26</td>\n",
       "      <td>3.39</td>\n",
       "      <td>17850.0</td>\n",
       "      <td>United Kingdom</td>\n",
       "    </tr>\n",
       "    <tr>\n",
       "      <th>2</th>\n",
       "      <td>536365</td>\n",
       "      <td>84406B</td>\n",
       "      <td>CREAM CUPID HEARTS COAT HANGER</td>\n",
       "      <td>8</td>\n",
       "      <td>12/1/2010 8:26</td>\n",
       "      <td>2.75</td>\n",
       "      <td>17850.0</td>\n",
       "      <td>United Kingdom</td>\n",
       "    </tr>\n",
       "    <tr>\n",
       "      <th>3</th>\n",
       "      <td>536365</td>\n",
       "      <td>84029G</td>\n",
       "      <td>KNITTED UNION FLAG HOT WATER BOTTLE</td>\n",
       "      <td>6</td>\n",
       "      <td>12/1/2010 8:26</td>\n",
       "      <td>3.39</td>\n",
       "      <td>17850.0</td>\n",
       "      <td>United Kingdom</td>\n",
       "    </tr>\n",
       "    <tr>\n",
       "      <th>4</th>\n",
       "      <td>536365</td>\n",
       "      <td>84029E</td>\n",
       "      <td>RED WOOLLY HOTTIE WHITE HEART.</td>\n",
       "      <td>6</td>\n",
       "      <td>12/1/2010 8:26</td>\n",
       "      <td>3.39</td>\n",
       "      <td>17850.0</td>\n",
       "      <td>United Kingdom</td>\n",
       "    </tr>\n",
       "  </tbody>\n",
       "</table>\n",
       "</div>"
      ],
      "text/plain": [
       "  InvoiceNo StockCode                          Description  Quantity  \\\n",
       "0    536365    85123A   WHITE HANGING HEART T-LIGHT HOLDER         6   \n",
       "1    536365     71053                  WHITE METAL LANTERN         6   \n",
       "2    536365    84406B       CREAM CUPID HEARTS COAT HANGER         8   \n",
       "3    536365    84029G  KNITTED UNION FLAG HOT WATER BOTTLE         6   \n",
       "4    536365    84029E       RED WOOLLY HOTTIE WHITE HEART.         6   \n",
       "\n",
       "      InvoiceDate  UnitPrice  CustomerID         Country  \n",
       "0  12/1/2010 8:26       2.55     17850.0  United Kingdom  \n",
       "1  12/1/2010 8:26       3.39     17850.0  United Kingdom  \n",
       "2  12/1/2010 8:26       2.75     17850.0  United Kingdom  \n",
       "3  12/1/2010 8:26       3.39     17850.0  United Kingdom  \n",
       "4  12/1/2010 8:26       3.39     17850.0  United Kingdom  "
      ]
     },
     "execution_count": 10,
     "metadata": {},
     "output_type": "execute_result"
    }
   ],
   "source": [
    "# Loại bỏ dữ liệu khuyết\n",
    "data.dropna()\n",
    "data.head()"
   ]
  },
  {
   "cell_type": "code",
   "execution_count": 6,
   "id": "f129d433",
   "metadata": {},
   "outputs": [
    {
     "data": {
      "text/plain": [
       "(541909, 8)"
      ]
     },
     "execution_count": 6,
     "metadata": {},
     "output_type": "execute_result"
    }
   ],
   "source": [
    "data.shape"
   ]
  },
  {
   "cell_type": "code",
   "execution_count": 11,
   "id": "f61a77d6",
   "metadata": {},
   "outputs": [],
   "source": [
    "# Tính giá của mỗi mã sản phẩm ở các đơn hàng\n",
    "data[\"Price\"] = data[\"Quantity\"] * data[\"UnitPrice\"]"
   ]
  },
  {
   "cell_type": "code",
   "execution_count": 12,
   "id": "18450852",
   "metadata": {},
   "outputs": [
    {
     "data": {
      "text/html": [
       "<div>\n",
       "<style scoped>\n",
       "    .dataframe tbody tr th:only-of-type {\n",
       "        vertical-align: middle;\n",
       "    }\n",
       "\n",
       "    .dataframe tbody tr th {\n",
       "        vertical-align: top;\n",
       "    }\n",
       "\n",
       "    .dataframe thead th {\n",
       "        text-align: right;\n",
       "    }\n",
       "</style>\n",
       "<table border=\"1\" class=\"dataframe\">\n",
       "  <thead>\n",
       "    <tr style=\"text-align: right;\">\n",
       "      <th></th>\n",
       "      <th>InvoiceNo</th>\n",
       "      <th>StockCode</th>\n",
       "      <th>Description</th>\n",
       "      <th>Quantity</th>\n",
       "      <th>InvoiceDate</th>\n",
       "      <th>UnitPrice</th>\n",
       "      <th>CustomerID</th>\n",
       "      <th>Country</th>\n",
       "      <th>Price</th>\n",
       "    </tr>\n",
       "  </thead>\n",
       "  <tbody>\n",
       "    <tr>\n",
       "      <th>0</th>\n",
       "      <td>536365</td>\n",
       "      <td>85123A</td>\n",
       "      <td>WHITE HANGING HEART T-LIGHT HOLDER</td>\n",
       "      <td>6</td>\n",
       "      <td>12/1/2010 8:26</td>\n",
       "      <td>2.55</td>\n",
       "      <td>17850.0</td>\n",
       "      <td>United Kingdom</td>\n",
       "      <td>15.30</td>\n",
       "    </tr>\n",
       "    <tr>\n",
       "      <th>1</th>\n",
       "      <td>536365</td>\n",
       "      <td>71053</td>\n",
       "      <td>WHITE METAL LANTERN</td>\n",
       "      <td>6</td>\n",
       "      <td>12/1/2010 8:26</td>\n",
       "      <td>3.39</td>\n",
       "      <td>17850.0</td>\n",
       "      <td>United Kingdom</td>\n",
       "      <td>20.34</td>\n",
       "    </tr>\n",
       "    <tr>\n",
       "      <th>2</th>\n",
       "      <td>536365</td>\n",
       "      <td>84406B</td>\n",
       "      <td>CREAM CUPID HEARTS COAT HANGER</td>\n",
       "      <td>8</td>\n",
       "      <td>12/1/2010 8:26</td>\n",
       "      <td>2.75</td>\n",
       "      <td>17850.0</td>\n",
       "      <td>United Kingdom</td>\n",
       "      <td>22.00</td>\n",
       "    </tr>\n",
       "    <tr>\n",
       "      <th>3</th>\n",
       "      <td>536365</td>\n",
       "      <td>84029G</td>\n",
       "      <td>KNITTED UNION FLAG HOT WATER BOTTLE</td>\n",
       "      <td>6</td>\n",
       "      <td>12/1/2010 8:26</td>\n",
       "      <td>3.39</td>\n",
       "      <td>17850.0</td>\n",
       "      <td>United Kingdom</td>\n",
       "      <td>20.34</td>\n",
       "    </tr>\n",
       "    <tr>\n",
       "      <th>4</th>\n",
       "      <td>536365</td>\n",
       "      <td>84029E</td>\n",
       "      <td>RED WOOLLY HOTTIE WHITE HEART.</td>\n",
       "      <td>6</td>\n",
       "      <td>12/1/2010 8:26</td>\n",
       "      <td>3.39</td>\n",
       "      <td>17850.0</td>\n",
       "      <td>United Kingdom</td>\n",
       "      <td>20.34</td>\n",
       "    </tr>\n",
       "    <tr>\n",
       "      <th>...</th>\n",
       "      <td>...</td>\n",
       "      <td>...</td>\n",
       "      <td>...</td>\n",
       "      <td>...</td>\n",
       "      <td>...</td>\n",
       "      <td>...</td>\n",
       "      <td>...</td>\n",
       "      <td>...</td>\n",
       "      <td>...</td>\n",
       "    </tr>\n",
       "    <tr>\n",
       "      <th>541904</th>\n",
       "      <td>581587</td>\n",
       "      <td>22613</td>\n",
       "      <td>PACK OF 20 SPACEBOY NAPKINS</td>\n",
       "      <td>12</td>\n",
       "      <td>12/9/2011 12:50</td>\n",
       "      <td>0.85</td>\n",
       "      <td>12680.0</td>\n",
       "      <td>France</td>\n",
       "      <td>10.20</td>\n",
       "    </tr>\n",
       "    <tr>\n",
       "      <th>541905</th>\n",
       "      <td>581587</td>\n",
       "      <td>22899</td>\n",
       "      <td>CHILDREN'S APRON DOLLY GIRL</td>\n",
       "      <td>6</td>\n",
       "      <td>12/9/2011 12:50</td>\n",
       "      <td>2.10</td>\n",
       "      <td>12680.0</td>\n",
       "      <td>France</td>\n",
       "      <td>12.60</td>\n",
       "    </tr>\n",
       "    <tr>\n",
       "      <th>541906</th>\n",
       "      <td>581587</td>\n",
       "      <td>23254</td>\n",
       "      <td>CHILDRENS CUTLERY DOLLY GIRL</td>\n",
       "      <td>4</td>\n",
       "      <td>12/9/2011 12:50</td>\n",
       "      <td>4.15</td>\n",
       "      <td>12680.0</td>\n",
       "      <td>France</td>\n",
       "      <td>16.60</td>\n",
       "    </tr>\n",
       "    <tr>\n",
       "      <th>541907</th>\n",
       "      <td>581587</td>\n",
       "      <td>23255</td>\n",
       "      <td>CHILDRENS CUTLERY CIRCUS PARADE</td>\n",
       "      <td>4</td>\n",
       "      <td>12/9/2011 12:50</td>\n",
       "      <td>4.15</td>\n",
       "      <td>12680.0</td>\n",
       "      <td>France</td>\n",
       "      <td>16.60</td>\n",
       "    </tr>\n",
       "    <tr>\n",
       "      <th>541908</th>\n",
       "      <td>581587</td>\n",
       "      <td>22138</td>\n",
       "      <td>BAKING SET 9 PIECE RETROSPOT</td>\n",
       "      <td>3</td>\n",
       "      <td>12/9/2011 12:50</td>\n",
       "      <td>4.95</td>\n",
       "      <td>12680.0</td>\n",
       "      <td>France</td>\n",
       "      <td>14.85</td>\n",
       "    </tr>\n",
       "  </tbody>\n",
       "</table>\n",
       "<p>541909 rows × 9 columns</p>\n",
       "</div>"
      ],
      "text/plain": [
       "       InvoiceNo StockCode                          Description  Quantity  \\\n",
       "0         536365    85123A   WHITE HANGING HEART T-LIGHT HOLDER         6   \n",
       "1         536365     71053                  WHITE METAL LANTERN         6   \n",
       "2         536365    84406B       CREAM CUPID HEARTS COAT HANGER         8   \n",
       "3         536365    84029G  KNITTED UNION FLAG HOT WATER BOTTLE         6   \n",
       "4         536365    84029E       RED WOOLLY HOTTIE WHITE HEART.         6   \n",
       "...          ...       ...                                  ...       ...   \n",
       "541904    581587     22613          PACK OF 20 SPACEBOY NAPKINS        12   \n",
       "541905    581587     22899         CHILDREN'S APRON DOLLY GIRL          6   \n",
       "541906    581587     23254        CHILDRENS CUTLERY DOLLY GIRL          4   \n",
       "541907    581587     23255      CHILDRENS CUTLERY CIRCUS PARADE         4   \n",
       "541908    581587     22138        BAKING SET 9 PIECE RETROSPOT          3   \n",
       "\n",
       "            InvoiceDate  UnitPrice  CustomerID         Country  Price  \n",
       "0        12/1/2010 8:26       2.55     17850.0  United Kingdom  15.30  \n",
       "1        12/1/2010 8:26       3.39     17850.0  United Kingdom  20.34  \n",
       "2        12/1/2010 8:26       2.75     17850.0  United Kingdom  22.00  \n",
       "3        12/1/2010 8:26       3.39     17850.0  United Kingdom  20.34  \n",
       "4        12/1/2010 8:26       3.39     17850.0  United Kingdom  20.34  \n",
       "...                 ...        ...         ...             ...    ...  \n",
       "541904  12/9/2011 12:50       0.85     12680.0          France  10.20  \n",
       "541905  12/9/2011 12:50       2.10     12680.0          France  12.60  \n",
       "541906  12/9/2011 12:50       4.15     12680.0          France  16.60  \n",
       "541907  12/9/2011 12:50       4.15     12680.0          France  16.60  \n",
       "541908  12/9/2011 12:50       4.95     12680.0          France  14.85  \n",
       "\n",
       "[541909 rows x 9 columns]"
      ]
     },
     "execution_count": 12,
     "metadata": {},
     "output_type": "execute_result"
    }
   ],
   "source": [
    "data"
   ]
  },
  {
   "cell_type": "markdown",
   "id": "058c3119",
   "metadata": {},
   "source": [
    "### **Vẽ biểu đồ phân bố**"
   ]
  },
  {
   "cell_type": "code",
   "execution_count": 13,
   "id": "a5defc46",
   "metadata": {},
   "outputs": [],
   "source": [
    "# Vẽ biểu đồ phân bố cho đơn giá sản phẩm"
   ]
  },
  {
   "cell_type": "code",
   "execution_count": 16,
   "id": "a0d7b2af",
   "metadata": {},
   "outputs": [
    {
     "data": {
      "text/plain": [
       "<AxesSubplot:ylabel='UnitPrice'>"
      ]
     },
     "execution_count": 16,
     "metadata": {},
     "output_type": "execute_result"
    },
    {
     "data": {
      "image/png": "[encoded data removed]",
      "text/plain": [
       "<Figure size 432x288 with 1 Axes>"
      ]
     },
     "metadata": {
      "needs_background": "light"
     },
     "output_type": "display_data"
    }
   ],
   "source": [
    "sns.violinplot(y='UnitPrice', data=data)"
   ]
  },
  {
   "cell_type": "markdown",
   "id": "cec3dcf3",
   "metadata": {},
   "source": [
    "**Nhận xét:**\n",
    "+ Có thể nhận thấy dữ liệu phân bố không được đều, nhiều sản phẩm giá thấp và ít sản phẩm giá cao."
   ]
  },
  {
   "cell_type": "code",
   "execution_count": null,
   "id": "3718931a",
   "metadata": {},
   "outputs": [],
   "source": [
    "# Vẽ biểu đồ phân bố cho tổng giá mỗi sản phẩm ở các đơn"
   ]
  },
  {
   "cell_type": "code",
   "execution_count": 17,
   "id": "3f2c3f91",
   "metadata": {},
   "outputs": [
    {
     "data": {
      "text/plain": [
       "<AxesSubplot:ylabel='Price'>"
      ]
     },
     "execution_count": 17,
     "metadata": {},
     "output_type": "execute_result"
    },
    {
     "data": {
      "image/png": "[encoded data removed]",
      "text/plain": [
       "<Figure size 432x288 with 1 Axes>"
      ]
     },
     "metadata": {
      "needs_background": "light"
     },
     "output_type": "display_data"
    }
   ],
   "source": [
    "sns.violinplot(y='Price',data=data)"
   ]
  },
  {
   "cell_type": "code",
   "execution_count": 18,
   "id": "785c532c",
   "metadata": {},
   "outputs": [],
   "source": [
    "# Tính số lượng sản phẩm của mỗi đơn hàng"
   ]
  },
  {
   "cell_type": "code",
   "execution_count": 46,
   "id": "2b7025b5",
   "metadata": {},
   "outputs": [],
   "source": [
    "# reset_index() được sử dụng để đặt lại chỉ mục trên DataFrame\n",
    "invoiceno_quantity = data.groupby('InvoiceNo')['Quantity'].sum().reset_index()"
   ]
  },
  {
   "cell_type": "code",
   "execution_count": 47,
   "id": "2910d047",
   "metadata": {},
   "outputs": [
    {
     "data": {
      "text/html": [
       "<div>\n",
       "<style scoped>\n",
       "    .dataframe tbody tr th:only-of-type {\n",
       "        vertical-align: middle;\n",
       "    }\n",
       "\n",
       "    .dataframe tbody tr th {\n",
       "        vertical-align: top;\n",
       "    }\n",
       "\n",
       "    .dataframe thead th {\n",
       "        text-align: right;\n",
       "    }\n",
       "</style>\n",
       "<table border=\"1\" class=\"dataframe\">\n",
       "  <thead>\n",
       "    <tr style=\"text-align: right;\">\n",
       "      <th></th>\n",
       "      <th>InvoiceNo</th>\n",
       "      <th>Quantity</th>\n",
       "    </tr>\n",
       "  </thead>\n",
       "  <tbody>\n",
       "    <tr>\n",
       "      <th>22025</th>\n",
       "      <td>581483</td>\n",
       "      <td>80995</td>\n",
       "    </tr>\n",
       "    <tr>\n",
       "      <th>2303</th>\n",
       "      <td>541431</td>\n",
       "      <td>74215</td>\n",
       "    </tr>\n",
       "    <tr>\n",
       "      <th>9951</th>\n",
       "      <td>556917</td>\n",
       "      <td>15049</td>\n",
       "    </tr>\n",
       "    <tr>\n",
       "      <th>12983</th>\n",
       "      <td>563076</td>\n",
       "      <td>14730</td>\n",
       "    </tr>\n",
       "    <tr>\n",
       "      <th>18776</th>\n",
       "      <td>574941</td>\n",
       "      <td>14149</td>\n",
       "    </tr>\n",
       "    <tr>\n",
       "      <th>...</th>\n",
       "      <td>...</td>\n",
       "      <td>...</td>\n",
       "    </tr>\n",
       "    <tr>\n",
       "      <th>22076</th>\n",
       "      <td>C536757</td>\n",
       "      <td>-9360</td>\n",
       "    </tr>\n",
       "    <tr>\n",
       "      <th>9854</th>\n",
       "      <td>556691</td>\n",
       "      <td>-9600</td>\n",
       "    </tr>\n",
       "    <tr>\n",
       "      <th>9853</th>\n",
       "      <td>556690</td>\n",
       "      <td>-9600</td>\n",
       "    </tr>\n",
       "    <tr>\n",
       "      <th>22510</th>\n",
       "      <td>C541433</td>\n",
       "      <td>-74215</td>\n",
       "    </tr>\n",
       "    <tr>\n",
       "      <th>25895</th>\n",
       "      <td>C581484</td>\n",
       "      <td>-80995</td>\n",
       "    </tr>\n",
       "  </tbody>\n",
       "</table>\n",
       "<p>25900 rows × 2 columns</p>\n",
       "</div>"
      ],
      "text/plain": [
       "      InvoiceNo  Quantity\n",
       "22025    581483     80995\n",
       "2303     541431     74215\n",
       "9951     556917     15049\n",
       "12983    563076     14730\n",
       "18776    574941     14149\n",
       "...         ...       ...\n",
       "22076   C536757     -9360\n",
       "9854     556691     -9600\n",
       "9853     556690     -9600\n",
       "22510   C541433    -74215\n",
       "25895   C581484    -80995\n",
       "\n",
       "[25900 rows x 2 columns]"
      ]
     },
     "execution_count": 47,
     "metadata": {},
     "output_type": "execute_result"
    }
   ],
   "source": [
    "invoiceno_quantity.sort_values('Quantity',ascending=False)"
   ]
  },
  {
   "cell_type": "code",
   "execution_count": 43,
   "id": "7838063c",
   "metadata": {},
   "outputs": [
    {
     "data": {
      "text/html": [
       "<div>\n",
       "<style scoped>\n",
       "    .dataframe tbody tr th:only-of-type {\n",
       "        vertical-align: middle;\n",
       "    }\n",
       "\n",
       "    .dataframe tbody tr th {\n",
       "        vertical-align: top;\n",
       "    }\n",
       "\n",
       "    .dataframe thead th {\n",
       "        text-align: right;\n",
       "    }\n",
       "</style>\n",
       "<table border=\"1\" class=\"dataframe\">\n",
       "  <thead>\n",
       "    <tr style=\"text-align: right;\">\n",
       "      <th></th>\n",
       "      <th>InvoiceNo</th>\n",
       "      <th>Quantity</th>\n",
       "    </tr>\n",
       "  </thead>\n",
       "  <tbody>\n",
       "    <tr>\n",
       "      <th>0</th>\n",
       "      <td>536365</td>\n",
       "      <td>40</td>\n",
       "    </tr>\n",
       "    <tr>\n",
       "      <th>1</th>\n",
       "      <td>536366</td>\n",
       "      <td>12</td>\n",
       "    </tr>\n",
       "    <tr>\n",
       "      <th>2</th>\n",
       "      <td>536367</td>\n",
       "      <td>83</td>\n",
       "    </tr>\n",
       "    <tr>\n",
       "      <th>3</th>\n",
       "      <td>536368</td>\n",
       "      <td>15</td>\n",
       "    </tr>\n",
       "    <tr>\n",
       "      <th>4</th>\n",
       "      <td>536369</td>\n",
       "      <td>3</td>\n",
       "    </tr>\n",
       "  </tbody>\n",
       "</table>\n",
       "</div>"
      ],
      "text/plain": [
       "  InvoiceNo  Quantity\n",
       "0    536365        40\n",
       "1    536366        12\n",
       "2    536367        83\n",
       "3    536368        15\n",
       "4    536369         3"
      ]
     },
     "execution_count": 43,
     "metadata": {},
     "output_type": "execute_result"
    }
   ],
   "source": [
    "invoiceno_quantity.head()"
   ]
  },
  {
   "cell_type": "code",
   "execution_count": 44,
   "id": "bd42f838",
   "metadata": {},
   "outputs": [
    {
     "data": {
      "text/plain": [
       "InvoiceNo    C581569\n",
       "Quantity       80995\n",
       "dtype: object"
      ]
     },
     "execution_count": 44,
     "metadata": {},
     "output_type": "execute_result"
    }
   ],
   "source": [
    "invoiceno_quantity.max()"
   ]
  },
  {
   "cell_type": "code",
   "execution_count": 45,
   "id": "4fa3b4bf",
   "metadata": {},
   "outputs": [
    {
     "data": {
      "text/plain": [
       "<AxesSubplot:ylabel='Quantity'>"
      ]
     },
     "execution_count": 45,
     "metadata": {},
     "output_type": "execute_result"
    },
    {
     "data": {
      "image/png": "[encoded data removed]",
      "text/plain": [
       "<Figure size 432x288 with 1 Axes>"
      ]
     },
     "metadata": {
      "needs_background": "light"
     },
     "output_type": "display_data"
    }
   ],
   "source": [
    "sns.violinplot(y='Quantity', data=invoiceno_quantity)"
   ]
  },
  {
   "cell_type": "markdown",
   "id": "bef58d5a",
   "metadata": {},
   "source": [
    "### **Vẽ biểu đồ tần số**"
   ]
  },
  {
   "cell_type": "code",
   "execution_count": null,
   "id": "6c55763b",
   "metadata": {},
   "outputs": [],
   "source": [
    "# Loại bỏ dữ liệu trùng lặp"
   ]
  },
  {
   "cell_type": "code",
   "execution_count": 3,
   "id": "770482fa",
   "metadata": {},
   "outputs": [],
   "source": [
    "data2 = data.drop_duplicates(subset='InvoiceNo')"
   ]
  },
  {
   "cell_type": "code",
   "execution_count": 4,
   "id": "df1fe6db",
   "metadata": {},
   "outputs": [
    {
     "data": {
      "text/plain": [
       "(25900, 8)"
      ]
     },
     "execution_count": 4,
     "metadata": {},
     "output_type": "execute_result"
    }
   ],
   "source": [
    "data2.shape"
   ]
  },
  {
   "cell_type": "code",
   "execution_count": null,
   "id": "22f51d2c",
   "metadata": {},
   "outputs": [],
   "source": [
    "# Vẽ biểu đồ tần số cho số hóa đơn theo quốc gia"
   ]
  },
  {
   "cell_type": "code",
   "execution_count": null,
   "id": "2af1077c",
   "metadata": {},
   "outputs": [],
   "source": [
    "sns.countplot(x='Country, data=data2)\n",
    "plt.xticks(rotation = 90,ha = 'right')\n",
    "plt.show()"
   ]
  },
  {
   "cell_type": "markdown",
   "id": "31d748a4",
   "metadata": {},
   "source": [
    "**Nhận xét:**\n",
    "+ Có thể nhận thấy rằng số sản phẩm và số hóa đơn được mua rất nhiều ở Anh, áp đảo so với phần còn lại"
   ]
  },
  {
   "cell_type": "markdown",
   "id": "d843c1de",
   "metadata": {},
   "source": [
    "### **Vẽ biểu đồ boxplot**"
   ]
  },
  {
   "cell_type": "code",
   "execution_count": null,
   "id": "094bb2ea",
   "metadata": {},
   "outputs": [],
   "source": [
    "# Vẽ biểu đồ box plot cho thuộc tính giá sản phẩm"
   ]
  },
  {
   "cell_type": "code",
   "execution_count": null,
   "id": "5330c405",
   "metadata": {},
   "outputs": [],
   "source": [
    "sns.box"
   ]
  },
  {
   "cell_type": "code",
   "execution_count": null,
   "id": "0e767a0f",
   "metadata": {},
   "outputs": [],
   "source": []
  },
  {
   "cell_type": "code",
   "execution_count": null,
   "id": "9e721bc3",
   "metadata": {},
   "outputs": [],
   "source": []
  },
  {
   "cell_type": "code",
   "execution_count": null,
   "id": "623dac9d",
   "metadata": {},
   "outputs": [],
   "source": []
  },
  {
   "cell_type": "code",
   "execution_count": null,
   "id": "a65d340b",
   "metadata": {},
   "outputs": [],
   "source": []
  },
  {
   "cell_type": "code",
   "execution_count": null,
   "id": "3b588987",
   "metadata": {},
   "outputs": [],
   "source": []
  },
  {
   "cell_type": "code",
   "execution_count": null,
   "id": "907bc66d",
   "metadata": {},
   "outputs": [],
   "source": []
  },
  {
   "cell_type": "code",
   "execution_count": null,
   "id": "6504adb9",
   "metadata": {},
   "outputs": [],
   "source": []
  },
  {
   "cell_type": "code",
   "execution_count": null,
   "id": "5684796a",
   "metadata": {},
   "outputs": [],
   "source": []
  },
  {
   "cell_type": "code",
   "execution_count": null,
   "id": "3cad68f1",
   "metadata": {},
   "outputs": [],
   "source": []
  },
  {
   "cell_type": "code",
   "execution_count": null,
   "id": "92dcb66a",
   "metadata": {},
   "outputs": [],
   "source": []
  },
  {
   "cell_type": "code",
   "execution_count": null,
   "id": "6ba73a6b",
   "metadata": {},
   "outputs": [],
   "source": []
  },
  {
   "cell_type": "code",
   "execution_count": null,
   "id": "20b2181f",
   "metadata": {},
   "outputs": [],
   "source": []
  },
  {
   "cell_type": "code",
   "execution_count": null,
   "id": "da46726e",
   "metadata": {},
   "outputs": [],
   "source": []
  },
  {
   "cell_type": "code",
   "execution_count": null,
   "id": "ae6dc746",
   "metadata": {},
   "outputs": [],
   "source": []
  },
  {
   "cell_type": "code",
   "execution_count": null,
   "id": "a083faf1",
   "metadata": {},
   "outputs": [],
   "source": []
  },
  {
   "cell_type": "code",
   "execution_count": null,
   "id": "91ef6d62",
   "metadata": {},
   "outputs": [],
   "source": []
  },
  {
   "cell_type": "code",
   "execution_count": null,
   "id": "dab78d69",
   "metadata": {},
   "outputs": [],
   "source": []
  },
  {
   "cell_type": "code",
   "execution_count": null,
   "id": "3aa83220",
   "metadata": {},
   "outputs": [],
   "source": []
  }
 ],
 "metadata": {
  "kernelspec": {
   "display_name": "Python 3 (ipykernel)",
   "language": "python",
   "name": "python3"
  },
  "language_info": {
   "codemirror_mode": {
    "name": "ipython",
    "version": 3
   },
   "file_extension": ".py",
   "mimetype": "text/x-python",
   "name": "python",
   "nbconvert_exporter": "python",
   "pygments_lexer": "ipython3",
   "version": "3.9.7"
  }
 },
 "nbformat": 4,
 "nbformat_minor": 5
}
