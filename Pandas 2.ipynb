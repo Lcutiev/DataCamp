{
 "cells": [
  {
   "cell_type": "markdown",
   "id": "4e1b32e2",
   "metadata": {},
   "source": [
    "# THỰC HÀNH\n",
    "\n",
    "#### Thực hiện các yêu cầu sau: \n",
    "    \n",
    "- Tìm số lớn nhất? \n",
    "- Tìm số bé nhất? \n",
    "- Số lượng số nhỏ hơn giá trị trung bình? \n",
    "- Số lượng số lớn hơn giá trị trung bình? \n",
    "- Số lần xuất hiện của các số trong Series? \n",
    "- Tính số lượng số chẵn? \n",
    "- Tính số lượng số lẻ? \n",
    "- Tính số lượng số dương?"
   ]
  },
  {
   "cell_type": "code",
   "execution_count": 5,
   "id": "db97329a",
   "metadata": {},
   "outputs": [],
   "source": [
    "import random\n",
    "\n",
    "import pandas as pd"
   ]
  },
  {
   "cell_type": "code",
   "execution_count": 19,
   "id": "10b51aa6",
   "metadata": {},
   "outputs": [
    {
     "data": {
      "text/plain": [
       "array([77, 35, 59, 46, 53, 30, 85, 77, 28, 22, 86, 45, 46,  1, 80, 36, 20,\n",
       "        7, 85, 97, 32, 16, 67, 87, 15, 97, 85, 46, 20, 46, 84, 65, 43,  7,\n",
       "       60, 47, 61, 51, 22,  8, 54, 15, 58, 24, 59, 91,  0, 66, 57, 62, 70,\n",
       "       97, 15, 60, 54, 28, 18, 21, 48, 15, 53, 55, 39, 32, 92, 35, 55, 41,\n",
       "       20, 52, 33, 23, 69, 20, 80, 20, 65, 51, 71, 26, 47, 94, 54, 72, 69,\n",
       "       72, 44, 65, 75, 71, 42, 50, 67, 88, 24, 58, 52, 82, 98, 68],\n",
       "      dtype=int64)"
      ]
     },
     "execution_count": 19,
     "metadata": {},
     "output_type": "execute_result"
    }
   ],
   "source": [
    "numbers = [i for i in range(100)]\n",
    "\n",
    "data = pd.Series([random.choice(numbers) for _ in range(100)])\n",
    "\n",
    "data.values"
   ]
  },
  {
   "cell_type": "code",
   "execution_count": 20,
   "id": "8444c5c0",
   "metadata": {},
   "outputs": [
    {
     "data": {
      "text/plain": [
       "array([77, 35, 59, 46, 53, 30, 85, 77, 28, 22, 86, 45, 46,  1, 80, 36, 20,\n",
       "        7, 85, 97, 32, 16, 67, 87, 15, 97, 85, 46, 20, 46, 84, 65, 43,  7,\n",
       "       60, 47, 61, 51, 22,  8, 54, 15, 58, 24, 59, 91,  0, 66, 57, 62, 70,\n",
       "       97, 15, 60, 54, 28, 18, 21, 48, 15, 53, 55, 39, 32, 92, 35, 55, 41,\n",
       "       20, 52, 33, 23, 69, 20, 80, 20, 65, 51, 71, 26, 47, 94, 54, 72, 69,\n",
       "       72, 44, 65, 75, 71, 42, 50, 67, 88, 24, 58, 52, 82, 98, 68],\n",
       "      dtype=int64)"
      ]
     },
     "execution_count": 20,
     "metadata": {},
     "output_type": "execute_result"
    }
   ],
   "source": [
    "data.values"
   ]
  },
  {
   "cell_type": "code",
   "execution_count": 4,
   "id": "2e76f7eb",
   "metadata": {},
   "outputs": [
    {
     "data": {
      "text/plain": [
       "0      9\n",
       "1     60\n",
       "2     45\n",
       "3     34\n",
       "4     89\n",
       "      ..\n",
       "95    24\n",
       "96     3\n",
       "97    32\n",
       "98    97\n",
       "99    12\n",
       "Length: 100, dtype: int64"
      ]
     },
     "execution_count": 4,
     "metadata": {},
     "output_type": "execute_result"
    }
   ],
   "source": [
    "data"
   ]
  },
  {
   "cell_type": "markdown",
   "id": "ba96cdd8",
   "metadata": {},
   "source": [
    "### Label vs. Location\n",
    "\n",
    "#### The main distinction between the two methods is:\n",
    "\n",
    "- loc gets rows (and/or columns) with particular labels.\n",
    "\n",
    "- iloc gets rows (and/or columns) at integer locations.\n"
   ]
  },
  {
   "cell_type": "code",
   "execution_count": null,
   "id": "3e57d308",
   "metadata": {},
   "outputs": [],
   "source": [
    "s = pd.Series(list(\"abcdef\"), index=[49, 48, 47, 0, 1, 2]) \n",
    "49    a\n",
    "48    b\n",
    "47    c\n",
    "0     d\n",
    "1     e\n",
    "2     f\n",
    "\n",
    ">>> s.loc[0]    # value at index label 0\n",
    "'d'\n",
    "\n",
    ">>> s.iloc[0]   # value at index location 0\n",
    "'a'\n",
    "\n",
    ">>> s.loc[0:1]  # rows at index labels between 0 and 1 (inclusive)\n",
    "0    d\n",
    "1    e\n",
    "\n",
    ">>> s.iloc[0:1] # rows at index location between 0 and 1 (exclusive)\n",
    "49    a"
   ]
  },
  {
   "cell_type": "code",
   "execution_count": 10,
   "id": "93f81ceb",
   "metadata": {},
   "outputs": [
    {
     "data": {
      "text/plain": [
       "49    a\n",
       "48    b\n",
       "47    c\n",
       "0     d\n",
       "1     e\n",
       "2     f\n",
       "dtype: object"
      ]
     },
     "execution_count": 10,
     "metadata": {},
     "output_type": "execute_result"
    }
   ],
   "source": [
    "s = pd.Series(list(\"abcdef\"), index=[49, 48, 47, 0, 1, 2])\n",
    "s"
   ]
  },
  {
   "cell_type": "code",
   "execution_count": 11,
   "id": "871209c1",
   "metadata": {},
   "outputs": [
    {
     "data": {
      "text/plain": [
       "'d'"
      ]
     },
     "execution_count": 11,
     "metadata": {},
     "output_type": "execute_result"
    }
   ],
   "source": [
    "s.loc[0] # value at index label 0"
   ]
  },
  {
   "cell_type": "code",
   "execution_count": 12,
   "id": "7bbe2b12",
   "metadata": {},
   "outputs": [
    {
     "data": {
      "text/plain": [
       "'a'"
      ]
     },
     "execution_count": 12,
     "metadata": {},
     "output_type": "execute_result"
    }
   ],
   "source": [
    "s.iloc[0] # value at index location 0"
   ]
  },
  {
   "cell_type": "code",
   "execution_count": 16,
   "id": "b8d508c7",
   "metadata": {},
   "outputs": [
    {
     "data": {
      "text/plain": [
       "0    d\n",
       "1    e\n",
       "dtype: object"
      ]
     },
     "execution_count": 16,
     "metadata": {},
     "output_type": "execute_result"
    }
   ],
   "source": [
    "s.loc[0:1]  # rows at index labels between 0 and 1 (inclusive)"
   ]
  },
  {
   "cell_type": "code",
   "execution_count": 17,
   "id": "ca7b0ce1",
   "metadata": {},
   "outputs": [
    {
     "data": {
      "text/plain": [
       "49    a\n",
       "dtype: object"
      ]
     },
     "execution_count": 17,
     "metadata": {},
     "output_type": "execute_result"
    }
   ],
   "source": [
    "s[0:1]"
   ]
  },
  {
   "cell_type": "code",
   "execution_count": 13,
   "id": "8f2b5ff6",
   "metadata": {},
   "outputs": [
    {
     "data": {
      "text/plain": [
       "0    a\n",
       "1    b\n",
       "2    c\n",
       "3    d\n",
       "4    e\n",
       "5    f\n",
       "dtype: object"
      ]
     },
     "execution_count": 13,
     "metadata": {},
     "output_type": "execute_result"
    }
   ],
   "source": [
    "x = pd.Series(list(\"abcdef\"))\n",
    "x"
   ]
  },
  {
   "cell_type": "code",
   "execution_count": 14,
   "id": "cee887bf",
   "metadata": {},
   "outputs": [
    {
     "data": {
      "text/plain": [
       "'a'"
      ]
     },
     "execution_count": 14,
     "metadata": {},
     "output_type": "execute_result"
    }
   ],
   "source": [
    "x.loc[0]"
   ]
  },
  {
   "cell_type": "code",
   "execution_count": 15,
   "id": "9efc67ab",
   "metadata": {},
   "outputs": [
    {
     "data": {
      "text/plain": [
       "'a'"
      ]
     },
     "execution_count": 15,
     "metadata": {},
     "output_type": "execute_result"
    }
   ],
   "source": [
    "x.iloc[0]"
   ]
  },
  {
   "cell_type": "code",
   "execution_count": 22,
   "id": "b3455226",
   "metadata": {},
   "outputs": [
    {
     "name": "stdout",
     "output_type": "stream",
     "text": [
      "98 0\n"
     ]
    }
   ],
   "source": [
    "# Tìm số lớn nhất, nhỏ nhất\n",
    "max_val = data.loc[0]\n",
    "min_val = data.loc[0]\n",
    "\n",
    "# Using value at index label 0\n",
    "for i in data.values:\n",
    "    if i > max_val:\n",
    "        max_val = i\n",
    "    if i < min_val:\n",
    "        min_val = i\n",
    "        \n",
    "print(max_val,min_val)"
   ]
  },
  {
   "cell_type": "code",
   "execution_count": 24,
   "id": "3d38e7f5",
   "metadata": {},
   "outputs": [
    {
     "data": {
      "text/plain": [
       "RangeIndex(start=0, stop=100, step=1)"
      ]
     },
     "execution_count": 24,
     "metadata": {},
     "output_type": "execute_result"
    }
   ],
   "source": [
    "data.index"
   ]
  },
  {
   "cell_type": "code",
   "execution_count": 33,
   "id": "865e4e2c",
   "metadata": {},
   "outputs": [
    {
     "name": "stdout",
     "output_type": "stream",
     "text": [
      "98 0\n"
     ]
    }
   ],
   "source": [
    "# Tìm số lớn nhất, nhỏ nhất\n",
    "max_val = data.loc[0]\n",
    "min_val = data.loc[0]\n",
    "\n",
    "# convert data.index về list -> list(data.index)\n",
    "for i in list(data.index):\n",
    "    if max_val < data.loc[i]:\n",
    "        max_val = data.loc[i]\n",
    "    if min_val > data.loc[i]:\n",
    "        min_val = data.loc[i]\n",
    "        \n",
    "print(max_val,min_val)"
   ]
  },
  {
   "cell_type": "code",
   "execution_count": 42,
   "id": "b5170a54",
   "metadata": {},
   "outputs": [
    {
     "data": {
      "text/plain": [
       "[(0, 77),\n",
       " (1, 35),\n",
       " (2, 59),\n",
       " (3, 46),\n",
       " (4, 53),\n",
       " (5, 30),\n",
       " (6, 85),\n",
       " (7, 77),\n",
       " (8, 28),\n",
       " (9, 22),\n",
       " (10, 86),\n",
       " (11, 45),\n",
       " (12, 46),\n",
       " (13, 1),\n",
       " (14, 80),\n",
       " (15, 36),\n",
       " (16, 20),\n",
       " (17, 7),\n",
       " (18, 85),\n",
       " (19, 97),\n",
       " (20, 32),\n",
       " (21, 16),\n",
       " (22, 67),\n",
       " (23, 87),\n",
       " (24, 15),\n",
       " (25, 97),\n",
       " (26, 85),\n",
       " (27, 46),\n",
       " (28, 20),\n",
       " (29, 46),\n",
       " (30, 84),\n",
       " (31, 65),\n",
       " (32, 43),\n",
       " (33, 7),\n",
       " (34, 60),\n",
       " (35, 47),\n",
       " (36, 61),\n",
       " (37, 51),\n",
       " (38, 22),\n",
       " (39, 8),\n",
       " (40, 54),\n",
       " (41, 15),\n",
       " (42, 58),\n",
       " (43, 24),\n",
       " (44, 59),\n",
       " (45, 91),\n",
       " (46, 0),\n",
       " (47, 66),\n",
       " (48, 57),\n",
       " (49, 62),\n",
       " (50, 70),\n",
       " (51, 97),\n",
       " (52, 15),\n",
       " (53, 60),\n",
       " (54, 54),\n",
       " (55, 28),\n",
       " (56, 18),\n",
       " (57, 21),\n",
       " (58, 48),\n",
       " (59, 15),\n",
       " (60, 53),\n",
       " (61, 55),\n",
       " (62, 39),\n",
       " (63, 32),\n",
       " (64, 92),\n",
       " (65, 35),\n",
       " (66, 55),\n",
       " (67, 41),\n",
       " (68, 20),\n",
       " (69, 52),\n",
       " (70, 33),\n",
       " (71, 23),\n",
       " (72, 69),\n",
       " (73, 20),\n",
       " (74, 80),\n",
       " (75, 20),\n",
       " (76, 65),\n",
       " (77, 51),\n",
       " (78, 71),\n",
       " (79, 26),\n",
       " (80, 47),\n",
       " (81, 94),\n",
       " (82, 54),\n",
       " (83, 72),\n",
       " (84, 69),\n",
       " (85, 72),\n",
       " (86, 44),\n",
       " (87, 65),\n",
       " (88, 75),\n",
       " (89, 71),\n",
       " (90, 42),\n",
       " (91, 50),\n",
       " (92, 67),\n",
       " (93, 88),\n",
       " (94, 24),\n",
       " (95, 58),\n",
       " (96, 52),\n",
       " (97, 82),\n",
       " (98, 98),\n",
       " (99, 68)]"
      ]
     },
     "execution_count": 42,
     "metadata": {},
     "output_type": "execute_result"
    }
   ],
   "source": [
    "list(data.items())"
   ]
  },
  {
   "cell_type": "code",
   "execution_count": 36,
   "id": "50ae32f4",
   "metadata": {},
   "outputs": [
    {
     "name": "stdout",
     "output_type": "stream",
     "text": [
      "98 0\n"
     ]
    }
   ],
   "source": [
    "# Tìm số lớn nhất, nhỏ nhất\n",
    "max_val = data.loc[0]\n",
    "min_val = data.loc[0]\n",
    "\n",
    "for index, val in list(data.items()):\n",
    "    if max_val < val:\n",
    "        max_val = val\n",
    "    if min_val > val:\n",
    "        min_val = val\n",
    "        \n",
    "print(max_val,min_val)"
   ]
  },
  {
   "cell_type": "code",
   "execution_count": 37,
   "id": "9e4a3e5c",
   "metadata": {},
   "outputs": [
    {
     "data": {
      "text/plain": [
       "<bound method Series.count of 0     77\n",
       "1     35\n",
       "2     59\n",
       "3     46\n",
       "4     53\n",
       "      ..\n",
       "95    58\n",
       "96    52\n",
       "97    82\n",
       "98    98\n",
       "99    68\n",
       "Length: 100, dtype: int64>"
      ]
     },
     "execution_count": 37,
     "metadata": {},
     "output_type": "execute_result"
    }
   ],
   "source": [
    "data.count"
   ]
  },
  {
   "cell_type": "code",
   "execution_count": 30,
   "id": "b634af00",
   "metadata": {},
   "outputs": [
    {
     "data": {
      "text/plain": [
       "range(0, 100)"
      ]
     },
     "execution_count": 30,
     "metadata": {},
     "output_type": "execute_result"
    }
   ],
   "source": [
    "range(data.count())"
   ]
  },
  {
   "cell_type": "code",
   "execution_count": 38,
   "id": "e5e10209",
   "metadata": {},
   "outputs": [
    {
     "data": {
      "text/plain": [
       "100"
      ]
     },
     "execution_count": 38,
     "metadata": {},
     "output_type": "execute_result"
    }
   ],
   "source": [
    "len(data)"
   ]
  },
  {
   "cell_type": "code",
   "execution_count": 39,
   "id": "4823de62",
   "metadata": {},
   "outputs": [
    {
     "name": "stdout",
     "output_type": "stream",
     "text": [
      "98 0\n"
     ]
    }
   ],
   "source": [
    "# Tìm số lớn nhất, nhỏ nhất\n",
    "max_val = data.loc[0]\n",
    "min_val = data.loc[0]\n",
    "\n",
    "for i in range(data.count()):\n",
    "    if max_val < data.iloc[i]:\n",
    "        max_val = data.iloc[i]\n",
    "    if min_val > data.iloc[i]:\n",
    "        min_val = data.iloc[i]\n",
    "    \n",
    "print(max_val, min_val)"
   ]
  },
  {
   "cell_type": "code",
   "execution_count": 40,
   "id": "c1b7928c",
   "metadata": {},
   "outputs": [
    {
     "data": {
      "text/plain": [
       "0"
      ]
     },
     "execution_count": 40,
     "metadata": {},
     "output_type": "execute_result"
    }
   ],
   "source": [
    "data.min()"
   ]
  },
  {
   "cell_type": "code",
   "execution_count": 41,
   "id": "77844646",
   "metadata": {},
   "outputs": [
    {
     "data": {
      "text/plain": [
       "98"
      ]
     },
     "execution_count": 41,
     "metadata": {},
     "output_type": "execute_result"
    }
   ],
   "source": [
    "data.max()"
   ]
  },
  {
   "cell_type": "code",
   "execution_count": 43,
   "id": "c29432ac",
   "metadata": {},
   "outputs": [
    {
     "name": "stdout",
     "output_type": "stream",
     "text": [
      "98\n",
      "0\n"
     ]
    }
   ],
   "source": [
    "print(max(data))\n",
    "print(min(data))\n"
   ]
  },
  {
   "cell_type": "code",
   "execution_count": 45,
   "id": "05ed5f09",
   "metadata": {},
   "outputs": [
    {
     "data": {
      "text/plain": [
       "51.1"
      ]
     },
     "execution_count": 45,
     "metadata": {},
     "output_type": "execute_result"
    }
   ],
   "source": [
    "# Gía trị trung bình\n",
    "data.mean()"
   ]
  },
  {
   "cell_type": "code",
   "execution_count": 46,
   "id": "9a73bb53",
   "metadata": {},
   "outputs": [
    {
     "name": "stdout",
     "output_type": "stream",
     "text": [
      "52 48\n"
     ]
    }
   ],
   "source": [
    "above_mean = 0\n",
    "below_mean = 0\n",
    "mean_val = data.mean()\n",
    "\n",
    "for i in range(data.count()):\n",
    "    if data.iloc[i] > mean_val:\n",
    "        above_mean += 1\n",
    "    else:\n",
    "        below_mean += 1\n",
    "print(above_mean, below_mean)"
   ]
  },
  {
   "cell_type": "code",
   "execution_count": 44,
   "id": "a51461aa",
   "metadata": {},
   "outputs": [
    {
     "name": "stdout",
     "output_type": "stream",
     "text": [
      "Số lần xuất hiện của các số trong Series 20    5\n",
      "15    4\n",
      "46    4\n",
      "54    3\n",
      "65    3\n",
      "     ..\n",
      "57    1\n",
      "62    1\n",
      "70    1\n",
      "18    1\n",
      "68    1\n",
      "Length: 62, dtype: int64\n"
     ]
    }
   ],
   "source": [
    "# Số lần xuất hiện của các số trong Series?\n",
    "count = pd.Series(data).value_counts()\n",
    "print(\"Số lần xuất hiện của các số trong Series\",count)"
   ]
  },
  {
   "cell_type": "code",
   "execution_count": 47,
   "id": "cb53ea27",
   "metadata": {},
   "outputs": [
    {
     "data": {
      "text/plain": [
       "{20: 5,\n",
       " 15: 4,\n",
       " 46: 4,\n",
       " 54: 3,\n",
       " 65: 3,\n",
       " 85: 3,\n",
       " 97: 3,\n",
       " 7: 2,\n",
       " 22: 2,\n",
       " 24: 2,\n",
       " 28: 2,\n",
       " 32: 2,\n",
       " 35: 2,\n",
       " 47: 2,\n",
       " 51: 2,\n",
       " 52: 2,\n",
       " 53: 2,\n",
       " 55: 2,\n",
       " 58: 2,\n",
       " 59: 2,\n",
       " 60: 2,\n",
       " 67: 2,\n",
       " 69: 2,\n",
       " 71: 2,\n",
       " 72: 2,\n",
       " 77: 2,\n",
       " 80: 2,\n",
       " 0: 1,\n",
       " 1: 1,\n",
       " 8: 1,\n",
       " 16: 1,\n",
       " 18: 1,\n",
       " 21: 1,\n",
       " 23: 1,\n",
       " 26: 1,\n",
       " 30: 1,\n",
       " 33: 1,\n",
       " 36: 1,\n",
       " 39: 1,\n",
       " 41: 1,\n",
       " 42: 1,\n",
       " 43: 1,\n",
       " 44: 1,\n",
       " 45: 1,\n",
       " 48: 1,\n",
       " 50: 1,\n",
       " 57: 1,\n",
       " 61: 1,\n",
       " 62: 1,\n",
       " 66: 1,\n",
       " 68: 1,\n",
       " 70: 1,\n",
       " 75: 1,\n",
       " 82: 1,\n",
       " 84: 1,\n",
       " 86: 1,\n",
       " 87: 1,\n",
       " 88: 1,\n",
       " 91: 1,\n",
       " 92: 1,\n",
       " 94: 1,\n",
       " 98: 1,\n",
       " 2: 0,\n",
       " 3: 0,\n",
       " 4: 0,\n",
       " 5: 0,\n",
       " 6: 0,\n",
       " 9: 0,\n",
       " 10: 0,\n",
       " 11: 0,\n",
       " 12: 0,\n",
       " 13: 0,\n",
       " 14: 0,\n",
       " 17: 0,\n",
       " 19: 0,\n",
       " 25: 0,\n",
       " 27: 0,\n",
       " 29: 0,\n",
       " 31: 0,\n",
       " 34: 0,\n",
       " 37: 0,\n",
       " 38: 0,\n",
       " 40: 0,\n",
       " 49: 0,\n",
       " 56: 0,\n",
       " 63: 0,\n",
       " 64: 0,\n",
       " 73: 0,\n",
       " 74: 0,\n",
       " 76: 0,\n",
       " 78: 0,\n",
       " 79: 0,\n",
       " 81: 0,\n",
       " 83: 0,\n",
       " 89: 0,\n",
       " 90: 0,\n",
       " 93: 0,\n",
       " 95: 0,\n",
       " 96: 0,\n",
       " 99: 0}"
      ]
     },
     "execution_count": 47,
     "metadata": {},
     "output_type": "execute_result"
    }
   ],
   "source": [
    "# Tìm tần số xuất hiện của các phần tử trong Series\n",
    "dicts= {i: 0 for i in range(100)}\n",
    "\n",
    "for i in range(data.count()):\n",
    "    if data.iloc[i] in dicts.keys():\n",
    "        dicts[data.iloc[i]] += 1\n",
    "result = sorted(dicts.items(),key=lambda x: x[1], reverse=True)\n",
    "result = dict(result)\n",
    "result"
   ]
  },
  {
   "cell_type": "code",
   "execution_count": 48,
   "id": "785d40d8",
   "metadata": {},
   "outputs": [
    {
     "name": "stdout",
     "output_type": "stream",
     "text": [
      "Số chẵn: 52\n",
      "Số lẽ: 48\n"
     ]
    }
   ],
   "source": [
    "# Tính số lượng số chẵn? # Tính số lượng số lẻ?\n",
    "even_count, odd_count = 0,0\n",
    "\n",
    "for num in data.values:\n",
    "    if num % 2 == 0:\n",
    "        even_count +=1\n",
    "    else:\n",
    "        odd_count += 1\n",
    "print(\"Số chẵn:\", even_count)\n",
    "print(\"Số lẽ:\", odd_count)"
   ]
  },
  {
   "cell_type": "code",
   "execution_count": null,
   "id": "dc012ea2",
   "metadata": {},
   "outputs": [],
   "source": []
  }
 ],
 "metadata": {
  "kernelspec": {
   "display_name": "Python 3 (ipykernel)",
   "language": "python",
   "name": "python3"
  },
  "language_info": {
   "codemirror_mode": {
    "name": "ipython",
    "version": 3
   },
   "file_extension": ".py",
   "mimetype": "text/x-python",
   "name": "python",
   "nbconvert_exporter": "python",
   "pygments_lexer": "ipython3",
   "version": "3.9.7"
  }
 },
 "nbformat": 4,
 "nbformat_minor": 5
}
